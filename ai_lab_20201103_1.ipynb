{
  "nbformat": 4,
  "nbformat_minor": 0,
  "metadata": {
    "colab": {
      "name": "ai_lab_20201103-1.ipynb",
      "provenance": [],
      "collapsed_sections": [],
      "authorship_tag": "ABX9TyP9zmoC8yXd7DVaXD3U03Oc",
      "include_colab_link": true
    },
    "kernelspec": {
      "name": "python3",
      "display_name": "Python 3"
    },
    "accelerator": "GPU"
  },
  "cells": [
    {
      "cell_type": "markdown",
      "metadata": {
        "id": "view-in-github",
        "colab_type": "text"
      },
      "source": [
        "<a href=\"https://colab.research.google.com/github/svperbeast/ai_lab/blob/main/ai_lab_20201103_1.ipynb\" target=\"_parent\"><img src=\"https://colab.research.google.com/assets/colab-badge.svg\" alt=\"Open In Colab\"/></a>"
      ]
    },
    {
      "cell_type": "code",
      "metadata": {
        "id": "FS0F4mi2vTlV"
      },
      "source": [
        "import torch\n",
        "import torch.nn as nn"
      ],
      "execution_count": 1,
      "outputs": []
    },
    {
      "cell_type": "code",
      "metadata": {
        "id": "O6rESCkfwNRJ",
        "outputId": "85fd4521-8455-4d32-9aa3-c260b27d7994",
        "colab": {
          "base_uri": "https://localhost:8080/"
        }
      },
      "source": [
        "USE_CUDA = torch.cuda.is_available()\n",
        "print(USE_CUDA)"
      ],
      "execution_count": 2,
      "outputs": [
        {
          "output_type": "stream",
          "text": [
            "True\n"
          ],
          "name": "stdout"
        }
      ]
    },
    {
      "cell_type": "code",
      "metadata": {
        "id": "ugqPfl8JwsqU"
      },
      "source": [
        "DEVICE = torch.device('cuda' if USE_CUDA else 'cpu')"
      ],
      "execution_count": 3,
      "outputs": []
    },
    {
      "cell_type": "code",
      "metadata": {
        "id": "XOpmb6lgw0t-"
      },
      "source": [
        "X = torch.FloatTensor([[0, 0], [0, 1], [1, 0], [1, 1]]).to(DEVICE)\n",
        "Y = torch.FloatTensor([[0], [1], [1], [0]]).to(DEVICE)"
      ],
      "execution_count": 4,
      "outputs": []
    },
    {
      "cell_type": "code",
      "metadata": {
        "id": "GIr209XDxS5b",
        "outputId": "c158f99c-3e55-48b5-9e9e-4d875982afcb",
        "colab": {
          "base_uri": "https://localhost:8080/"
        }
      },
      "source": [
        "X"
      ],
      "execution_count": 5,
      "outputs": [
        {
          "output_type": "execute_result",
          "data": {
            "text/plain": [
              "tensor([[0., 0.],\n",
              "        [0., 1.],\n",
              "        [1., 0.],\n",
              "        [1., 1.]], device='cuda:0')"
            ]
          },
          "metadata": {
            "tags": []
          },
          "execution_count": 5
        }
      ]
    },
    {
      "cell_type": "code",
      "metadata": {
        "id": "Dnascu7pxWR1",
        "outputId": "91663185-01ab-4b98-944b-336fe30110e2",
        "colab": {
          "base_uri": "https://localhost:8080/"
        }
      },
      "source": [
        "Y"
      ],
      "execution_count": 6,
      "outputs": [
        {
          "output_type": "execute_result",
          "data": {
            "text/plain": [
              "tensor([[0.],\n",
              "        [1.],\n",
              "        [1.],\n",
              "        [0.]], device='cuda:0')"
            ]
          },
          "metadata": {
            "tags": []
          },
          "execution_count": 6
        }
      ]
    },
    {
      "cell_type": "code",
      "metadata": {
        "id": "eoAVv8eWxXKt"
      },
      "source": [
        "model = nn.Sequential(\n",
        "    nn.Linear(2, 4, bias=True),\n",
        "    nn.Sigmoid(),\n",
        "    nn.Linear(4, 1, bias=True),\n",
        "    nn.Sigmoid()\n",
        ").to(DEVICE)"
      ],
      "execution_count": 15,
      "outputs": []
    },
    {
      "cell_type": "code",
      "metadata": {
        "id": "FqS0WdBfyQqK",
        "outputId": "c7418264-db0a-4304-d2e5-d4009abf3290",
        "colab": {
          "base_uri": "https://localhost:8080/"
        }
      },
      "source": [
        "model"
      ],
      "execution_count": 16,
      "outputs": [
        {
          "output_type": "execute_result",
          "data": {
            "text/plain": [
              "Sequential(\n",
              "  (0): Linear(in_features=2, out_features=4, bias=True)\n",
              "  (1): Sigmoid()\n",
              "  (2): Linear(in_features=4, out_features=1, bias=True)\n",
              "  (3): Sigmoid()\n",
              ")"
            ]
          },
          "metadata": {
            "tags": []
          },
          "execution_count": 16
        }
      ]
    },
    {
      "cell_type": "code",
      "metadata": {
        "id": "6BnvEIsEyrXj"
      },
      "source": [
        "# Binary Cross Entropy Loss\n",
        "criterion = torch.nn.BCELoss().to(DEVICE)"
      ],
      "execution_count": 17,
      "outputs": []
    },
    {
      "cell_type": "code",
      "metadata": {
        "id": "LpmvtRNEzFIR"
      },
      "source": [
        "# Stochastic Gradient Descent\n",
        "optimizer = torch.optim.SGD(model.parameters(), lr=0.1)"
      ],
      "execution_count": 18,
      "outputs": []
    },
    {
      "cell_type": "code",
      "metadata": {
        "id": "Wi4-7YDr7DDu",
        "outputId": "ca430b7f-63a8-4505-c8bb-0aa73a87308a",
        "colab": {
          "base_uri": "https://localhost:8080/"
        }
      },
      "source": [
        "optimizer"
      ],
      "execution_count": 22,
      "outputs": [
        {
          "output_type": "execute_result",
          "data": {
            "text/plain": [
              "SGD (\n",
              "Parameter Group 0\n",
              "    dampening: 0\n",
              "    lr: 0.1\n",
              "    momentum: 0\n",
              "    nesterov: False\n",
              "    weight_decay: 0\n",
              ")"
            ]
          },
          "metadata": {
            "tags": []
          },
          "execution_count": 22
        }
      ]
    },
    {
      "cell_type": "code",
      "metadata": {
        "id": "XXBUgVL3zbDJ",
        "outputId": "77bda4a6-3b52-43f6-d6ea-c0aaec31d53e",
        "colab": {
          "base_uri": "https://localhost:8080/"
        }
      },
      "source": [
        "niters = 10000\n",
        "for step in range(niters):\n",
        "\n",
        "  optimizer.zero_grad()\n",
        "  hypothesis = model(X)\n",
        "\n",
        "  cost = criterion(hypothesis, Y)\n",
        "  cost.backward()\n",
        "\n",
        "  optimizer.step()\n",
        "\n",
        "  if step % 100 == 0:\n",
        "    print(\"step: {} cost: {:.4f}\".format(step, cost.item()))"
      ],
      "execution_count": 20,
      "outputs": [
        {
          "output_type": "stream",
          "text": [
            "step: 0 cost: 0.0200\n",
            "step: 100 cost: 0.0196\n",
            "step: 200 cost: 0.0192\n",
            "step: 300 cost: 0.0188\n",
            "step: 400 cost: 0.0184\n",
            "step: 500 cost: 0.0181\n",
            "step: 600 cost: 0.0177\n",
            "step: 700 cost: 0.0174\n",
            "step: 800 cost: 0.0170\n",
            "step: 900 cost: 0.0167\n",
            "step: 1000 cost: 0.0164\n",
            "step: 1100 cost: 0.0161\n",
            "step: 1200 cost: 0.0159\n",
            "step: 1300 cost: 0.0156\n",
            "step: 1400 cost: 0.0153\n",
            "step: 1500 cost: 0.0151\n",
            "step: 1600 cost: 0.0148\n",
            "step: 1700 cost: 0.0146\n",
            "step: 1800 cost: 0.0144\n",
            "step: 1900 cost: 0.0141\n",
            "step: 2000 cost: 0.0139\n",
            "step: 2100 cost: 0.0137\n",
            "step: 2200 cost: 0.0135\n",
            "step: 2300 cost: 0.0133\n",
            "step: 2400 cost: 0.0131\n",
            "step: 2500 cost: 0.0129\n",
            "step: 2600 cost: 0.0127\n",
            "step: 2700 cost: 0.0126\n",
            "step: 2800 cost: 0.0124\n",
            "step: 2900 cost: 0.0122\n",
            "step: 3000 cost: 0.0120\n",
            "step: 3100 cost: 0.0119\n",
            "step: 3200 cost: 0.0117\n",
            "step: 3300 cost: 0.0116\n",
            "step: 3400 cost: 0.0114\n",
            "step: 3500 cost: 0.0113\n",
            "step: 3600 cost: 0.0111\n",
            "step: 3700 cost: 0.0110\n",
            "step: 3800 cost: 0.0109\n",
            "step: 3900 cost: 0.0107\n",
            "step: 4000 cost: 0.0106\n",
            "step: 4100 cost: 0.0105\n",
            "step: 4200 cost: 0.0104\n",
            "step: 4300 cost: 0.0102\n",
            "step: 4400 cost: 0.0101\n",
            "step: 4500 cost: 0.0100\n",
            "step: 4600 cost: 0.0099\n",
            "step: 4700 cost: 0.0098\n",
            "step: 4800 cost: 0.0097\n",
            "step: 4900 cost: 0.0096\n",
            "step: 5000 cost: 0.0095\n",
            "step: 5100 cost: 0.0094\n",
            "step: 5200 cost: 0.0093\n",
            "step: 5300 cost: 0.0092\n",
            "step: 5400 cost: 0.0091\n",
            "step: 5500 cost: 0.0090\n",
            "step: 5600 cost: 0.0089\n",
            "step: 5700 cost: 0.0088\n",
            "step: 5800 cost: 0.0087\n",
            "step: 5900 cost: 0.0086\n",
            "step: 6000 cost: 0.0086\n",
            "step: 6100 cost: 0.0085\n",
            "step: 6200 cost: 0.0084\n",
            "step: 6300 cost: 0.0083\n",
            "step: 6400 cost: 0.0082\n",
            "step: 6500 cost: 0.0082\n",
            "step: 6600 cost: 0.0081\n",
            "step: 6700 cost: 0.0080\n",
            "step: 6800 cost: 0.0079\n",
            "step: 6900 cost: 0.0079\n",
            "step: 7000 cost: 0.0078\n",
            "step: 7100 cost: 0.0077\n",
            "step: 7200 cost: 0.0077\n",
            "step: 7300 cost: 0.0076\n",
            "step: 7400 cost: 0.0075\n",
            "step: 7500 cost: 0.0075\n",
            "step: 7600 cost: 0.0074\n",
            "step: 7700 cost: 0.0073\n",
            "step: 7800 cost: 0.0073\n",
            "step: 7900 cost: 0.0072\n",
            "step: 8000 cost: 0.0072\n",
            "step: 8100 cost: 0.0071\n",
            "step: 8200 cost: 0.0070\n",
            "step: 8300 cost: 0.0070\n",
            "step: 8400 cost: 0.0069\n",
            "step: 8500 cost: 0.0069\n",
            "step: 8600 cost: 0.0068\n",
            "step: 8700 cost: 0.0068\n",
            "step: 8800 cost: 0.0067\n",
            "step: 8900 cost: 0.0067\n",
            "step: 9000 cost: 0.0066\n",
            "step: 9100 cost: 0.0066\n",
            "step: 9200 cost: 0.0065\n",
            "step: 9300 cost: 0.0065\n",
            "step: 9400 cost: 0.0064\n",
            "step: 9500 cost: 0.0064\n",
            "step: 9600 cost: 0.0063\n",
            "step: 9700 cost: 0.0063\n",
            "step: 9800 cost: 0.0062\n",
            "step: 9900 cost: 0.0062\n"
          ],
          "name": "stdout"
        }
      ]
    },
    {
      "cell_type": "code",
      "metadata": {
        "id": "ek2hTVuo4Z_9",
        "outputId": "8099dae7-eb44-4125-a827-6b4086a87da2",
        "colab": {
          "base_uri": "https://localhost:8080/"
        }
      },
      "source": [
        "with torch.no_grad():\n",
        "  hypothesis = model(X)\n",
        "  predicted = (hypothesis > 0.5).float()\n",
        "  accuracy = (predicted == Y).float().mean()\n",
        "  print(\"model hypothesis: {}\".format(hypothesis.detach().cpu().numpy()))\n",
        "  print(\"model predicted: {}\".format(predicted.detach().cpu().numpy()))\n",
        "  print(\"Y: {}\".format(Y.cpu().numpy()))\n",
        "  print(\"accuracy: {}\".format(accuracy.item()))"
      ],
      "execution_count": 21,
      "outputs": [
        {
          "output_type": "stream",
          "text": [
            "model hypothesis: [[0.00262789]\n",
            " [0.99424595]\n",
            " [0.9925345 ]\n",
            " [0.00860749]]\n",
            "model predicted: [[0.]\n",
            " [1.]\n",
            " [1.]\n",
            " [0.]]\n",
            "Y: [[0.]\n",
            " [1.]\n",
            " [1.]\n",
            " [0.]]\n",
            "accuracy: 1.0\n"
          ],
          "name": "stdout"
        }
      ]
    },
    {
      "cell_type": "code",
      "metadata": {
        "id": "uOA-d_oh5Q2P"
      },
      "source": [
        ""
      ],
      "execution_count": null,
      "outputs": []
    }
  ]
}