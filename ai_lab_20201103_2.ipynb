{
  "nbformat": 4,
  "nbformat_minor": 0,
  "metadata": {
    "colab": {
      "name": "ai_lab_20201103-2.ipynb",
      "provenance": [],
      "authorship_tag": "ABX9TyNzkIvK66nyAuwA6XiEAtSX",
      "include_colab_link": true
    },
    "kernelspec": {
      "name": "python3",
      "display_name": "Python 3"
    },
    "accelerator": "GPU"
  },
  "cells": [
    {
      "cell_type": "markdown",
      "metadata": {
        "id": "view-in-github",
        "colab_type": "text"
      },
      "source": [
        "<a href=\"https://colab.research.google.com/github/svperbeast/ai_lab/blob/main/ai_lab_20201103_2.ipynb\" target=\"_parent\"><img src=\"https://colab.research.google.com/assets/colab-badge.svg\" alt=\"Open In Colab\"/></a>"
      ]
    },
    {
      "cell_type": "code",
      "metadata": {
        "id": "mVXhtEZE-B6L"
      },
      "source": [
        "import torch\n",
        "import torch.nn as nn\n",
        "from sklearn.datasets import make_blobs\n",
        "import matplotlib.pyplot as plt\n",
        "import numpy as np"
      ],
      "execution_count": 16,
      "outputs": []
    },
    {
      "cell_type": "code",
      "metadata": {
        "id": "4hOjNwo9CCKR"
      },
      "source": [
        "USE_CUDA = torch.cuda.is_available()\n",
        "DEVICE = torch.device('cuda' if USE_CUDA else 'cpu')"
      ],
      "execution_count": 17,
      "outputs": []
    },
    {
      "cell_type": "code",
      "metadata": {
        "id": "s3QbUSRd-h5a"
      },
      "source": [
        "x_train, y_train = make_blobs(n_samples=80,\n",
        "                               n_features=2,\n",
        "                               centers=[[0, 0], [0, 1], [1, 0], [1, 1]],\n",
        "                               cluster_std=0.15, shuffle=True)\n",
        "x_test, y_test = make_blobs(n_samples=80,\n",
        "                               n_features=2,\n",
        "                               centers=[[0, 0], [0, 1], [1, 0], [1, 1]],\n",
        "                               cluster_std=0.15, shuffle=True)"
      ],
      "execution_count": 18,
      "outputs": []
    },
    {
      "cell_type": "code",
      "metadata": {
        "id": "3l0UHsVR-64_"
      },
      "source": [
        "def label_map(y_, from_, to_):\n",
        "  y = np.copy(y_)\n",
        "  for f in from_:\n",
        "    y[y_ == f] = to_\n",
        "  return y"
      ],
      "execution_count": 19,
      "outputs": []
    },
    {
      "cell_type": "code",
      "metadata": {
        "id": "bn6DH38V-8KL"
      },
      "source": [
        "y_train = label_map(y_train, [0, 1], 0)\n",
        "y_train = label_map(y_train, [2, 3], 1)\n",
        "y_test = label_map(y_test, [0, 1], 0)\n",
        "y_test = label_map(y_test, [2, 3], 1)"
      ],
      "execution_count": 20,
      "outputs": []
    },
    {
      "cell_type": "code",
      "metadata": {
        "id": "U-0ky0F4B0Yo"
      },
      "source": [
        "x_train = torch.FloatTensor(x_train).to(DEVICE)\n",
        "x_test = torch.FloatTensor(x_test).to(DEVICE)\n",
        "y_train = torch.FloatTensor(y_train).to(DEVICE)\n",
        "y_test = torch.FloatTensor(y_test).to(DEVICE)\n",
        "\n",
        "y_train = y_train.view(-1, 1)\n",
        "y_test = y_test.view(-1, 1)"
      ],
      "execution_count": 21,
      "outputs": []
    },
    {
      "cell_type": "code",
      "metadata": {
        "id": "h-1Mao9zDKCl",
        "outputId": "6d3247bf-329b-4c59-ad25-8c6cde5bcd28",
        "colab": {
          "base_uri": "https://localhost:8080/"
        }
      },
      "source": [
        "model = nn.Sequential(\n",
        "    nn.Linear(2, 4, bias=True),\n",
        "    nn.Sigmoid(),\n",
        "    nn.Linear(4, 1, bias=True),\n",
        "    nn.Sigmoid()\n",
        ").to(DEVICE)\n",
        "\n",
        "# Binary Cross Entropy Loss\n",
        "criterion = torch.nn.BCELoss().to(DEVICE)\n",
        "\n",
        "# Stochastic Gradient Descent\n",
        "optimizer = torch.optim.SGD(model.parameters(), lr=0.1)\n",
        "\n",
        "niters = 20000\n",
        "costs = []\n",
        "for step in range(niters):\n",
        "\n",
        "  optimizer.zero_grad()\n",
        "  hypothesis = model(x_train)\n",
        "\n",
        "  cost = criterion(hypothesis, y_train)\n",
        "  cost.backward()\n",
        "\n",
        "  optimizer.step()\n",
        "\n",
        "  costs.append(cost.item())\n",
        "  if step % 500 == 0:\n",
        "    print(\"step: {} cost: {:.4f}\".format(step, cost.item()))"
      ],
      "execution_count": 27,
      "outputs": [
        {
          "output_type": "stream",
          "text": [
            "step: 0 cost: 0.6909\n",
            "step: 500 cost: 0.2490\n",
            "step: 1000 cost: 0.0711\n",
            "step: 1500 cost: 0.0378\n",
            "step: 2000 cost: 0.0253\n",
            "step: 2500 cost: 0.0189\n",
            "step: 3000 cost: 0.0150\n",
            "step: 3500 cost: 0.0124\n",
            "step: 4000 cost: 0.0106\n",
            "step: 4500 cost: 0.0092\n",
            "step: 5000 cost: 0.0082\n",
            "step: 5500 cost: 0.0073\n",
            "step: 6000 cost: 0.0066\n",
            "step: 6500 cost: 0.0061\n",
            "step: 7000 cost: 0.0056\n",
            "step: 7500 cost: 0.0052\n",
            "step: 8000 cost: 0.0048\n",
            "step: 8500 cost: 0.0045\n",
            "step: 9000 cost: 0.0042\n",
            "step: 9500 cost: 0.0040\n",
            "step: 10000 cost: 0.0038\n",
            "step: 10500 cost: 0.0036\n",
            "step: 11000 cost: 0.0034\n",
            "step: 11500 cost: 0.0032\n",
            "step: 12000 cost: 0.0031\n",
            "step: 12500 cost: 0.0030\n",
            "step: 13000 cost: 0.0028\n",
            "step: 13500 cost: 0.0027\n",
            "step: 14000 cost: 0.0026\n",
            "step: 14500 cost: 0.0025\n",
            "step: 15000 cost: 0.0024\n",
            "step: 15500 cost: 0.0024\n",
            "step: 16000 cost: 0.0023\n",
            "step: 16500 cost: 0.0022\n",
            "step: 17000 cost: 0.0021\n",
            "step: 17500 cost: 0.0021\n",
            "step: 18000 cost: 0.0020\n",
            "step: 18500 cost: 0.0019\n",
            "step: 19000 cost: 0.0019\n",
            "step: 19500 cost: 0.0018\n"
          ],
          "name": "stdout"
        }
      ]
    },
    {
      "cell_type": "code",
      "metadata": {
        "id": "sHG1WNZZGk8F",
        "outputId": "70117361-57ad-4d3b-b2ef-4573da8d034b",
        "colab": {
          "base_uri": "https://localhost:8080/",
          "height": 268
        }
      },
      "source": [
        "plt.plot(costs)\n",
        "plt.show()"
      ],
      "execution_count": 34,
      "outputs": [
        {
          "output_type": "display_data",
          "data": {
            "image/png": "[encoded data removed]",
            "text/plain": [
              "<Figure size 432x288 with 1 Axes>"
            ]
          },
          "metadata": {
            "tags": []
          }
        }
      ]
    },
    {
      "cell_type": "code",
      "metadata": {
        "id": "GJFaftddFO8K",
        "outputId": "f3ffe734-8c03-487a-b631-558ac4eba6a8",
        "colab": {
          "base_uri": "https://localhost:8080/"
        }
      },
      "source": [
        "with torch.no_grad():\n",
        "  hypothesis = model(x_test)\n",
        "  predicted = (hypothesis > 0.5).float()\n",
        "  accuracy = (predicted == y_test).float().mean()\n",
        "  # print(\"model hypothesis: {}\".format(hypothesis.detach().cpu().numpy()))\n",
        "  # print(\"model predicted: {}\".format(predicted.detach().cpu().numpy()))\n",
        "  # print(\"y_test: {}\".format(y_test.cpu().numpy()))\n",
        "  print(\"accuracy: {}\".format(accuracy.item()))"
      ],
      "execution_count": 35,
      "outputs": [
        {
          "output_type": "stream",
          "text": [
            "accuracy: 1.0\n"
          ],
          "name": "stdout"
        }
      ]
    },
    {
      "cell_type": "code",
      "metadata": {
        "id": "cSNGdzYAM5r3"
      },
      "source": [
        "## Custom NN Module"
      ],
      "execution_count": null,
      "outputs": []
    },
    {
      "cell_type": "code",
      "metadata": {
        "id": "k-EGxNVEI5Nc"
      },
      "source": [
        "class Net(nn.Module):\n",
        "  def __init__(self, input_size, hidden_size):\n",
        "    super(Net, self).__init__()\n",
        "\n",
        "    self.input_size = input_size\n",
        "    self.hidden_size = hidden_size\n",
        "\n",
        "    self.linear1 = nn.Linear(input_size, hidden_size)\n",
        "    self.linear2 = nn.Linear(hidden_size, 1)\n",
        "    self.sigmoid = nn.Sigmoid()\n",
        "\n",
        "  def forward(self, input_tensor):\n",
        "    net1 = self.sigmoid(self.linear1(input_tensor))\n",
        "    return self.sigmoid(self.linear2(net1))\n"
      ],
      "execution_count": 39,
      "outputs": []
    },
    {
      "cell_type": "code",
      "metadata": {
        "id": "L3c1FbzVLSzY"
      },
      "source": [
        "model = Net(2, 5)"
      ],
      "execution_count": 41,
      "outputs": []
    },
    {
      "cell_type": "code",
      "metadata": {
        "id": "_Mppy5yMMn1i",
        "outputId": "d5f76104-f687-4022-e6f4-6a4b6315a6b0",
        "colab": {
          "base_uri": "https://localhost:8080/"
        }
      },
      "source": [
        "model"
      ],
      "execution_count": 42,
      "outputs": [
        {
          "output_type": "execute_result",
          "data": {
            "text/plain": [
              "Net(\n",
              "  (linear1): Linear(in_features=2, out_features=5, bias=True)\n",
              "  (linear2): Linear(in_features=5, out_features=1, bias=True)\n",
              "  (sigmoid): Sigmoid()\n",
              ")"
            ]
          },
          "metadata": {
            "tags": []
          },
          "execution_count": 42
        }
      ]
    },
    {
      "cell_type": "code",
      "metadata": {
        "id": "4gatPozvMpUi"
      },
      "source": [
        ""
      ],
      "execution_count": null,
      "outputs": []
    }
  ]
}