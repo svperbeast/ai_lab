{
  "nbformat": 4,
  "nbformat_minor": 0,
  "metadata": {
    "colab": {
      "name": "ai_lab_20201104-1.ipynb",
      "provenance": [],
      "authorship_tag": "ABX9TyPRummybtlmhNi8RCHb7nxD",
      "include_colab_link": true
    },
    "kernelspec": {
      "name": "python3",
      "display_name": "Python 3"
    },
    "widgets": {
      "application/vnd.jupyter.widget-state+json": {
        "4aa336072079466d8dd5ef1de93e6f94": {
          "model_module": "@jupyter-widgets/controls",
          "model_name": "HBoxModel",
          "state": {
            "_view_name": "HBoxView",
            "_dom_classes": [],
            "_model_name": "HBoxModel",
            "_view_module": "@jupyter-widgets/controls",
            "_model_module_version": "1.5.0",
            "_view_count": null,
            "_view_module_version": "1.5.0",
            "box_style": "",
            "layout": "IPY_MODEL_6a631a5255494384bd255ccb1a7cca3b",
            "_model_module": "@jupyter-widgets/controls",
            "children": [
              "IPY_MODEL_e523114a966f4418ad51e2c1a9d22fb6",
              "IPY_MODEL_15ba24efb42b457a89b1018d21aa2843"
            ]
          }
        },
        "6a631a5255494384bd255ccb1a7cca3b": {
          "model_module": "@jupyter-widgets/base",
          "model_name": "LayoutModel",
          "state": {
            "_view_name": "LayoutView",
            "grid_template_rows": null,
            "right": null,
            "justify_content": null,
            "_view_module": "@jupyter-widgets/base",
            "overflow": null,
            "_model_module_version": "1.2.0",
            "_view_count": null,
            "flex_flow": null,
            "width": null,
            "min_width": null,
            "border": null,
            "align_items": null,
            "bottom": null,
            "_model_module": "@jupyter-widgets/base",
            "top": null,
            "grid_column": null,
            "overflow_y": null,
            "overflow_x": null,
            "grid_auto_flow": null,
            "grid_area": null,
            "grid_template_columns": null,
            "flex": null,
            "_model_name": "LayoutModel",
            "justify_items": null,
            "grid_row": null,
            "max_height": null,
            "align_content": null,
            "visibility": null,
            "align_self": null,
            "height": null,
            "min_height": null,
            "padding": null,
            "grid_auto_rows": null,
            "grid_gap": null,
            "max_width": null,
            "order": null,
            "_view_module_version": "1.2.0",
            "grid_template_areas": null,
            "object_position": null,
            "object_fit": null,
            "grid_auto_columns": null,
            "margin": null,
            "display": null,
            "left": null
          }
        },
        "e523114a966f4418ad51e2c1a9d22fb6": {
          "model_module": "@jupyter-widgets/controls",
          "model_name": "FloatProgressModel",
          "state": {
            "_view_name": "ProgressView",
            "style": "IPY_MODEL_68f82b42a1414dafacd6a7d1a856b5f2",
            "_dom_classes": [],
            "description": "",
            "_model_name": "FloatProgressModel",
            "bar_style": "info",
            "max": 1,
            "_view_module": "@jupyter-widgets/controls",
            "_model_module_version": "1.5.0",
            "value": 1,
            "_view_count": null,
            "_view_module_version": "1.5.0",
            "orientation": "horizontal",
            "min": 0,
            "description_tooltip": null,
            "_model_module": "@jupyter-widgets/controls",
            "layout": "IPY_MODEL_6d13abb2af484b8eb66dabbe12c702df"
          }
        },
        "15ba24efb42b457a89b1018d21aa2843": {
          "model_module": "@jupyter-widgets/controls",
          "model_name": "HTMLModel",
          "state": {
            "_view_name": "HTMLView",
            "style": "IPY_MODEL_68b0c7f99e6e45fe88e60bf02cd1f5e7",
            "_dom_classes": [],
            "description": "",
            "_model_name": "HTMLModel",
            "placeholder": "​",
            "_view_module": "@jupyter-widgets/controls",
            "_model_module_version": "1.5.0",
            "value": " 9920512/? [00:19&lt;00:00, 1440022.32it/s]",
            "_view_count": null,
            "_view_module_version": "1.5.0",
            "description_tooltip": null,
            "_model_module": "@jupyter-widgets/controls",
            "layout": "IPY_MODEL_339f1fa2ec5a4826ad3b45dc708bedc0"
          }
        },
        "68f82b42a1414dafacd6a7d1a856b5f2": {
          "model_module": "@jupyter-widgets/controls",
          "model_name": "ProgressStyleModel",
          "state": {
            "_view_name": "StyleView",
            "_model_name": "ProgressStyleModel",
            "description_width": "initial",
            "_view_module": "@jupyter-widgets/base",
            "_model_module_version": "1.5.0",
            "_view_count": null,
            "_view_module_version": "1.2.0",
            "bar_color": null,
            "_model_module": "@jupyter-widgets/controls"
          }
        },
        "6d13abb2af484b8eb66dabbe12c702df": {
          "model_module": "@jupyter-widgets/base",
          "model_name": "LayoutModel",
          "state": {
            "_view_name": "LayoutView",
            "grid_template_rows": null,
            "right": null,
            "justify_content": null,
            "_view_module": "@jupyter-widgets/base",
            "overflow": null,
            "_model_module_version": "1.2.0",
            "_view_count": null,
            "flex_flow": null,
            "width": null,
            "min_width": null,
            "border": null,
            "align_items": null,
            "bottom": null,
            "_model_module": "@jupyter-widgets/base",
            "top": null,
            "grid_column": null,
            "overflow_y": null,
            "overflow_x": null,
            "grid_auto_flow": null,
            "grid_area": null,
            "grid_template_columns": null,
            "flex": null,
            "_model_name": "LayoutModel",
            "justify_items": null,
            "grid_row": null,
            "max_height": null,
            "align_content": null,
            "visibility": null,
            "align_self": null,
            "height": null,
            "min_height": null,
            "padding": null,
            "grid_auto_rows": null,
            "grid_gap": null,
            "max_width": null,
            "order": null,
            "_view_module_version": "1.2.0",
            "grid_template_areas": null,
            "object_position": null,
            "object_fit": null,
            "grid_auto_columns": null,
            "margin": null,
            "display": null,
            "left": null
          }
        },
        "68b0c7f99e6e45fe88e60bf02cd1f5e7": {
          "model_module": "@jupyter-widgets/controls",
          "model_name": "DescriptionStyleModel",
          "state": {
            "_view_name": "StyleView",
            "_model_name": "DescriptionStyleModel",
            "description_width": "",
            "_view_module": "@jupyter-widgets/base",
            "_model_module_version": "1.5.0",
            "_view_count": null,
            "_view_module_version": "1.2.0",
            "_model_module": "@jupyter-widgets/controls"
          }
        },
        "339f1fa2ec5a4826ad3b45dc708bedc0": {
          "model_module": "@jupyter-widgets/base",
          "model_name": "LayoutModel",
          "state": {
            "_view_name": "LayoutView",
            "grid_template_rows": null,
            "right": null,
            "justify_content": null,
            "_view_module": "@jupyter-widgets/base",
            "overflow": null,
            "_model_module_version": "1.2.0",
            "_view_count": null,
            "flex_flow": null,
            "width": null,
            "min_width": null,
            "border": null,
            "align_items": null,
            "bottom": null,
            "_model_module": "@jupyter-widgets/base",
            "top": null,
            "grid_column": null,
            "overflow_y": null,
            "overflow_x": null,
            "grid_auto_flow": null,
            "grid_area": null,
            "grid_template_columns": null,
            "flex": null,
            "_model_name": "LayoutModel",
            "justify_items": null,
            "grid_row": null,
            "max_height": null,
            "align_content": null,
            "visibility": null,
            "align_self": null,
            "height": null,
            "min_height": null,
            "padding": null,
            "grid_auto_rows": null,
            "grid_gap": null,
            "max_width": null,
            "order": null,
            "_view_module_version": "1.2.0",
            "grid_template_areas": null,
            "object_position": null,
            "object_fit": null,
            "grid_auto_columns": null,
            "margin": null,
            "display": null,
            "left": null
          }
        },
        "4dee83da83fe459fac74df6d5458d6c4": {
          "model_module": "@jupyter-widgets/controls",
          "model_name": "HBoxModel",
          "state": {
            "_view_name": "HBoxView",
            "_dom_classes": [],
            "_model_name": "HBoxModel",
            "_view_module": "@jupyter-widgets/controls",
            "_model_module_version": "1.5.0",
            "_view_count": null,
            "_view_module_version": "1.5.0",
            "box_style": "",
            "layout": "IPY_MODEL_5f085941422e41b496c6c03230eb7266",
            "_model_module": "@jupyter-widgets/controls",
            "children": [
              "IPY_MODEL_dde907ba14d647bd80330a06d1fdd136",
              "IPY_MODEL_ad9a13c32b354de2ae16d44231a48129"
            ]
          }
        },
        "5f085941422e41b496c6c03230eb7266": {
          "model_module": "@jupyter-widgets/base",
          "model_name": "LayoutModel",
          "state": {
            "_view_name": "LayoutView",
            "grid_template_rows": null,
            "right": null,
            "justify_content": null,
            "_view_module": "@jupyter-widgets/base",
            "overflow": null,
            "_model_module_version": "1.2.0",
            "_view_count": null,
            "flex_flow": null,
            "width": null,
            "min_width": null,
            "border": null,
            "align_items": null,
            "bottom": null,
            "_model_module": "@jupyter-widgets/base",
            "top": null,
            "grid_column": null,
            "overflow_y": null,
            "overflow_x": null,
            "grid_auto_flow": null,
            "grid_area": null,
            "grid_template_columns": null,
            "flex": null,
            "_model_name": "LayoutModel",
            "justify_items": null,
            "grid_row": null,
            "max_height": null,
            "align_content": null,
            "visibility": null,
            "align_self": null,
            "height": null,
            "min_height": null,
            "padding": null,
            "grid_auto_rows": null,
            "grid_gap": null,
            "max_width": null,
            "order": null,
            "_view_module_version": "1.2.0",
            "grid_template_areas": null,
            "object_position": null,
            "object_fit": null,
            "grid_auto_columns": null,
            "margin": null,
            "display": null,
            "left": null
          }
        },
        "dde907ba14d647bd80330a06d1fdd136": {
          "model_module": "@jupyter-widgets/controls",
          "model_name": "FloatProgressModel",
          "state": {
            "_view_name": "ProgressView",
            "style": "IPY_MODEL_bd30ec14ee2a46c8b621e73b1ed4c3c0",
            "_dom_classes": [],
            "description": "",
            "_model_name": "FloatProgressModel",
            "bar_style": "success",
            "max": 1,
            "_view_module": "@jupyter-widgets/controls",
            "_model_module_version": "1.5.0",
            "value": 1,
            "_view_count": null,
            "_view_module_version": "1.5.0",
            "orientation": "horizontal",
            "min": 0,
            "description_tooltip": null,
            "_model_module": "@jupyter-widgets/controls",
            "layout": "IPY_MODEL_18fcac07ad014578bf94ee350adf1560"
          }
        },
        "ad9a13c32b354de2ae16d44231a48129": {
          "model_module": "@jupyter-widgets/controls",
          "model_name": "HTMLModel",
          "state": {
            "_view_name": "HTMLView",
            "style": "IPY_MODEL_31ad1b123bfe461696b793473f50cbfa",
            "_dom_classes": [],
            "description": "",
            "_model_name": "HTMLModel",
            "placeholder": "​",
            "_view_module": "@jupyter-widgets/controls",
            "_model_module_version": "1.5.0",
            "value": " 32768/? [00:02&lt;00:00, 12615.56it/s]",
            "_view_count": null,
            "_view_module_version": "1.5.0",
            "description_tooltip": null,
            "_model_module": "@jupyter-widgets/controls",
            "layout": "IPY_MODEL_94b1a0095947421b89e8f4765a2781f0"
          }
        },
        "bd30ec14ee2a46c8b621e73b1ed4c3c0": {
          "model_module": "@jupyter-widgets/controls",
          "model_name": "ProgressStyleModel",
          "state": {
            "_view_name": "StyleView",
            "_model_name": "ProgressStyleModel",
            "description_width": "initial",
            "_view_module": "@jupyter-widgets/base",
            "_model_module_version": "1.5.0",
            "_view_count": null,
            "_view_module_version": "1.2.0",
            "bar_color": null,
            "_model_module": "@jupyter-widgets/controls"
          }
        },
        "18fcac07ad014578bf94ee350adf1560": {
          "model_module": "@jupyter-widgets/base",
          "model_name": "LayoutModel",
          "state": {
            "_view_name": "LayoutView",
            "grid_template_rows": null,
            "right": null,
            "justify_content": null,
            "_view_module": "@jupyter-widgets/base",
            "overflow": null,
            "_model_module_version": "1.2.0",
            "_view_count": null,
            "flex_flow": null,
            "width": null,
            "min_width": null,
            "border": null,
            "align_items": null,
            "bottom": null,
            "_model_module": "@jupyter-widgets/base",
            "top": null,
            "grid_column": null,
            "overflow_y": null,
            "overflow_x": null,
            "grid_auto_flow": null,
            "grid_area": null,
            "grid_template_columns": null,
            "flex": null,
            "_model_name": "LayoutModel",
            "justify_items": null,
            "grid_row": null,
            "max_height": null,
            "align_content": null,
            "visibility": null,
            "align_self": null,
            "height": null,
            "min_height": null,
            "padding": null,
            "grid_auto_rows": null,
            "grid_gap": null,
            "max_width": null,
            "order": null,
            "_view_module_version": "1.2.0",
            "grid_template_areas": null,
            "object_position": null,
            "object_fit": null,
            "grid_auto_columns": null,
            "margin": null,
            "display": null,
            "left": null
          }
        },
        "31ad1b123bfe461696b793473f50cbfa": {
          "model_module": "@jupyter-widgets/controls",
          "model_name": "DescriptionStyleModel",
          "state": {
            "_view_name": "StyleView",
            "_model_name": "DescriptionStyleModel",
            "description_width": "",
            "_view_module": "@jupyter-widgets/base",
            "_model_module_version": "1.5.0",
            "_view_count": null,
            "_view_module_version": "1.2.0",
            "_model_module": "@jupyter-widgets/controls"
          }
        },
        "94b1a0095947421b89e8f4765a2781f0": {
          "model_module": "@jupyter-widgets/base",
          "model_name": "LayoutModel",
          "state": {
            "_view_name": "LayoutView",
            "grid_template_rows": null,
            "right": null,
            "justify_content": null,
            "_view_module": "@jupyter-widgets/base",
            "overflow": null,
            "_model_module_version": "1.2.0",
            "_view_count": null,
            "flex_flow": null,
            "width": null,
            "min_width": null,
            "border": null,
            "align_items": null,
            "bottom": null,
            "_model_module": "@jupyter-widgets/base",
            "top": null,
            "grid_column": null,
            "overflow_y": null,
            "overflow_x": null,
            "grid_auto_flow": null,
            "grid_area": null,
            "grid_template_columns": null,
            "flex": null,
            "_model_name": "LayoutModel",
            "justify_items": null,
            "grid_row": null,
            "max_height": null,
            "align_content": null,
            "visibility": null,
            "align_self": null,
            "height": null,
            "min_height": null,
            "padding": null,
            "grid_auto_rows": null,
            "grid_gap": null,
            "max_width": null,
            "order": null,
            "_view_module_version": "1.2.0",
            "grid_template_areas": null,
            "object_position": null,
            "object_fit": null,
            "grid_auto_columns": null,
            "margin": null,
            "display": null,
            "left": null
          }
        },
        "427ea7031ae74c0fb60b84ee83bc6a9a": {
          "model_module": "@jupyter-widgets/controls",
          "model_name": "HBoxModel",
          "state": {
            "_view_name": "HBoxView",
            "_dom_classes": [],
            "_model_name": "HBoxModel",
            "_view_module": "@jupyter-widgets/controls",
            "_model_module_version": "1.5.0",
            "_view_count": null,
            "_view_module_version": "1.5.0",
            "box_style": "",
            "layout": "IPY_MODEL_4dfb8746dc914d91950234c9e9f5a28e",
            "_model_module": "@jupyter-widgets/controls",
            "children": [
              "IPY_MODEL_a20ef0103e484c4db559a01948550953",
              "IPY_MODEL_96b65daaea684a53bae618f36603e7ca"
            ]
          }
        },
        "4dfb8746dc914d91950234c9e9f5a28e": {
          "model_module": "@jupyter-widgets/base",
          "model_name": "LayoutModel",
          "state": {
            "_view_name": "LayoutView",
            "grid_template_rows": null,
            "right": null,
            "justify_content": null,
            "_view_module": "@jupyter-widgets/base",
            "overflow": null,
            "_model_module_version": "1.2.0",
            "_view_count": null,
            "flex_flow": null,
            "width": null,
            "min_width": null,
            "border": null,
            "align_items": null,
            "bottom": null,
            "_model_module": "@jupyter-widgets/base",
            "top": null,
            "grid_column": null,
            "overflow_y": null,
            "overflow_x": null,
            "grid_auto_flow": null,
            "grid_area": null,
            "grid_template_columns": null,
            "flex": null,
            "_model_name": "LayoutModel",
            "justify_items": null,
            "grid_row": null,
            "max_height": null,
            "align_content": null,
            "visibility": null,
            "align_self": null,
            "height": null,
            "min_height": null,
            "padding": null,
            "grid_auto_rows": null,
            "grid_gap": null,
            "max_width": null,
            "order": null,
            "_view_module_version": "1.2.0",
            "grid_template_areas": null,
            "object_position": null,
            "object_fit": null,
            "grid_auto_columns": null,
            "margin": null,
            "display": null,
            "left": null
          }
        },
        "a20ef0103e484c4db559a01948550953": {
          "model_module": "@jupyter-widgets/controls",
          "model_name": "FloatProgressModel",
          "state": {
            "_view_name": "ProgressView",
            "style": "IPY_MODEL_afe64fafe7114760b1a82af33ed9cb6a",
            "_dom_classes": [],
            "description": "",
            "_model_name": "FloatProgressModel",
            "bar_style": "success",
            "max": 1,
            "_view_module": "@jupyter-widgets/controls",
            "_model_module_version": "1.5.0",
            "value": 1,
            "_view_count": null,
            "_view_module_version": "1.5.0",
            "orientation": "horizontal",
            "min": 0,
            "description_tooltip": null,
            "_model_module": "@jupyter-widgets/controls",
            "layout": "IPY_MODEL_bee8bb060dbc4557babbcb7f4a6be70d"
          }
        },
        "96b65daaea684a53bae618f36603e7ca": {
          "model_module": "@jupyter-widgets/controls",
          "model_name": "HTMLModel",
          "state": {
            "_view_name": "HTMLView",
            "style": "IPY_MODEL_ba54c69344f14c2994db90d261f250ee",
            "_dom_classes": [],
            "description": "",
            "_model_name": "HTMLModel",
            "placeholder": "​",
            "_view_module": "@jupyter-widgets/controls",
            "_model_module_version": "1.5.0",
            "value": " 1654784/? [00:01&lt;00:00, 1117638.71it/s]",
            "_view_count": null,
            "_view_module_version": "1.5.0",
            "description_tooltip": null,
            "_model_module": "@jupyter-widgets/controls",
            "layout": "IPY_MODEL_258c42487933422f8b9ef0df56ef16be"
          }
        },
        "afe64fafe7114760b1a82af33ed9cb6a": {
          "model_module": "@jupyter-widgets/controls",
          "model_name": "ProgressStyleModel",
          "state": {
            "_view_name": "StyleView",
            "_model_name": "ProgressStyleModel",
            "description_width": "initial",
            "_view_module": "@jupyter-widgets/base",
            "_model_module_version": "1.5.0",
            "_view_count": null,
            "_view_module_version": "1.2.0",
            "bar_color": null,
            "_model_module": "@jupyter-widgets/controls"
          }
        },
        "bee8bb060dbc4557babbcb7f4a6be70d": {
          "model_module": "@jupyter-widgets/base",
          "model_name": "LayoutModel",
          "state": {
            "_view_name": "LayoutView",
            "grid_template_rows": null,
            "right": null,
            "justify_content": null,
            "_view_module": "@jupyter-widgets/base",
            "overflow": null,
            "_model_module_version": "1.2.0",
            "_view_count": null,
            "flex_flow": null,
            "width": null,
            "min_width": null,
            "border": null,
            "align_items": null,
            "bottom": null,
            "_model_module": "@jupyter-widgets/base",
            "top": null,
            "grid_column": null,
            "overflow_y": null,
            "overflow_x": null,
            "grid_auto_flow": null,
            "grid_area": null,
            "grid_template_columns": null,
            "flex": null,
            "_model_name": "LayoutModel",
            "justify_items": null,
            "grid_row": null,
            "max_height": null,
            "align_content": null,
            "visibility": null,
            "align_self": null,
            "height": null,
            "min_height": null,
            "padding": null,
            "grid_auto_rows": null,
            "grid_gap": null,
            "max_width": null,
            "order": null,
            "_view_module_version": "1.2.0",
            "grid_template_areas": null,
            "object_position": null,
            "object_fit": null,
            "grid_auto_columns": null,
            "margin": null,
            "display": null,
            "left": null
          }
        },
        "ba54c69344f14c2994db90d261f250ee": {
          "model_module": "@jupyter-widgets/controls",
          "model_name": "DescriptionStyleModel",
          "state": {
            "_view_name": "StyleView",
            "_model_name": "DescriptionStyleModel",
            "description_width": "",
            "_view_module": "@jupyter-widgets/base",
            "_model_module_version": "1.5.0",
            "_view_count": null,
            "_view_module_version": "1.2.0",
            "_model_module": "@jupyter-widgets/controls"
          }
        },
        "258c42487933422f8b9ef0df56ef16be": {
          "model_module": "@jupyter-widgets/base",
          "model_name": "LayoutModel",
          "state": {
            "_view_name": "LayoutView",
            "grid_template_rows": null,
            "right": null,
            "justify_content": null,
            "_view_module": "@jupyter-widgets/base",
            "overflow": null,
            "_model_module_version": "1.2.0",
            "_view_count": null,
            "flex_flow": null,
            "width": null,
            "min_width": null,
            "border": null,
            "align_items": null,
            "bottom": null,
            "_model_module": "@jupyter-widgets/base",
            "top": null,
            "grid_column": null,
            "overflow_y": null,
            "overflow_x": null,
            "grid_auto_flow": null,
            "grid_area": null,
            "grid_template_columns": null,
            "flex": null,
            "_model_name": "LayoutModel",
            "justify_items": null,
            "grid_row": null,
            "max_height": null,
            "align_content": null,
            "visibility": null,
            "align_self": null,
            "height": null,
            "min_height": null,
            "padding": null,
            "grid_auto_rows": null,
            "grid_gap": null,
            "max_width": null,
            "order": null,
            "_view_module_version": "1.2.0",
            "grid_template_areas": null,
            "object_position": null,
            "object_fit": null,
            "grid_auto_columns": null,
            "margin": null,
            "display": null,
            "left": null
          }
        },
        "796ecb5012464620b8f2dd0295cc1396": {
          "model_module": "@jupyter-widgets/controls",
          "model_name": "HBoxModel",
          "state": {
            "_view_name": "HBoxView",
            "_dom_classes": [],
            "_model_name": "HBoxModel",
            "_view_module": "@jupyter-widgets/controls",
            "_model_module_version": "1.5.0",
            "_view_count": null,
            "_view_module_version": "1.5.0",
            "box_style": "",
            "layout": "IPY_MODEL_c7ee393e7bfb470abc46fc95e8219956",
            "_model_module": "@jupyter-widgets/controls",
            "children": [
              "IPY_MODEL_7c08ca45beea48f78179b7432f5f05b1",
              "IPY_MODEL_08d8e52aa03a466082435c37b5328e29"
            ]
          }
        },
        "c7ee393e7bfb470abc46fc95e8219956": {
          "model_module": "@jupyter-widgets/base",
          "model_name": "LayoutModel",
          "state": {
            "_view_name": "LayoutView",
            "grid_template_rows": null,
            "right": null,
            "justify_content": null,
            "_view_module": "@jupyter-widgets/base",
            "overflow": null,
            "_model_module_version": "1.2.0",
            "_view_count": null,
            "flex_flow": null,
            "width": null,
            "min_width": null,
            "border": null,
            "align_items": null,
            "bottom": null,
            "_model_module": "@jupyter-widgets/base",
            "top": null,
            "grid_column": null,
            "overflow_y": null,
            "overflow_x": null,
            "grid_auto_flow": null,
            "grid_area": null,
            "grid_template_columns": null,
            "flex": null,
            "_model_name": "LayoutModel",
            "justify_items": null,
            "grid_row": null,
            "max_height": null,
            "align_content": null,
            "visibility": null,
            "align_self": null,
            "height": null,
            "min_height": null,
            "padding": null,
            "grid_auto_rows": null,
            "grid_gap": null,
            "max_width": null,
            "order": null,
            "_view_module_version": "1.2.0",
            "grid_template_areas": null,
            "object_position": null,
            "object_fit": null,
            "grid_auto_columns": null,
            "margin": null,
            "display": null,
            "left": null
          }
        },
        "7c08ca45beea48f78179b7432f5f05b1": {
          "model_module": "@jupyter-widgets/controls",
          "model_name": "FloatProgressModel",
          "state": {
            "_view_name": "ProgressView",
            "style": "IPY_MODEL_354ed029435e4444b7906ab30a7d4303",
            "_dom_classes": [],
            "description": "  0%",
            "_model_name": "FloatProgressModel",
            "bar_style": "info",
            "max": 1,
            "_view_module": "@jupyter-widgets/controls",
            "_model_module_version": "1.5.0",
            "value": 0,
            "_view_count": null,
            "_view_module_version": "1.5.0",
            "orientation": "horizontal",
            "min": 0,
            "description_tooltip": null,
            "_model_module": "@jupyter-widgets/controls",
            "layout": "IPY_MODEL_4bc1c470960e4c4e9f4ed4efc92249d8"
          }
        },
        "08d8e52aa03a466082435c37b5328e29": {
          "model_module": "@jupyter-widgets/controls",
          "model_name": "HTMLModel",
          "state": {
            "_view_name": "HTMLView",
            "style": "IPY_MODEL_5af902ca020a4708947c2d582d47cfb7",
            "_dom_classes": [],
            "description": "",
            "_model_name": "HTMLModel",
            "placeholder": "​",
            "_view_module": "@jupyter-widgets/controls",
            "_model_module_version": "1.5.0",
            "value": " 0/4542 [00:00&lt;?, ?it/s]",
            "_view_count": null,
            "_view_module_version": "1.5.0",
            "description_tooltip": null,
            "_model_module": "@jupyter-widgets/controls",
            "layout": "IPY_MODEL_f9997b6e7aac40ce9b11d420d38f8392"
          }
        },
        "354ed029435e4444b7906ab30a7d4303": {
          "model_module": "@jupyter-widgets/controls",
          "model_name": "ProgressStyleModel",
          "state": {
            "_view_name": "StyleView",
            "_model_name": "ProgressStyleModel",
            "description_width": "initial",
            "_view_module": "@jupyter-widgets/base",
            "_model_module_version": "1.5.0",
            "_view_count": null,
            "_view_module_version": "1.2.0",
            "bar_color": null,
            "_model_module": "@jupyter-widgets/controls"
          }
        },
        "4bc1c470960e4c4e9f4ed4efc92249d8": {
          "model_module": "@jupyter-widgets/base",
          "model_name": "LayoutModel",
          "state": {
            "_view_name": "LayoutView",
            "grid_template_rows": null,
            "right": null,
            "justify_content": null,
            "_view_module": "@jupyter-widgets/base",
            "overflow": null,
            "_model_module_version": "1.2.0",
            "_view_count": null,
            "flex_flow": null,
            "width": null,
            "min_width": null,
            "border": null,
            "align_items": null,
            "bottom": null,
            "_model_module": "@jupyter-widgets/base",
            "top": null,
            "grid_column": null,
            "overflow_y": null,
            "overflow_x": null,
            "grid_auto_flow": null,
            "grid_area": null,
            "grid_template_columns": null,
            "flex": null,
            "_model_name": "LayoutModel",
            "justify_items": null,
            "grid_row": null,
            "max_height": null,
            "align_content": null,
            "visibility": null,
            "align_self": null,
            "height": null,
            "min_height": null,
            "padding": null,
            "grid_auto_rows": null,
            "grid_gap": null,
            "max_width": null,
            "order": null,
            "_view_module_version": "1.2.0",
            "grid_template_areas": null,
            "object_position": null,
            "object_fit": null,
            "grid_auto_columns": null,
            "margin": null,
            "display": null,
            "left": null
          }
        },
        "5af902ca020a4708947c2d582d47cfb7": {
          "model_module": "@jupyter-widgets/controls",
          "model_name": "DescriptionStyleModel",
          "state": {
            "_view_name": "StyleView",
            "_model_name": "DescriptionStyleModel",
            "description_width": "",
            "_view_module": "@jupyter-widgets/base",
            "_model_module_version": "1.5.0",
            "_view_count": null,
            "_view_module_version": "1.2.0",
            "_model_module": "@jupyter-widgets/controls"
          }
        },
        "f9997b6e7aac40ce9b11d420d38f8392": {
          "model_module": "@jupyter-widgets/base",
          "model_name": "LayoutModel",
          "state": {
            "_view_name": "LayoutView",
            "grid_template_rows": null,
            "right": null,
            "justify_content": null,
            "_view_module": "@jupyter-widgets/base",
            "overflow": null,
            "_model_module_version": "1.2.0",
            "_view_count": null,
            "flex_flow": null,
            "width": null,
            "min_width": null,
            "border": null,
            "align_items": null,
            "bottom": null,
            "_model_module": "@jupyter-widgets/base",
            "top": null,
            "grid_column": null,
            "overflow_y": null,
            "overflow_x": null,
            "grid_auto_flow": null,
            "grid_area": null,
            "grid_template_columns": null,
            "flex": null,
            "_model_name": "LayoutModel",
            "justify_items": null,
            "grid_row": null,
            "max_height": null,
            "align_content": null,
            "visibility": null,
            "align_self": null,
            "height": null,
            "min_height": null,
            "padding": null,
            "grid_auto_rows": null,
            "grid_gap": null,
            "max_width": null,
            "order": null,
            "_view_module_version": "1.2.0",
            "grid_template_areas": null,
            "object_position": null,
            "object_fit": null,
            "grid_auto_columns": null,
            "margin": null,
            "display": null,
            "left": null
          }
        }
      }
    }
  },
  "cells": [
    {
      "cell_type": "markdown",
      "metadata": {
        "id": "view-in-github",
        "colab_type": "text"
      },
      "source": [
        "<a href=\"https://colab.research.google.com/github/svperbeast/ai_lab/blob/main/ai_lab_20201104_1.ipynb\" target=\"_parent\"><img src=\"https://colab.research.google.com/assets/colab-badge.svg\" alt=\"Open In Colab\"/></a>"
      ]
    },
    {
      "cell_type": "code",
      "metadata": {
        "id": "RaEq2g7647lz"
      },
      "source": [
        "import torch\n",
        "import torch.nn as nn\n",
        "import torch.optim as optim\n",
        "import torch.nn.functional as F"
      ],
      "execution_count": 1,
      "outputs": []
    },
    {
      "cell_type": "code",
      "metadata": {
        "id": "Ix93TGVt6z_l"
      },
      "source": [
        "from torchvision import datasets, transforms, utils\n",
        "from torch.utils import data"
      ],
      "execution_count": 3,
      "outputs": []
    },
    {
      "cell_type": "code",
      "metadata": {
        "id": "jYhZmgga65Y0"
      },
      "source": [
        "USE_CUDA = torch.cuda.is_available()\n",
        "DEVICE = torch.device('cuda' if USE_CUDA else 'cpu')"
      ],
      "execution_count": 4,
      "outputs": []
    },
    {
      "cell_type": "code",
      "metadata": {
        "id": "VmOjUOBc8_jr"
      },
      "source": [
        "transform = transforms.Compose([\n",
        "                                transforms.RandomHorizontalFlip(),\n",
        "                                transforms.ToTensor()\n",
        "])"
      ],
      "execution_count": 5,
      "outputs": []
    },
    {
      "cell_type": "code",
      "metadata": {
        "id": "VkSWDl-y71dp",
        "outputId": "b5d8e0dc-8964-43f9-8537-082f45dea7ab",
        "colab": {
          "base_uri": "https://localhost:8080/",
          "height": 417,
          "referenced_widgets": [
            "4aa336072079466d8dd5ef1de93e6f94",
            "6a631a5255494384bd255ccb1a7cca3b",
            "e523114a966f4418ad51e2c1a9d22fb6",
            "15ba24efb42b457a89b1018d21aa2843",
            "68f82b42a1414dafacd6a7d1a856b5f2",
            "6d13abb2af484b8eb66dabbe12c702df",
            "68b0c7f99e6e45fe88e60bf02cd1f5e7",
            "339f1fa2ec5a4826ad3b45dc708bedc0",
            "4dee83da83fe459fac74df6d5458d6c4",
            "5f085941422e41b496c6c03230eb7266",
            "dde907ba14d647bd80330a06d1fdd136",
            "ad9a13c32b354de2ae16d44231a48129",
            "bd30ec14ee2a46c8b621e73b1ed4c3c0",
            "18fcac07ad014578bf94ee350adf1560",
            "31ad1b123bfe461696b793473f50cbfa",
            "94b1a0095947421b89e8f4765a2781f0",
            "427ea7031ae74c0fb60b84ee83bc6a9a",
            "4dfb8746dc914d91950234c9e9f5a28e",
            "a20ef0103e484c4db559a01948550953",
            "96b65daaea684a53bae618f36603e7ca",
            "afe64fafe7114760b1a82af33ed9cb6a",
            "bee8bb060dbc4557babbcb7f4a6be70d",
            "ba54c69344f14c2994db90d261f250ee",
            "258c42487933422f8b9ef0df56ef16be",
            "796ecb5012464620b8f2dd0295cc1396",
            "c7ee393e7bfb470abc46fc95e8219956",
            "7c08ca45beea48f78179b7432f5f05b1",
            "08d8e52aa03a466082435c37b5328e29",
            "354ed029435e4444b7906ab30a7d4303",
            "4bc1c470960e4c4e9f4ed4efc92249d8",
            "5af902ca020a4708947c2d582d47cfb7",
            "f9997b6e7aac40ce9b11d420d38f8392"
          ]
        }
      },
      "source": [
        "trainset = datasets.MNIST(root='./data',\n",
        "                          train=True,\n",
        "                          download=True,\n",
        "                          transform=transform\n",
        "                          )\n",
        "\n",
        "testset = datasets.MNIST(root='./data',\n",
        "                          train=False,\n",
        "                          download=True,\n",
        "                          transform=transform\n",
        "                          )"
      ],
      "execution_count": 7,
      "outputs": [
        {
          "output_type": "stream",
          "text": [
            "Downloading http://yann.lecun.com/exdb/mnist/train-images-idx3-ubyte.gz to ./data/MNIST/raw/train-images-idx3-ubyte.gz\n"
          ],
          "name": "stdout"
        },
        {
          "output_type": "display_data",
          "data": {
            "application/vnd.jupyter.widget-view+json": {
              "model_id": "4aa336072079466d8dd5ef1de93e6f94",
              "version_minor": 0,
              "version_major": 2
            },
            "text/plain": [
              "HBox(children=(FloatProgress(value=1.0, bar_style='info', max=1.0), HTML(value='')))"
            ]
          },
          "metadata": {
            "tags": []
          }
        },
        {
          "output_type": "stream",
          "text": [
            "Extracting ./data/MNIST/raw/train-images-idx3-ubyte.gz to ./data/MNIST/raw\n",
            "Downloading http://yann.lecun.com/exdb/mnist/train-labels-idx1-ubyte.gz to ./data/MNIST/raw/train-labels-idx1-ubyte.gz\n"
          ],
          "name": "stdout"
        },
        {
          "output_type": "display_data",
          "data": {
            "application/vnd.jupyter.widget-view+json": {
              "model_id": "4dee83da83fe459fac74df6d5458d6c4",
              "version_minor": 0,
              "version_major": 2
            },
            "text/plain": [
              "HBox(children=(FloatProgress(value=1.0, bar_style='info', max=1.0), HTML(value='')))"
            ]
          },
          "metadata": {
            "tags": []
          }
        },
        {
          "output_type": "stream",
          "text": [
            "Extracting ./data/MNIST/raw/train-labels-idx1-ubyte.gz to ./data/MNIST/raw\n",
            "Downloading http://yann.lecun.com/exdb/mnist/t10k-images-idx3-ubyte.gz to ./data/MNIST/raw/t10k-images-idx3-ubyte.gz\n"
          ],
          "name": "stdout"
        },
        {
          "output_type": "display_data",
          "data": {
            "application/vnd.jupyter.widget-view+json": {
              "model_id": "427ea7031ae74c0fb60b84ee83bc6a9a",
              "version_minor": 0,
              "version_major": 2
            },
            "text/plain": [
              "HBox(children=(FloatProgress(value=1.0, bar_style='info', max=1.0), HTML(value='')))"
            ]
          },
          "metadata": {
            "tags": []
          }
        },
        {
          "output_type": "stream",
          "text": [
            "Extracting ./data/MNIST/raw/t10k-images-idx3-ubyte.gz to ./data/MNIST/raw\n",
            "Downloading http://yann.lecun.com/exdb/mnist/t10k-labels-idx1-ubyte.gz to ./data/MNIST/raw/t10k-labels-idx1-ubyte.gz\n",
            "\n",
            "\n"
          ],
          "name": "stdout"
        },
        {
          "output_type": "display_data",
          "data": {
            "application/vnd.jupyter.widget-view+json": {
              "model_id": "796ecb5012464620b8f2dd0295cc1396",
              "version_minor": 0,
              "version_major": 2
            },
            "text/plain": [
              "HBox(children=(FloatProgress(value=1.0, bar_style='info', max=1.0), HTML(value='')))"
            ]
          },
          "metadata": {
            "tags": []
          }
        },
        {
          "output_type": "stream",
          "text": [
            "Extracting ./data/MNIST/raw/t10k-labels-idx1-ubyte.gz to ./data/MNIST/raw\n",
            "Processing...\n",
            "Done!\n"
          ],
          "name": "stdout"
        },
        {
          "output_type": "stream",
          "text": [
            "/usr/local/lib/python3.6/dist-packages/torchvision/datasets/mnist.py:469: UserWarning: The given NumPy array is not writeable, and PyTorch does not support non-writeable tensors. This means you can write to the underlying (supposedly non-writeable) NumPy array using the tensor. You may want to copy the array to protect its data or make it writeable before converting it to a tensor. This type of warning will be suppressed for the rest of this program. (Triggered internally at  /pytorch/torch/csrc/utils/tensor_numpy.cpp:141.)\n",
            "  return torch.from_numpy(parsed.astype(m[2], copy=False)).view(*s)\n"
          ],
          "name": "stderr"
        }
      ]
    },
    {
      "cell_type": "code",
      "metadata": {
        "id": "GEFFxnlz-efN"
      },
      "source": [
        "BATCH_SIZE = 64\n",
        "\n",
        "train_loader = data.DataLoader(dataset=trainset,\n",
        "                               batch_size=BATCH_SIZE,\n",
        "                               shuffle=True\n",
        "                               )\n",
        "\n",
        "test_loader = data.DataLoader(dataset=testset,\n",
        "                               batch_size=BATCH_SIZE,\n",
        "                               shuffle=True\n",
        "                               )"
      ],
      "execution_count": 32,
      "outputs": []
    },
    {
      "cell_type": "code",
      "metadata": {
        "id": "ZvLi2JL2_3zf"
      },
      "source": [
        "dataiter = iter(train_loader)\n",
        "images, labels = next(dataiter)"
      ],
      "execution_count": 33,
      "outputs": []
    },
    {
      "cell_type": "code",
      "metadata": {
        "id": "MQ1oNZI2AIEZ",
        "outputId": "3247517d-4b70-46e9-e5cd-60339e8b5755",
        "colab": {
          "base_uri": "https://localhost:8080/"
        }
      },
      "source": [
        "images[0].shape"
      ],
      "execution_count": 34,
      "outputs": [
        {
          "output_type": "execute_result",
          "data": {
            "text/plain": [
              "torch.Size([1, 28, 28])"
            ]
          },
          "metadata": {
            "tags": []
          },
          "execution_count": 34
        }
      ]
    },
    {
      "cell_type": "code",
      "metadata": {
        "id": "q0pXNKAOALPC",
        "outputId": "8709b2a1-52cc-4a7d-dee2-b0e87e5e6586",
        "colab": {
          "base_uri": "https://localhost:8080/"
        }
      },
      "source": [
        "print(labels)"
      ],
      "execution_count": 35,
      "outputs": [
        {
          "output_type": "stream",
          "text": [
            "tensor([9, 9, 3, 2, 1, 7, 3, 1, 5, 3, 3, 4, 6, 3, 9, 9, 4, 6, 6, 7, 6, 6, 0, 6,\n",
            "        4, 8, 3, 1, 7, 3, 4, 5, 4, 2, 7, 7, 3, 6, 8, 0, 3, 1, 5, 2, 3, 8, 3, 4,\n",
            "        4, 3, 4, 3, 1, 2, 5, 6, 6, 0, 8, 7, 8, 0, 2, 1])\n"
          ],
          "name": "stdout"
        }
      ]
    },
    {
      "cell_type": "code",
      "metadata": {
        "id": "ylAEe6kTAQMX",
        "outputId": "2b47684a-ace2-489c-c7c9-da4f2454214f",
        "colab": {
          "base_uri": "https://localhost:8080/"
        }
      },
      "source": [
        "CLASSES = {\n",
        "    0: 'zero',\n",
        "    1: 'one',\n",
        "    2: 'two',\n",
        "    3: 'three',\n",
        "    4: 'four',\n",
        "    5: 'five',\n",
        "    6: 'six',\n",
        "    7: 'seven',\n",
        "    8: 'eight',\n",
        "    9: 'nine'\n",
        "}\n",
        "\n",
        "\n",
        "for label in labels:\n",
        "    index = label.item()\n",
        "    print(CLASSES[index])"
      ],
      "execution_count": 36,
      "outputs": [
        {
          "output_type": "stream",
          "text": [
            "nine\n",
            "nine\n",
            "three\n",
            "two\n",
            "one\n",
            "seven\n",
            "three\n",
            "one\n",
            "five\n",
            "three\n",
            "three\n",
            "four\n",
            "six\n",
            "three\n",
            "nine\n",
            "nine\n",
            "four\n",
            "six\n",
            "six\n",
            "seven\n",
            "six\n",
            "six\n",
            "zero\n",
            "six\n",
            "four\n",
            "eight\n",
            "three\n",
            "one\n",
            "seven\n",
            "three\n",
            "four\n",
            "five\n",
            "four\n",
            "two\n",
            "seven\n",
            "seven\n",
            "three\n",
            "six\n",
            "eight\n",
            "zero\n",
            "three\n",
            "one\n",
            "five\n",
            "two\n",
            "three\n",
            "eight\n",
            "three\n",
            "four\n",
            "four\n",
            "three\n",
            "four\n",
            "three\n",
            "one\n",
            "two\n",
            "five\n",
            "six\n",
            "six\n",
            "zero\n",
            "eight\n",
            "seven\n",
            "eight\n",
            "zero\n",
            "two\n",
            "one\n"
          ],
          "name": "stdout"
        }
      ]
    },
    {
      "cell_type": "code",
      "metadata": {
        "id": "-YeB5Q15Ai8e",
        "outputId": "96ec9d29-4bab-483d-f3be-a2f5715fc4e0",
        "colab": {
          "base_uri": "https://localhost:8080/",
          "height": 299
        }
      },
      "source": [
        "import matplotlib.pyplot as plt\n",
        "\n",
        "idx = 1\n",
        "\n",
        "item_img = images[idx]\n",
        "item_npimg = item_img.squeeze().numpy()\n",
        "plt.title(CLASSES[labels[idx].item()])\n",
        "print(item_npimg.shape)\n",
        "plt.imshow(item_npimg, cmap='gray')\n",
        "plt.show()"
      ],
      "execution_count": 37,
      "outputs": [
        {
          "output_type": "stream",
          "text": [
            "(28, 28)\n"
          ],
          "name": "stdout"
        },
        {
          "output_type": "display_data",
          "data": {
            "image/png": "[encoded data removed]",
            "text/plain": [
              "<Figure size 432x288 with 1 Axes>"
            ]
          },
          "metadata": {
            "tags": [],
            "needs_background": "light"
          }
        }
      ]
    },
    {
      "cell_type": "code",
      "metadata": {
        "id": "vkDuYFYUBFi5"
      },
      "source": [
        "class Net(nn.Module):\n",
        "  def __init__(self, dropout_p=0.2):\n",
        "    super(Net, self).__init__()\n",
        "    self.dropout_p = dropout_p\n",
        "\n",
        "    self.fc1 = nn.Linear(28*28, 256) # 28*28: image size\n",
        "    self.fc2 = nn.Linear(256, 128)\n",
        "    self.fc3 = nn.Linear(128, 10)\n",
        "\n",
        "  def forward(self, x):\n",
        "    x = x.view(-1, 28*28) # flatten\n",
        "\n",
        "    x = torch.sigmoid(self.fc1(x))\n",
        "    x = F.dropout(x, p=self.dropout_p, training=self.training)\n",
        "\n",
        "    x = torch.sigmoid(self.fc2(x))\n",
        "    x = F.dropout(x, p=self.dropout_p, training=self.training)\n",
        "\n",
        "    x = self.fc3(x)\n",
        "    return x"
      ],
      "execution_count": 38,
      "outputs": []
    },
    {
      "cell_type": "code",
      "metadata": {
        "id": "_8T2fEckDsu9"
      },
      "source": [
        "class ConvNet(nn.Module):\n",
        "  def __init__(self):\n",
        "    super(ConvNet, self).__init__()\n",
        "    self.dropout = nn.Dropout2d(p=0.2)\n",
        "\n",
        "    self.conv1 = nn.Conv2d(in_channels=1, out_channels=10, kernel_size=5) # Conv: #channels\n",
        "    self.conv2 = nn.Conv2d(in_channels=10, out_channels=20, kernel_size=5)\n",
        "    \"\"\"\n",
        "    28*28 img ->\n",
        "    conv 5*5 -> 24*24 -> maxpool2d 2*2 -> 12*12 ->\n",
        "    conv 5*5 -> 8*8 -> maxpool2d 2*2 -> 4*4\n",
        "\n",
        "    the 'out_channels' of self.conv2 is 20,\n",
        "    so we need a fully connected layer whose 'in_features' is 20*4*4(=320).\n",
        "    \"\"\"\n",
        "    self.fc1 = nn.Linear(in_features=320, out_features=50) # why 320?\n",
        "    self.fc2 = nn.Linear(in_features=50, out_features=10)\n",
        "\n",
        "  def forward(self, x):\n",
        "    x = F.relu(F.max_pool2d(self.conv1(x), 2))\n",
        "    x = F.relu(F.max_pool2d(self.dropout(self.conv2(x)), 2))\n",
        "\n",
        "    x = x.view(-1, 320)\n",
        "    x = F.relu(self.fc1(x))\n",
        "    x = F.dropout(x, training=self.training)\n",
        "    x = self.fc2(x)\n",
        "    return F.log_softmax(x, dim=1)"
      ],
      "execution_count": 49,
      "outputs": []
    },
    {
      "cell_type": "code",
      "metadata": {
        "id": "MHeZFpqHJyp6"
      },
      "source": [
        "model = ConvNet().to(DEVICE)\n",
        "\n",
        "# SGD(lr=0.01, momentum=0.5): 97.99%\n",
        "# Adam(lr=0.001):             98.32%\n",
        "#optimizer = optim.SGD(model.parameters(), lr=0.01, momentum=0.5)\n",
        "optimizer = optim.Adam(model.parameters(), lr=0.001) "
      ],
      "execution_count": 50,
      "outputs": []
    },
    {
      "cell_type": "code",
      "metadata": {
        "id": "I5_OrlwuKzHI"
      },
      "source": [
        "def train(model, train_loader, optimizer, epoch):\n",
        "  model.train()\n",
        "  for batch_idx, (data, target) in enumerate(train_loader):\n",
        "    data, target = data.to(DEVICE), target.to(DEVICE)\n",
        "\n",
        "    optimizer.zero_grad()\n",
        "\n",
        "    output = model(data)\n",
        "\n",
        "    loss = F.cross_entropy(output, target)\n",
        "    loss.backward()\n",
        "\n",
        "    optimizer.step()\n",
        "\n",
        "    if batch_idx % 200 == 0:\n",
        "      print('Train Epoch: {} [{}/{} ({:.0f}%)]\\tLoss: {:.6f}'.format(\n",
        "            epoch, batch_idx * len(data), len(train_loader.dataset),\n",
        "            100. * batch_idx / len(train_loader), loss.item()))"
      ],
      "execution_count": 46,
      "outputs": []
    },
    {
      "cell_type": "code",
      "metadata": {
        "id": "neDKQyjpMQMU"
      },
      "source": [
        "def evaluate(model, test_loader):\n",
        "    model.eval()\n",
        "    test_loss = 0\n",
        "    correct = 0\n",
        "    with torch.no_grad():\n",
        "        for data, target in test_loader:\n",
        "            data, target = data.to(DEVICE), target.to(DEVICE)\n",
        "            output = model(data)\n",
        "            test_loss += F.cross_entropy(output, target,\n",
        "                                         reduction='sum').item()\n",
        "            pred = output.max(1, keepdim=True)[1]\n",
        "            correct += pred.eq(target.view_as(pred)).sum().item()\n",
        "\n",
        "    test_loss /= len(test_loader.dataset)\n",
        "    test_accuracy = 100. * correct / len(test_loader.dataset)\n",
        "    return test_loss, test_accuracy"
      ],
      "execution_count": 47,
      "outputs": []
    },
    {
      "cell_type": "code",
      "metadata": {
        "id": "QdQU84Y3MuV0",
        "outputId": "cdd52050-3e6c-422e-bd06-124681deb483",
        "colab": {
          "base_uri": "https://localhost:8080/"
        }
      },
      "source": [
        "EPOCH = 40\n",
        "\n",
        "for epoch in range(1, EPOCH + 1):\n",
        "  train(model, train_loader, optimizer, epoch)\n",
        "  test_loss, test_accuracy = evaluate(model, test_loader)\n",
        "\n",
        "  print('[{}] Test Loss: {:.4f} Test Accuracy: {:.2f}%'.format(\n",
        "      epoch, test_loss, test_accuracy\n",
        "  ))"
      ],
      "execution_count": 51,
      "outputs": [
        {
          "output_type": "stream",
          "text": [
            "Train Epoch: 1 [0/60000 (0%)]\tLoss: 2.309549\n",
            "Train Epoch: 1 [12800/60000 (21%)]\tLoss: 0.774582\n",
            "Train Epoch: 1 [25600/60000 (43%)]\tLoss: 0.776020\n",
            "Train Epoch: 1 [38400/60000 (64%)]\tLoss: 0.453494\n",
            "Train Epoch: 1 [51200/60000 (85%)]\tLoss: 0.821750\n",
            "[1] Test Loss: 0.2409 Test Accuracy: 92.65%\n",
            "Train Epoch: 2 [0/60000 (0%)]\tLoss: 0.403695\n",
            "Train Epoch: 2 [12800/60000 (21%)]\tLoss: 0.251379\n",
            "Train Epoch: 2 [25600/60000 (43%)]\tLoss: 0.382291\n",
            "Train Epoch: 2 [38400/60000 (64%)]\tLoss: 0.185124\n",
            "Train Epoch: 2 [51200/60000 (85%)]\tLoss: 0.191618\n",
            "[2] Test Loss: 0.1842 Test Accuracy: 94.15%\n",
            "Train Epoch: 3 [0/60000 (0%)]\tLoss: 0.306696\n",
            "Train Epoch: 3 [12800/60000 (21%)]\tLoss: 0.218730\n",
            "Train Epoch: 3 [25600/60000 (43%)]\tLoss: 0.505087\n",
            "Train Epoch: 3 [38400/60000 (64%)]\tLoss: 0.278831\n",
            "Train Epoch: 3 [51200/60000 (85%)]\tLoss: 0.440854\n",
            "[3] Test Loss: 0.1365 Test Accuracy: 95.97%\n",
            "Train Epoch: 4 [0/60000 (0%)]\tLoss: 0.494143\n",
            "Train Epoch: 4 [12800/60000 (21%)]\tLoss: 0.548285\n",
            "Train Epoch: 4 [25600/60000 (43%)]\tLoss: 0.272577\n",
            "Train Epoch: 4 [38400/60000 (64%)]\tLoss: 0.655122\n",
            "Train Epoch: 4 [51200/60000 (85%)]\tLoss: 0.177316\n",
            "[4] Test Loss: 0.1167 Test Accuracy: 96.46%\n",
            "Train Epoch: 5 [0/60000 (0%)]\tLoss: 0.213193\n",
            "Train Epoch: 5 [12800/60000 (21%)]\tLoss: 0.310732\n",
            "Train Epoch: 5 [25600/60000 (43%)]\tLoss: 0.178090\n",
            "Train Epoch: 5 [38400/60000 (64%)]\tLoss: 0.206831\n",
            "Train Epoch: 5 [51200/60000 (85%)]\tLoss: 0.112665\n",
            "[5] Test Loss: 0.1016 Test Accuracy: 97.00%\n",
            "Train Epoch: 6 [0/60000 (0%)]\tLoss: 0.250018\n",
            "Train Epoch: 6 [12800/60000 (21%)]\tLoss: 0.221433\n",
            "Train Epoch: 6 [25600/60000 (43%)]\tLoss: 0.160163\n",
            "Train Epoch: 6 [38400/60000 (64%)]\tLoss: 0.304424\n",
            "Train Epoch: 6 [51200/60000 (85%)]\tLoss: 0.320024\n",
            "[6] Test Loss: 0.0952 Test Accuracy: 96.92%\n",
            "Train Epoch: 7 [0/60000 (0%)]\tLoss: 0.129632\n",
            "Train Epoch: 7 [12800/60000 (21%)]\tLoss: 0.403875\n",
            "Train Epoch: 7 [25600/60000 (43%)]\tLoss: 0.155285\n",
            "Train Epoch: 7 [38400/60000 (64%)]\tLoss: 0.170188\n",
            "Train Epoch: 7 [51200/60000 (85%)]\tLoss: 0.204540\n",
            "[7] Test Loss: 0.0879 Test Accuracy: 97.13%\n",
            "Train Epoch: 8 [0/60000 (0%)]\tLoss: 0.122213\n",
            "Train Epoch: 8 [12800/60000 (21%)]\tLoss: 0.344308\n",
            "Train Epoch: 8 [25600/60000 (43%)]\tLoss: 0.207558\n",
            "Train Epoch: 8 [38400/60000 (64%)]\tLoss: 0.202328\n",
            "Train Epoch: 8 [51200/60000 (85%)]\tLoss: 0.365971\n",
            "[8] Test Loss: 0.0860 Test Accuracy: 97.39%\n",
            "Train Epoch: 9 [0/60000 (0%)]\tLoss: 0.211977\n",
            "Train Epoch: 9 [12800/60000 (21%)]\tLoss: 0.311313\n",
            "Train Epoch: 9 [25600/60000 (43%)]\tLoss: 0.204567\n",
            "Train Epoch: 9 [38400/60000 (64%)]\tLoss: 0.283465\n",
            "Train Epoch: 9 [51200/60000 (85%)]\tLoss: 0.143703\n",
            "[9] Test Loss: 0.0839 Test Accuracy: 97.26%\n",
            "Train Epoch: 10 [0/60000 (0%)]\tLoss: 0.112360\n",
            "Train Epoch: 10 [12800/60000 (21%)]\tLoss: 0.135704\n",
            "Train Epoch: 10 [25600/60000 (43%)]\tLoss: 0.166615\n",
            "Train Epoch: 10 [38400/60000 (64%)]\tLoss: 0.182523\n",
            "Train Epoch: 10 [51200/60000 (85%)]\tLoss: 0.318721\n",
            "[10] Test Loss: 0.0740 Test Accuracy: 97.61%\n",
            "Train Epoch: 11 [0/60000 (0%)]\tLoss: 0.156788\n",
            "Train Epoch: 11 [12800/60000 (21%)]\tLoss: 0.167597\n",
            "Train Epoch: 11 [25600/60000 (43%)]\tLoss: 0.093280\n",
            "Train Epoch: 11 [38400/60000 (64%)]\tLoss: 0.184421\n",
            "Train Epoch: 11 [51200/60000 (85%)]\tLoss: 0.089327\n",
            "[11] Test Loss: 0.0772 Test Accuracy: 97.51%\n",
            "Train Epoch: 12 [0/60000 (0%)]\tLoss: 0.381323\n",
            "Train Epoch: 12 [12800/60000 (21%)]\tLoss: 0.077769\n",
            "Train Epoch: 12 [25600/60000 (43%)]\tLoss: 0.268580\n",
            "Train Epoch: 12 [38400/60000 (64%)]\tLoss: 0.203409\n",
            "Train Epoch: 12 [51200/60000 (85%)]\tLoss: 0.289183\n",
            "[12] Test Loss: 0.0715 Test Accuracy: 97.64%\n",
            "Train Epoch: 13 [0/60000 (0%)]\tLoss: 0.280151\n",
            "Train Epoch: 13 [12800/60000 (21%)]\tLoss: 0.214305\n",
            "Train Epoch: 13 [25600/60000 (43%)]\tLoss: 0.098842\n",
            "Train Epoch: 13 [38400/60000 (64%)]\tLoss: 0.158529\n",
            "Train Epoch: 13 [51200/60000 (85%)]\tLoss: 0.201432\n",
            "[13] Test Loss: 0.0686 Test Accuracy: 97.81%\n",
            "Train Epoch: 14 [0/60000 (0%)]\tLoss: 0.210987\n",
            "Train Epoch: 14 [12800/60000 (21%)]\tLoss: 0.215015\n",
            "Train Epoch: 14 [25600/60000 (43%)]\tLoss: 0.205347\n",
            "Train Epoch: 14 [38400/60000 (64%)]\tLoss: 0.086838\n",
            "Train Epoch: 14 [51200/60000 (85%)]\tLoss: 0.085699\n",
            "[14] Test Loss: 0.0667 Test Accuracy: 97.97%\n",
            "Train Epoch: 15 [0/60000 (0%)]\tLoss: 0.185476\n",
            "Train Epoch: 15 [12800/60000 (21%)]\tLoss: 0.178037\n",
            "Train Epoch: 15 [25600/60000 (43%)]\tLoss: 0.178107\n",
            "Train Epoch: 15 [38400/60000 (64%)]\tLoss: 0.154397\n",
            "Train Epoch: 15 [51200/60000 (85%)]\tLoss: 0.146770\n",
            "[15] Test Loss: 0.0692 Test Accuracy: 97.80%\n",
            "Train Epoch: 16 [0/60000 (0%)]\tLoss: 0.176446\n",
            "Train Epoch: 16 [12800/60000 (21%)]\tLoss: 0.051518\n",
            "Train Epoch: 16 [25600/60000 (43%)]\tLoss: 0.219595\n",
            "Train Epoch: 16 [38400/60000 (64%)]\tLoss: 0.129014\n",
            "Train Epoch: 16 [51200/60000 (85%)]\tLoss: 0.139340\n",
            "[16] Test Loss: 0.0633 Test Accuracy: 98.05%\n",
            "Train Epoch: 17 [0/60000 (0%)]\tLoss: 0.168170\n",
            "Train Epoch: 17 [12800/60000 (21%)]\tLoss: 0.302006\n",
            "Train Epoch: 17 [25600/60000 (43%)]\tLoss: 0.158067\n",
            "Train Epoch: 17 [38400/60000 (64%)]\tLoss: 0.180337\n",
            "Train Epoch: 17 [51200/60000 (85%)]\tLoss: 0.161710\n",
            "[17] Test Loss: 0.0668 Test Accuracy: 97.92%\n",
            "Train Epoch: 18 [0/60000 (0%)]\tLoss: 0.384249\n",
            "Train Epoch: 18 [12800/60000 (21%)]\tLoss: 0.169345\n",
            "Train Epoch: 18 [25600/60000 (43%)]\tLoss: 0.084248\n",
            "Train Epoch: 18 [38400/60000 (64%)]\tLoss: 0.318019\n",
            "Train Epoch: 18 [51200/60000 (85%)]\tLoss: 0.199571\n",
            "[18] Test Loss: 0.0658 Test Accuracy: 97.84%\n",
            "Train Epoch: 19 [0/60000 (0%)]\tLoss: 0.232812\n",
            "Train Epoch: 19 [12800/60000 (21%)]\tLoss: 0.158881\n",
            "Train Epoch: 19 [25600/60000 (43%)]\tLoss: 0.156585\n",
            "Train Epoch: 19 [38400/60000 (64%)]\tLoss: 0.113778\n",
            "Train Epoch: 19 [51200/60000 (85%)]\tLoss: 0.299091\n",
            "[19] Test Loss: 0.0676 Test Accuracy: 97.77%\n",
            "Train Epoch: 20 [0/60000 (0%)]\tLoss: 0.051399\n",
            "Train Epoch: 20 [12800/60000 (21%)]\tLoss: 0.157581\n",
            "Train Epoch: 20 [25600/60000 (43%)]\tLoss: 0.072942\n",
            "Train Epoch: 20 [38400/60000 (64%)]\tLoss: 0.154494\n",
            "Train Epoch: 20 [51200/60000 (85%)]\tLoss: 0.146698\n",
            "[20] Test Loss: 0.0602 Test Accuracy: 98.05%\n",
            "Train Epoch: 21 [0/60000 (0%)]\tLoss: 0.215921\n",
            "Train Epoch: 21 [12800/60000 (21%)]\tLoss: 0.168864\n",
            "Train Epoch: 21 [25600/60000 (43%)]\tLoss: 0.055585\n",
            "Train Epoch: 21 [38400/60000 (64%)]\tLoss: 0.122550\n",
            "Train Epoch: 21 [51200/60000 (85%)]\tLoss: 0.227600\n",
            "[21] Test Loss: 0.0610 Test Accuracy: 98.09%\n",
            "Train Epoch: 22 [0/60000 (0%)]\tLoss: 0.118766\n",
            "Train Epoch: 22 [12800/60000 (21%)]\tLoss: 0.106010\n",
            "Train Epoch: 22 [25600/60000 (43%)]\tLoss: 0.120333\n",
            "Train Epoch: 22 [38400/60000 (64%)]\tLoss: 0.127579\n",
            "Train Epoch: 22 [51200/60000 (85%)]\tLoss: 0.283818\n",
            "[22] Test Loss: 0.0611 Test Accuracy: 97.92%\n",
            "Train Epoch: 23 [0/60000 (0%)]\tLoss: 0.091544\n",
            "Train Epoch: 23 [12800/60000 (21%)]\tLoss: 0.375829\n",
            "Train Epoch: 23 [25600/60000 (43%)]\tLoss: 0.079015\n",
            "Train Epoch: 23 [38400/60000 (64%)]\tLoss: 0.129982\n",
            "Train Epoch: 23 [51200/60000 (85%)]\tLoss: 0.085805\n",
            "[23] Test Loss: 0.0596 Test Accuracy: 98.14%\n",
            "Train Epoch: 24 [0/60000 (0%)]\tLoss: 0.194052\n",
            "Train Epoch: 24 [12800/60000 (21%)]\tLoss: 0.411174\n",
            "Train Epoch: 24 [25600/60000 (43%)]\tLoss: 0.067253\n",
            "Train Epoch: 24 [38400/60000 (64%)]\tLoss: 0.097894\n",
            "Train Epoch: 24 [51200/60000 (85%)]\tLoss: 0.217098\n",
            "[24] Test Loss: 0.0550 Test Accuracy: 98.08%\n",
            "Train Epoch: 25 [0/60000 (0%)]\tLoss: 0.082698\n",
            "Train Epoch: 25 [12800/60000 (21%)]\tLoss: 0.245296\n",
            "Train Epoch: 25 [25600/60000 (43%)]\tLoss: 0.135543\n",
            "Train Epoch: 25 [38400/60000 (64%)]\tLoss: 0.135091\n",
            "Train Epoch: 25 [51200/60000 (85%)]\tLoss: 0.134218\n",
            "[25] Test Loss: 0.0573 Test Accuracy: 98.09%\n",
            "Train Epoch: 26 [0/60000 (0%)]\tLoss: 0.145769\n",
            "Train Epoch: 26 [12800/60000 (21%)]\tLoss: 0.083066\n",
            "Train Epoch: 26 [25600/60000 (43%)]\tLoss: 0.090439\n",
            "Train Epoch: 26 [38400/60000 (64%)]\tLoss: 0.203623\n",
            "Train Epoch: 26 [51200/60000 (85%)]\tLoss: 0.254522\n",
            "[26] Test Loss: 0.0556 Test Accuracy: 98.30%\n",
            "Train Epoch: 27 [0/60000 (0%)]\tLoss: 0.143091\n",
            "Train Epoch: 27 [12800/60000 (21%)]\tLoss: 0.061346\n",
            "Train Epoch: 27 [25600/60000 (43%)]\tLoss: 0.061932\n",
            "Train Epoch: 27 [38400/60000 (64%)]\tLoss: 0.330699\n",
            "Train Epoch: 27 [51200/60000 (85%)]\tLoss: 0.190443\n",
            "[27] Test Loss: 0.0561 Test Accuracy: 98.20%\n",
            "Train Epoch: 28 [0/60000 (0%)]\tLoss: 0.163415\n",
            "Train Epoch: 28 [12800/60000 (21%)]\tLoss: 0.024317\n",
            "Train Epoch: 28 [25600/60000 (43%)]\tLoss: 0.113489\n",
            "Train Epoch: 28 [38400/60000 (64%)]\tLoss: 0.206018\n",
            "Train Epoch: 28 [51200/60000 (85%)]\tLoss: 0.226645\n",
            "[28] Test Loss: 0.0550 Test Accuracy: 98.19%\n",
            "Train Epoch: 29 [0/60000 (0%)]\tLoss: 0.165913\n",
            "Train Epoch: 29 [12800/60000 (21%)]\tLoss: 0.194144\n",
            "Train Epoch: 29 [25600/60000 (43%)]\tLoss: 0.160113\n",
            "Train Epoch: 29 [38400/60000 (64%)]\tLoss: 0.085468\n",
            "Train Epoch: 29 [51200/60000 (85%)]\tLoss: 0.153251\n",
            "[29] Test Loss: 0.0530 Test Accuracy: 98.26%\n",
            "Train Epoch: 30 [0/60000 (0%)]\tLoss: 0.073640\n",
            "Train Epoch: 30 [12800/60000 (21%)]\tLoss: 0.068397\n",
            "Train Epoch: 30 [25600/60000 (43%)]\tLoss: 0.104340\n",
            "Train Epoch: 30 [38400/60000 (64%)]\tLoss: 0.161189\n",
            "Train Epoch: 30 [51200/60000 (85%)]\tLoss: 0.077414\n",
            "[30] Test Loss: 0.0599 Test Accuracy: 98.11%\n",
            "Train Epoch: 31 [0/60000 (0%)]\tLoss: 0.178108\n",
            "Train Epoch: 31 [12800/60000 (21%)]\tLoss: 0.078277\n",
            "Train Epoch: 31 [25600/60000 (43%)]\tLoss: 0.319897\n",
            "Train Epoch: 31 [38400/60000 (64%)]\tLoss: 0.049659\n",
            "Train Epoch: 31 [51200/60000 (85%)]\tLoss: 0.129942\n",
            "[31] Test Loss: 0.0532 Test Accuracy: 98.20%\n",
            "Train Epoch: 32 [0/60000 (0%)]\tLoss: 0.266874\n",
            "Train Epoch: 32 [12800/60000 (21%)]\tLoss: 0.138785\n",
            "Train Epoch: 32 [25600/60000 (43%)]\tLoss: 0.130986\n",
            "Train Epoch: 32 [38400/60000 (64%)]\tLoss: 0.260186\n",
            "Train Epoch: 32 [51200/60000 (85%)]\tLoss: 0.161356\n",
            "[32] Test Loss: 0.0519 Test Accuracy: 98.39%\n",
            "Train Epoch: 33 [0/60000 (0%)]\tLoss: 0.167051\n",
            "Train Epoch: 33 [12800/60000 (21%)]\tLoss: 0.115945\n",
            "Train Epoch: 33 [25600/60000 (43%)]\tLoss: 0.047332\n",
            "Train Epoch: 33 [38400/60000 (64%)]\tLoss: 0.022284\n",
            "Train Epoch: 33 [51200/60000 (85%)]\tLoss: 0.129382\n",
            "[33] Test Loss: 0.0554 Test Accuracy: 98.10%\n",
            "Train Epoch: 34 [0/60000 (0%)]\tLoss: 0.148662\n",
            "Train Epoch: 34 [12800/60000 (21%)]\tLoss: 0.177662\n",
            "Train Epoch: 34 [25600/60000 (43%)]\tLoss: 0.075048\n",
            "Train Epoch: 34 [38400/60000 (64%)]\tLoss: 0.164691\n",
            "Train Epoch: 34 [51200/60000 (85%)]\tLoss: 0.186610\n",
            "[34] Test Loss: 0.0549 Test Accuracy: 98.19%\n",
            "Train Epoch: 35 [0/60000 (0%)]\tLoss: 0.077108\n",
            "Train Epoch: 35 [12800/60000 (21%)]\tLoss: 0.142425\n",
            "Train Epoch: 35 [25600/60000 (43%)]\tLoss: 0.117515\n",
            "Train Epoch: 35 [38400/60000 (64%)]\tLoss: 0.087629\n",
            "Train Epoch: 35 [51200/60000 (85%)]\tLoss: 0.089428\n",
            "[35] Test Loss: 0.0616 Test Accuracy: 98.10%\n",
            "Train Epoch: 36 [0/60000 (0%)]\tLoss: 0.098848\n",
            "Train Epoch: 36 [12800/60000 (21%)]\tLoss: 0.059513\n",
            "Train Epoch: 36 [25600/60000 (43%)]\tLoss: 0.011496\n",
            "Train Epoch: 36 [38400/60000 (64%)]\tLoss: 0.272108\n",
            "Train Epoch: 36 [51200/60000 (85%)]\tLoss: 0.171572\n",
            "[36] Test Loss: 0.0548 Test Accuracy: 98.29%\n",
            "Train Epoch: 37 [0/60000 (0%)]\tLoss: 0.077139\n",
            "Train Epoch: 37 [12800/60000 (21%)]\tLoss: 0.146206\n",
            "Train Epoch: 37 [25600/60000 (43%)]\tLoss: 0.066526\n",
            "Train Epoch: 37 [38400/60000 (64%)]\tLoss: 0.080071\n",
            "Train Epoch: 37 [51200/60000 (85%)]\tLoss: 0.065645\n",
            "[37] Test Loss: 0.0573 Test Accuracy: 98.19%\n",
            "Train Epoch: 38 [0/60000 (0%)]\tLoss: 0.148970\n",
            "Train Epoch: 38 [12800/60000 (21%)]\tLoss: 0.137778\n",
            "Train Epoch: 38 [25600/60000 (43%)]\tLoss: 0.141430\n",
            "Train Epoch: 38 [38400/60000 (64%)]\tLoss: 0.081870\n",
            "Train Epoch: 38 [51200/60000 (85%)]\tLoss: 0.239919\n",
            "[38] Test Loss: 0.0557 Test Accuracy: 98.15%\n",
            "Train Epoch: 39 [0/60000 (0%)]\tLoss: 0.068923\n",
            "Train Epoch: 39 [12800/60000 (21%)]\tLoss: 0.131759\n",
            "Train Epoch: 39 [25600/60000 (43%)]\tLoss: 0.190968\n",
            "Train Epoch: 39 [38400/60000 (64%)]\tLoss: 0.192657\n",
            "Train Epoch: 39 [51200/60000 (85%)]\tLoss: 0.267242\n",
            "[39] Test Loss: 0.0545 Test Accuracy: 98.26%\n",
            "Train Epoch: 40 [0/60000 (0%)]\tLoss: 0.062221\n",
            "Train Epoch: 40 [12800/60000 (21%)]\tLoss: 0.166334\n",
            "Train Epoch: 40 [25600/60000 (43%)]\tLoss: 0.104958\n",
            "Train Epoch: 40 [38400/60000 (64%)]\tLoss: 0.059356\n",
            "Train Epoch: 40 [51200/60000 (85%)]\tLoss: 0.244149\n",
            "[40] Test Loss: 0.0501 Test Accuracy: 98.32%\n"
          ],
          "name": "stdout"
        }
      ]
    },
    {
      "cell_type": "code",
      "metadata": {
        "id": "YMcsdyveOWaU"
      },
      "source": [
        ""
      ],
      "execution_count": null,
      "outputs": []
    }
  ]
}