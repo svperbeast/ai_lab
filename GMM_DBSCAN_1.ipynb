{
  "nbformat": 4,
  "nbformat_minor": 0,
  "metadata": {
    "language_info": {
      "codemirror_mode": {
        "name": "ipython",
        "version": 3
      },
      "file_extension": ".py",
      "mimetype": "text/x-python",
      "name": "python",
      "nbconvert_exporter": "python",
      "pygments_lexer": "ipython3",
      "version": "3.6.7-final"
    },
    "orig_nbformat": 2,
    "kernelspec": {
      "name": "Python 3.6.7 64-bit",
      "display_name": "Python 3.6.7 64-bit",
      "metadata": {
        "interpreter": {
          "hash": "3e3097c6c5ce7a7c3a19e8af3cbbedad6bd4b76b05ed4ed6e1c1b9103e21364b"
        }
      }
    },
    "colab": {
      "name": "GMM_DBSCAN_1.ipynb",
      "provenance": [],
      "include_colab_link": true
    }
  },
  "cells": [
    {
      "cell_type": "markdown",
      "metadata": {
        "id": "view-in-github",
        "colab_type": "text"
      },
      "source": [
        "<a href=\"https://colab.research.google.com/github/svperbeast/ai_lab/blob/main/GMM_DBSCAN_1.ipynb\" target=\"_parent\"><img src=\"https://colab.research.google.com/assets/colab-badge.svg\" alt=\"Open In Colab\"/></a>"
      ]
    },
    {
      "cell_type": "code",
      "metadata": {
        "id": "Z0WmXCrDI0EW"
      },
      "source": [
        "import numpy as np\n",
        "import matplotlib.pyplot as plt\n",
        "import pandas as pd\n",
        "import itertools\n",
        "from scipy import linalg\n",
        "\n",
        "from scipy.stats import multivariate_normal\n",
        "from sklearn.mixture import GaussianMixture\n",
        "from matplotlib.patches import Ellipse\n",
        "import matplotlib.transforms as transforms"
      ],
      "execution_count": 7,
      "outputs": []
    },
    {
      "cell_type": "code",
      "metadata": {
        "id": "bw93fUOuI09q"
      },
      "source": [
        "def confidence_ellipse(mu,sigma,ax,n_std=3.0,edgecolor='red'):\n",
        "    cov = sigma\n",
        "    pearson = cov[0, 1]/np.sqrt(cov[0, 0] * cov[1, 1])\n",
        "    # Using a special case to obtain the eigenvalues of this\n",
        "    # two-dimensionl dataset.\n",
        "    ell_radius_x = np.sqrt(1 + pearson)\n",
        "    ell_radius_y = np.sqrt(1 - pearson)\n",
        "    ellipse = Ellipse([0,0], width=ell_radius_x * 2.5, height=ell_radius_y * 2.5,\n",
        "                        edgecolor=edgecolor,facecolor='None')\n",
        "\n",
        "    scale_x = np.sqrt(cov[0, 0]) * n_std\n",
        "    mean_x = mu[0]\n",
        "\n",
        "    # calculating the stdandard deviation of y ...\n",
        "    scale_y = np.sqrt(cov[1, 1]) * n_std\n",
        "    mean_y = mu[1]\n",
        "\n",
        "    transf = transforms.Affine2D() \\\n",
        "        .rotate_deg(45) \\\n",
        "        .scale(scale_x, scale_y) \\\n",
        "        .translate(mean_x, mean_y)\n",
        "\n",
        "    ellipse.set_transform(transf + ax.transData)\n",
        "    return(ellipse)"
      ],
      "execution_count": 8,
      "outputs": []
    },
    {
      "cell_type": "code",
      "metadata": {
        "id": "af5t_NlGI0Eb"
      },
      "source": [
        "X = np.array([[-0.4,-1],\n",
        "[1.4,0.2],\n",
        "[1.8,0.3],\n",
        "[1.3,0.4],\n",
        "[0.1,-0.1],\n",
        "[-0.9,-0.2],\n",
        "[0.7,0.1],\n",
        "[-0.6,-1.2],\n",
        "[1.2,0.8],\n",
        "[0.6,1.4],\n",
        "[4.8,6.8],\n",
        "[5.2,5.6],\n",
        "[5.6,1.8],\n",
        "[3.3,4.6],\n",
        "[3.4,3.4],\n",
        "[6.2,6.0],\n",
        "[3.5,4.5],\n",
        "[5.1,4.4],\n",
        "[4.5,5.5],\n",
        "[4.6,3.9]])\n"
      ],
      "execution_count": 9,
      "outputs": []
    },
    {
      "cell_type": "code",
      "metadata": {
        "id": "WlVW9LeJI0Ee"
      },
      "source": [
        "p1 = 0.5\n",
        "p2 = 0.5\n",
        "mu1 = [0.6, 1.4]\n",
        "mu2 = [5.6, 1.8]\n",
        "sigma1 = np.identity(2)\n",
        "sigma2 = np.identity(2)"
      ],
      "execution_count": 10,
      "outputs": []
    },
    {
      "cell_type": "code",
      "metadata": {
        "id": "CA20I51ZI0Eg",
        "outputId": "d00273dd-2b86-4aa4-e7f1-1e4cf20bf3b9",
        "colab": {
          "base_uri": "https://localhost:8080/",
          "height": 265
        }
      },
      "source": [
        "# draw current fitting\n",
        "fig, axs = plt.subplots()\n",
        "axs.plot(X[:,0],X[:,1],'.')\n",
        "ellipse = confidence_ellipse(mu1,sigma1,n_std=1.3,ax=axs,edgecolor='red')\n",
        "axs.add_patch(ellipse)\n",
        "\n",
        "ellipse = confidence_ellipse(mu2,sigma2,n_std=1.3,ax=axs,edgecolor='blue')\n",
        "axs.add_patch(ellipse)\n",
        "axs.set_aspect('equal')"
      ],
      "execution_count": 16,
      "outputs": [
        {
          "output_type": "display_data",
          "data": {
            "image/png": "[encoded data removed]",
            "text/plain": [
              "<Figure size 432x288 with 1 Axes>"
            ]
          },
          "metadata": {
            "tags": [],
            "needs_background": "light"
          }
        }
      ]
    },
    {
      "cell_type": "code",
      "metadata": {
        "id": "zsTtSem8I0Ei",
        "outputId": "42490de4-50c0-45dc-e1af-1d1570129ec6",
        "colab": {
          "base_uri": "https://localhost:8080/",
          "height": 625
        }
      },
      "source": [
        "normal_1 = multivariate_normal(mean=mu1, cov=sigma1)\n",
        "normal_2 = multivariate_normal(mean=mu2, cov=sigma2)\n",
        "\n",
        "# expectation (compute cluster memberships)\n",
        "afmat = np.zeros([20,4])\n",
        "for i in range(20):\n",
        "    f1 = normal_1.pdf(X[i,:])\n",
        "    f2 = normal_2.pdf(X[i,:])\n",
        "    a1 = (p1*f1)/(p1*f1+p2*f2)\n",
        "    a2 = (p2*f2)/(p1*f1+p2*f2)\n",
        "    afmat[i,0] = f1\n",
        "    afmat[i,1] = f2\n",
        "    afmat[i,2] = a1\n",
        "    afmat[i,3] = a2\n",
        "\n",
        "np.set_printoptions(formatter={'float': lambda x: \"{0:0.3f}\".format(x)})\n",
        "print(afmat)\n",
        "# log-likelihood\n",
        "loglikehd = np.log(np.prod(p1*afmat[:,0] + p2*afmat[:,1]))\n",
        "\n",
        "# maximization (update parameters)\n",
        "p1 = np.sum(afmat[:,2]) / 20\n",
        "p2 = np.sum(afmat[:,3]) / 20\n",
        "\n",
        "mu1 = [np.sum((afmat[:,2]/np.sum(afmat[:,2]))*X[:,0]), np.sum((afmat[:,2]/np.sum(afmat[:,2]))*X[:,1])]\n",
        "mu2 = [np.sum((afmat[:,3]/np.sum(afmat[:,3]))*X[:,0]), np.sum((afmat[:,3]/np.sum(afmat[:,3]))*X[:,1])]\n",
        "\n",
        "sigma1 = sigma2 = np.zeros([2,2])\n",
        "\n",
        "for i in range(20):\n",
        "  sigma1 = sigma1 + afmat[i,2]*(X[i,:]-(mu1))[np.newaxis].T.dot((X[i,:]-(mu1))[np.newaxis])\n",
        "  sigma2 = sigma2 + afmat[i,3]*(X[i,:]-(mu2))[np.newaxis].T.dot((X[i,:]-(mu2))[np.newaxis])\n",
        "\n",
        "sigma1 = sigma1 / np.sum(afmat[:,2])\n",
        "sigma2 = sigma2 / np.sum(afmat[:,3])\n",
        "\n",
        "# draw current fitting\n",
        "fig, axs = plt.subplots()\n",
        "axs.plot(X[:,0],X[:,1],'.')\n",
        "ellipse = confidence_ellipse(mu1,sigma1,n_std=1.3,ax=axs,edgecolor='red')\n",
        "axs.add_patch(ellipse)\n",
        "\n",
        "ellipse = confidence_ellipse(mu2,sigma2,n_std=1.3,ax=axs,edgecolor='blue')\n",
        "axs.add_patch(ellipse)\n",
        "axs.set_aspect('equal')\n",
        "\n",
        "np.set_printoptions(edgeitems=3, infstr='inf',\n",
        "linewidth=75, nanstr='nan', precision=8,\n",
        "suppress=False, threshold=1000, formatter=None)"
      ],
      "execution_count": 21,
      "outputs": [
        {
          "output_type": "stream",
          "text": [
            "[[0.109 0.000 1.000 0.000]\n",
            " [0.163 0.000 1.000 0.000]\n",
            " [0.082 0.000 1.000 0.000]\n",
            " [0.215 0.000 1.000 0.000]\n",
            " [0.285 0.000 1.000 0.000]\n",
            " [0.061 0.000 1.000 0.000]\n",
            " [0.312 0.000 1.000 0.000]\n",
            " [0.069 0.000 1.000 0.000]\n",
            " [0.192 0.000 1.000 0.000]\n",
            " [0.023 0.000 1.000 0.000]\n",
            " [0.000 0.036 0.000 1.000]\n",
            " [0.000 0.087 0.000 1.000]\n",
            " [0.000 0.005 0.000 1.000]\n",
            " [0.000 0.046 0.000 1.000]\n",
            " [0.000 0.041 0.000 1.000]\n",
            " [0.000 0.022 0.000 1.000]\n",
            " [0.000 0.061 0.000 1.000]\n",
            " [0.000 0.108 0.000 1.000]\n",
            " [0.000 0.103 0.000 1.000]\n",
            " [0.000 0.110 0.000 1.000]]\n"
          ],
          "name": "stdout"
        },
        {
          "output_type": "display_data",
          "data": {
            "image/png": "[encoded data removed]",
            "text/plain": [
              "<Figure size 432x288 with 1 Axes>"
            ]
          },
          "metadata": {
            "tags": [],
            "needs_background": "light"
          }
        }
      ]
    },
    {
      "cell_type": "code",
      "metadata": {
        "id": "QD0TdkeKI0Ek"
      },
      "source": [
        "cars = pd.read_csv('cars.csv')\n",
        "mean_cars = np.asarray(np.mean(cars))\n",
        "sd_cars = np.asarray(np.std(cars))\n",
        "cars_stdz = (np.array(cars)-mean_cars)/sd_cars\n",
        "X = cars_stdz"
      ],
      "execution_count": 22,
      "outputs": []
    },
    {
      "cell_type": "code",
      "metadata": {
        "id": "w4Zug15GI0Em",
        "outputId": "318550fc-f7c4-460e-af8d-5cf5f9165b7c",
        "colab": {
          "base_uri": "https://localhost:8080/",
          "height": 244
        }
      },
      "source": [
        "lowest_bic = np.infty\n",
        "bic = []\n",
        "n_components_range = range(1, 7)\n",
        "cv_types = ['spherical', 'tied', 'diag', 'full']\n",
        "for cv_type in cv_types:\n",
        "    for n_components in n_components_range:\n",
        "        # Fit a Gaussian mixture with EM\n",
        "        gmm = GaussianMixture(n_components=n_components,\n",
        "                                      covariance_type=cv_type)\n",
        "        gmm.fit(X)\n",
        "        bic.append(gmm.bic(X))\n",
        "        if bic[-1] < lowest_bic:\n",
        "            lowest_bic = bic[-1]\n",
        "            best_gmm = gmm\n",
        "\n",
        "bic = np.array(bic)\n",
        "color_iter = itertools.cycle(['navy', 'turquoise', 'cornflowerblue',\n",
        "                              'darkorange'])\n",
        "clf = best_gmm\n",
        "bars = []\n",
        "\n",
        "# Plot the BIC scores\n",
        "plt.figure(figsize=(8, 6))\n",
        "spl = plt.subplot(2, 1, 1)\n",
        "for i, (cv_type, color) in enumerate(zip(cv_types, color_iter)):\n",
        "    xpos = np.array(n_components_range) + .2 * (i - 2)\n",
        "    bars.append(plt.bar(xpos, bic[i * len(n_components_range):\n",
        "                                  (i + 1) * len(n_components_range)],\n",
        "                        width=.2, color=color))\n",
        "plt.xticks(n_components_range)\n",
        "plt.ylim([bic.min() * 1.01 - .01 * bic.max(), bic.max()])\n",
        "plt.title('BIC score per model')\n",
        "xpos = np.mod(bic.argmin(), len(n_components_range)) + .65 +\\\n",
        "    .2 * np.floor(bic.argmin() / len(n_components_range))\n",
        "plt.text(xpos, bic.min() * 0.97 + .03 * bic.max(), '*', fontsize=14)\n",
        "spl.set_xlabel('Number of components')\n",
        "spl.legend([b[0] for b in bars], cv_types)"
      ],
      "execution_count": 23,
      "outputs": [
        {
          "output_type": "execute_result",
          "data": {
            "text/plain": [
              "<matplotlib.legend.Legend at 0x7f91960eb358>"
            ]
          },
          "metadata": {
            "tags": []
          },
          "execution_count": 23
        },
        {
          "output_type": "display_data",
          "data": {
            "image/png": "[encoded data removed]",
            "text/plain": [
              "<Figure size 576x432 with 1 Axes>"
            ]
          },
          "metadata": {
            "tags": [],
            "needs_background": "light"
          }
        }
      ]
    },
    {
      "cell_type": "code",
      "metadata": {
        "id": "OTY9ERrJI0Eo",
        "outputId": "7b4da95f-53f4-4e15-e316-30d6d9b78e95",
        "colab": {
          "base_uri": "https://localhost:8080/",
          "height": 915
        }
      },
      "source": [
        "pd.plotting.scatter_matrix(pd.DataFrame(X,columns=list(cars.columns)),c=clf.predict(X),alpha=1, figsize = (10, 10),s=100)"
      ],
      "execution_count": 24,
      "outputs": [
        {
          "output_type": "execute_result",
          "data": {
            "text/plain": [
              "array([[<matplotlib.axes._subplots.AxesSubplot object at 0x7f9196477048>,\n",
              "        <matplotlib.axes._subplots.AxesSubplot object at 0x7f91960144a8>,\n",
              "        <matplotlib.axes._subplots.AxesSubplot object at 0x7f9195fc5710>,\n",
              "        <matplotlib.axes._subplots.AxesSubplot object at 0x7f9195f76978>],\n",
              "       [<matplotlib.axes._subplots.AxesSubplot object at 0x7f9195faabe0>,\n",
              "        <matplotlib.axes._subplots.AxesSubplot object at 0x7f9195f5fe48>,\n",
              "        <matplotlib.axes._subplots.AxesSubplot object at 0x7f9195f1f0f0>,\n",
              "        <matplotlib.axes._subplots.AxesSubplot object at 0x7f9195ed4320>],\n",
              "       [<matplotlib.axes._subplots.AxesSubplot object at 0x7f9195ed4390>,\n",
              "        <matplotlib.axes._subplots.AxesSubplot object at 0x7f9195e39828>,\n",
              "        <matplotlib.axes._subplots.AxesSubplot object at 0x7f9195e6ca90>,\n",
              "        <matplotlib.axes._subplots.AxesSubplot object at 0x7f9195f38588>],\n",
              "       [<matplotlib.axes._subplots.AxesSubplot object at 0x7f91961bb358>,\n",
              "        <matplotlib.axes._subplots.AxesSubplot object at 0x7f919621b860>,\n",
              "        <matplotlib.axes._subplots.AxesSubplot object at 0x7f9196256630>,\n",
              "        <matplotlib.axes._subplots.AxesSubplot object at 0x7f9196307048>]],\n",
              "      dtype=object)"
            ]
          },
          "metadata": {
            "tags": []
          },
          "execution_count": 24
        },
        {
          "output_type": "display_data",
          "data": {
            "image/png": "[encoded data removed]",
            "text/plain": [
              "<Figure size 720x720 with 16 Axes>"
            ]
          },
          "metadata": {
            "tags": [],
            "needs_background": "light"
          }
        }
      ]
    }
  ]
}