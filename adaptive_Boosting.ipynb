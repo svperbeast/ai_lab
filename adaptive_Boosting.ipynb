{
  "nbformat": 4,
  "nbformat_minor": 0,
  "metadata": {
    "kernelspec": {
      "display_name": "Python 3",
      "language": "python",
      "name": "python3"
    },
    "language_info": {
      "codemirror_mode": {
        "name": "ipython",
        "version": 2
      },
      "file_extension": ".py",
      "mimetype": "text/x-python",
      "name": "python",
      "nbconvert_exporter": "python",
      "pygments_lexer": "ipython2",
      "version": "2.7.6"
    },
    "colab": {
      "name": "adaptive Boosting.ipynb",
      "provenance": [],
      "toc_visible": true,
      "include_colab_link": true
    }
  },
  "cells": [
    {
      "cell_type": "markdown",
      "metadata": {
        "id": "view-in-github",
        "colab_type": "text"
      },
      "source": [
        "<a href=\"https://colab.research.google.com/github/svperbeast/ai_lab/blob/main/adaptive_Boosting.ipynb\" target=\"_parent\"><img src=\"https://colab.research.google.com/assets/colab-badge.svg\" alt=\"Open In Colab\"/></a>"
      ]
    },
    {
      "cell_type": "markdown",
      "metadata": {
        "collapsed": false,
        "id": "Ej8gDHUsi7e6"
      },
      "source": [
        "## 1.Adaboost"
      ]
    },
    {
      "cell_type": "markdown",
      "metadata": {
        "collapsed": false,
        "pycharm": {
          "name": "#%% md\n"
        },
        "id": "7rSFg7Oyi7e6"
      },
      "source": [
        "#### (1) Importing packages"
      ]
    },
    {
      "cell_type": "code",
      "metadata": {
        "id": "J2LBpaVKi7e7"
      },
      "source": [
        "import numpy as np\n",
        "import pandas as pd\n",
        "import matplotlib.pyplot as plt\n",
        "from sklearn.model_selection import train_test_split\n",
        "from sklearn.tree import DecisionTreeClassifier\n",
        "from sklearn.metrics import confusion_matrix"
      ],
      "execution_count": 1,
      "outputs": []
    },
    {
      "cell_type": "markdown",
      "metadata": {
        "collapsed": false,
        "id": "7VnX5o3Si7e9"
      },
      "source": [
        "#### (2) Load dataset for implementation\n",
        "###### - load PimaIndianDiabetes dataset and split"
      ]
    },
    {
      "cell_type": "code",
      "metadata": {
        "pycharm": {
          "name": "#%%\n"
        },
        "id": "AEPz2_13i7e-"
      },
      "source": [
        "PimaIndiansDiabetes = pd.read_csv(\"/content/PimaIndiansDiabetes.csv\")\n",
        "\n",
        "PimaIndiansDiabetes_X = PimaIndiansDiabetes.drop(columns=['diabetes'])\n",
        "PimaIndiansDiabetes_Y = PimaIndiansDiabetes['diabetes']\n",
        "\n",
        "n_train = 400\n",
        "\n",
        "dia_train_X, dia_test_X, dia_train_Y, dia_test_Y = train_test_split(PimaIndiansDiabetes_X, PimaIndiansDiabetes_Y, train_size=n_train)"
      ],
      "execution_count": 2,
      "outputs": []
    },
    {
      "cell_type": "markdown",
      "metadata": {
        "collapsed": false,
        "id": "BsxfZlo0i7fA"
      },
      "source": [
        "#### (3) Examples before initial settings"
      ]
    },
    {
      "cell_type": "code",
      "metadata": {
        "pycharm": {
          "name": "#%%\n"
        },
        "id": "xhno9Tobi7fA",
        "outputId": "fa27d37c-9f34-455d-acc9-d3113eef9288"
      },
      "source": [
        "wgt = np.repeat(1/400, 400)\n",
        "\n",
        "dia_rp = DecisionTreeClassifier(max_depth=30, min_samples_split=20)\n",
        "dia_rp.fit(dia_train_X, dia_train_Y, sample_weight=wgt)\n",
        "\n",
        "ci = dia_rp.predict(dia_train_X)\n",
        "\n",
        "x = confusion_matrix(dia_train_Y, ci)\n",
        "print(\"confusion matrix = \\n\", x)\n",
        "\n",
        "x_bst = 1-np.diag(x).sum()/np.sum(x)\n",
        "print(\"bst = \", 1-np.diag(x).sum()/np.sum(x))"
      ],
      "execution_count": null,
      "outputs": [
        {
          "output_type": "stream",
          "text": [
            "confusion matrix = \n",
            " [[239  22]\n",
            " [ 35 104]]\n",
            "bst =  0.14249999999999996\n"
          ],
          "name": "stdout"
        }
      ]
    },
    {
      "cell_type": "markdown",
      "metadata": {
        "collapsed": false,
        "id": "t2DO7r9Zi7fD"
      },
      "source": [
        "#### (4) Learning Adaboost"
      ]
    },
    {
      "cell_type": "code",
      "metadata": {
        "pycharm": {
          "name": "#%%\n"
        },
        "id": "eEu39kNJi7fD",
        "outputId": "e6ed0055-a096-4316-b22e-aa0d830d49a4"
      },
      "source": [
        "cit = np.array([])\n",
        "ait = np.array([])\n",
        "x_bst = np.array([])\n",
        "\n",
        "iter = 20\n",
        "\n",
        "for i in range(0,iter):\n",
        "    dia_rp = DecisionTreeClassifier(max_depth=30, min_samples_split=20)\n",
        "    dia_rp.fit(dia_train_X, dia_train_Y, sample_weight=wgt)\n",
        "\n",
        "    ci = dia_rp.predict(dia_train_X)\n",
        "    cit = np.append(cit, ci).reshape(i+1,-1)\n",
        "\n",
        "    x = confusion_matrix(dia_train_Y, ci)\n",
        "    x_bst = np.append(x_bst, 1-np.diag(x).sum()/np.sum(x))\n",
        "\n",
        "    ai = 0.5 * np.log(wgt[ci == dia_train_Y].sum()/wgt[ci != dia_train_Y].sum())\n",
        "    ait = np.append(ait, ai)\n",
        "\n",
        "    zt = np.sum(wgt * np.exp(-ai * np.sign(1*np.array(ci == dia_train_Y)-0.5)))\n",
        "    wgt = wgt * np.exp(-ai * np.sign(1*np.array(ci == dia_train_Y)-0.5)) / zt\n",
        "\n",
        "    print(\"iteration \", i+1, \" : \", x_bst[i], \" \", ai)"
      ],
      "execution_count": null,
      "outputs": [
        {
          "output_type": "stream",
          "text": [
            "iteration  1  :  0.14249999999999996   0.8973395896656948\n",
            "iteration  2  :  0.2025   0.9711745706029457\n",
            "iteration  3  :  0.15749999999999997   1.083906054468901\n",
            "iteration  4  :  0.15249999999999997   1.0941496185872037\n",
            "iteration  5  :  0.1975   1.176294551961644\n",
            "iteration  6  :  0.20999999999999996   1.1081186631991746\n",
            "iteration  7  :  0.21250000000000002   1.1266423554939862\n",
            "iteration  8  :  0.22999999999999998   1.0700533967796155\n",
            "iteration  9  :  0.21999999999999997   1.1342093451344526\n",
            "iteration  10  :  0.21999999999999997   1.2475630451550535\n",
            "iteration  11  :  0.1925   1.1922556359479841\n",
            "iteration  12  :  0.21750000000000003   0.9539374811962537\n",
            "iteration  13  :  0.22250000000000003   1.3352113239901455\n",
            "iteration  14  :  0.25249999999999995   1.2662373080601508\n",
            "iteration  15  :  0.2025   1.1853225191917767\n",
            "iteration  16  :  0.2025   1.2391847159873228\n",
            "iteration  17  :  0.245   1.2431321662519241\n",
            "iteration  18  :  0.23250000000000004   1.1428837750616394\n",
            "iteration  19  :  0.22499999999999998   0.9819245542142097\n",
            "iteration  20  :  0.21750000000000003   1.3126668981969105\n"
          ],
          "name": "stdout"
        }
      ]
    },
    {
      "cell_type": "markdown",
      "metadata": {
        "collapsed": false,
        "id": "D3anI2rDi7fF"
      },
      "source": [
        "#### (5) Prediction of Adaboost"
      ]
    },
    {
      "cell_type": "code",
      "metadata": {
        "pycharm": {
          "name": "#%%\n"
        },
        "id": "FiwMRzwci7fG"
      },
      "source": [
        "cit = np.sign(1*(cit == 'pos')-0.5)"
      ],
      "execution_count": null,
      "outputs": []
    },
    {
      "cell_type": "code",
      "metadata": {
        "pycharm": {
          "name": "#%%\n"
        },
        "id": "zfjxgWmdi7fH",
        "outputId": "e15c2f3e-b18b-4926-9613-5fdc4692c3be"
      },
      "source": [
        "pred = np.array([])\n",
        "for i in range(0,iter):\n",
        "    x = 0\n",
        "    for j in range(0,i+1):\n",
        "        x = x + ait[j]*cit[j,:]\n",
        "    # print(x)\n",
        "    pred = np.append(pred, x)\n",
        "\n",
        "pred = np.sign(pred.reshape(iter,-1))\n",
        "\n",
        "print(pred)\n",
        "\n",
        "y_bst = np.array([])\n",
        "dia_train_Y_tmp = np.sign(1*(dia_train_Y=='pos')-0.5)\n",
        "for i in range(0,iter):\n",
        "    x = confusion_matrix(dia_train_Y_tmp, pred[i,:])\n",
        "    print(1-np.diag(x).sum()/np.sum(x))\n",
        "    y_bst = np.append(y_bst, 1-np.diag(x).sum()/np.sum(x))\n"
      ],
      "execution_count": null,
      "outputs": [
        {
          "output_type": "stream",
          "text": [
            "[[ 1. -1. -1. ... -1.  1. -1.]\n",
            " [-1. -1. -1. ...  1.  1. -1.]\n",
            " [ 1. -1. -1. ...  1.  1. -1.]\n",
            " ...\n",
            " [ 1. -1. -1. ...  1.  1. -1.]\n",
            " [ 1. -1. -1. ...  1.  1. -1.]\n",
            " [ 1. -1. -1. ...  1.  1. -1.]]\n",
            "0.14249999999999996\n",
            "0.2025\n",
            "0.03249999999999997\n",
            "0.040000000000000036\n",
            "0.0\n",
            "0.0050000000000000044\n",
            "0.0\n",
            "0.0\n",
            "0.0\n",
            "0.0\n",
            "0.0\n",
            "0.0\n",
            "0.0\n",
            "0.0\n",
            "0.0\n",
            "0.0\n",
            "0.0\n",
            "0.0\n",
            "0.0\n",
            "0.0\n"
          ],
          "name": "stdout"
        }
      ]
    },
    {
      "cell_type": "markdown",
      "metadata": {
        "collapsed": false,
        "pycharm": {
          "name": "#%% md\n"
        },
        "id": "8_gAGkIIi7fJ"
      },
      "source": [
        "### (6) Plotting"
      ]
    },
    {
      "cell_type": "markdown",
      "metadata": {
        "collapsed": false,
        "id": "Okgn2O-Bi7fK"
      },
      "source": [
        "##### - Error from each boosting iterations"
      ]
    },
    {
      "cell_type": "code",
      "metadata": {
        "pycharm": {
          "name": "#%%\n"
        },
        "id": "uGfuxcjPi7fK",
        "outputId": "3bef9241-5fc3-4e16-c3a0-7a24a1fbfb73"
      },
      "source": [
        "plt.plot(range(0,iter), x_bst)\n",
        "plt.title('Error from each boosting iterations')\n",
        "plt.show()"
      ],
      "execution_count": null,
      "outputs": [
        {
          "output_type": "display_data",
          "data": {
            "text/plain": [
              "<Figure size 432x288 with 1 Axes>"
            ],
            "image/png": "[encoded data removed]"
          },
          "metadata": {
            "tags": [],
            "needs_background": "light"
          }
        }
      ]
    },
    {
      "cell_type": "markdown",
      "metadata": {
        "collapsed": false,
        "id": "cEVh9OoRi7fM"
      },
      "source": [
        "##### - Error arising from averaging predictions"
      ]
    },
    {
      "cell_type": "code",
      "metadata": {
        "pycharm": {
          "name": "#%%\n"
        },
        "id": "vMXankPei7fN",
        "outputId": "a2236644-551b-4ac4-964c-f2306780ab7c"
      },
      "source": [
        "plt.plot(range(0,iter), y_bst)\n",
        "plt.title(\"Error arising from averaging predictions\")\n",
        "plt.show()"
      ],
      "execution_count": null,
      "outputs": [
        {
          "output_type": "display_data",
          "data": {
            "text/plain": [
              "<Figure size 432x288 with 1 Axes>"
            ],
            "image/png": "[encoded data removed]"
          },
          "metadata": {
            "tags": [],
            "needs_background": "light"
          }
        }
      ]
    },
    {
      "cell_type": "markdown",
      "metadata": {
        "collapsed": false,
        "id": "H1o6YKIOi7fO"
      },
      "source": [
        "### (7) Using sklearn.ensemble package"
      ]
    },
    {
      "cell_type": "code",
      "metadata": {
        "pycharm": {
          "name": "#%%\n"
        },
        "id": "IFCqXJG2i7fP",
        "outputId": "e778bfe5-d20a-4aa5-f7c7-ce5a707542e3"
      },
      "source": [
        "from sklearn.ensemble import AdaBoostClassifier\n",
        "\n",
        "phishing = pd.read_csv(filepath_or_buffer= glob_dir+\"/phishing.csv\")\n",
        "\n",
        "phishing_X = phishing.drop(columns=['Y'])\n",
        "phishing_Y = phishing['Y']\n",
        "\n",
        "train_X, test_X, train_Y, test_Y = train_test_split(phishing_X, phishing_Y, train_size=0.7)\n",
        "\n",
        "adaboost = AdaBoostClassifier(n_estimators=50)\n",
        "adaboost.fit(train_X, train_Y)\n",
        "\n",
        "pred_tr = adaboost.predict(train_X)\n",
        "x_tr = confusion_matrix(train_Y, pred_tr)\n",
        "print(\"confusion matrix for train set = \\n\",x_tr)\n",
        "print(\"Acc = \", np.diag(x_tr).sum()/np.sum(x_tr))\n",
        "\n",
        "pred_ts = adaboost.predict(test_X)\n",
        "x_ts = confusion_matrix(test_Y, pred_ts)\n",
        "print(\"confusion matrix for test set = \\n\",x_ts)\n",
        "print(\"Acc = \", np.diag(x_ts).sum()/np.sum(x_ts))"
      ],
      "execution_count": null,
      "outputs": [
        {
          "output_type": "stream",
          "text": [
            "confusion matrix for train set = \n",
            " [[471  29]\n",
            " [ 54 392]]\n",
            "Acc =  0.912262156448203\n",
            "confusion matrix for test set = \n",
            " [[186  16]\n",
            " [ 29 175]]\n",
            "Acc =  0.8891625615763546\n"
          ],
          "name": "stdout"
        }
      ]
    },
    {
      "cell_type": "code",
      "metadata": {
        "pycharm": {
          "name": "#%%\n"
        },
        "id": "Swxz13Soi7fR"
      },
      "source": [
        "import os\n",
        "\n",
        "os.system('jupyter nbconvert --to html jp1.ipynb')"
      ],
      "execution_count": null,
      "outputs": []
    }
  ]
}