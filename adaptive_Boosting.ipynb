{
  "nbformat": 4,
  "nbformat_minor": 0,
  "metadata": {
    "kernelspec": {
      "display_name": "Python 3",
      "language": "python",
      "name": "python3"
    },
    "language_info": {
      "codemirror_mode": {
        "name": "ipython",
        "version": 2
      },
      "file_extension": ".py",
      "mimetype": "text/x-python",
      "name": "python",
      "nbconvert_exporter": "python",
      "pygments_lexer": "ipython2",
      "version": "2.7.6"
    },
    "colab": {
      "name": "adaptive Boosting.ipynb",
      "provenance": [],
      "toc_visible": true,
      "include_colab_link": true
    }
  },
  "cells": [
    {
      "cell_type": "markdown",
      "metadata": {
        "id": "view-in-github",
        "colab_type": "text"
      },
      "source": [
        "<a href=\"https://colab.research.google.com/github/svperbeast/ai_lab/blob/main/adaptive_Boosting.ipynb\" target=\"_parent\"><img src=\"https://colab.research.google.com/assets/colab-badge.svg\" alt=\"Open In Colab\"/></a>"
      ]
    },
    {
      "cell_type": "markdown",
      "metadata": {
        "collapsed": false,
        "id": "Ej8gDHUsi7e6"
      },
      "source": [
        "## 1.Adaboost"
      ]
    },
    {
      "cell_type": "markdown",
      "metadata": {
        "collapsed": false,
        "pycharm": {
          "name": "#%% md\n"
        },
        "id": "7rSFg7Oyi7e6"
      },
      "source": [
        "#### (1) Importing packages"
      ]
    },
    {
      "cell_type": "code",
      "metadata": {
        "id": "J2LBpaVKi7e7"
      },
      "source": [
        "import numpy as np\n",
        "import pandas as pd\n",
        "import matplotlib.pyplot as plt\n",
        "from sklearn.model_selection import train_test_split\n",
        "from sklearn.tree import DecisionTreeClassifier\n",
        "from sklearn.metrics import confusion_matrix"
      ],
      "execution_count": 1,
      "outputs": []
    },
    {
      "cell_type": "markdown",
      "metadata": {
        "collapsed": false,
        "id": "7VnX5o3Si7e9"
      },
      "source": [
        "#### (2) Load dataset for implementation\n",
        "###### - load PimaIndianDiabetes dataset and split"
      ]
    },
    {
      "cell_type": "code",
      "metadata": {
        "pycharm": {
          "name": "#%%\n"
        },
        "id": "AEPz2_13i7e-"
      },
      "source": [
        "PimaIndiansDiabetes = pd.read_csv(\"/content/PimaIndiansDiabetes.csv\")\n",
        "\n",
        "PimaIndiansDiabetes_X = PimaIndiansDiabetes.drop(columns=['diabetes'])\n",
        "PimaIndiansDiabetes_Y = PimaIndiansDiabetes['diabetes']\n",
        "\n",
        "n_train = 400\n",
        "\n",
        "dia_train_X, dia_test_X, dia_train_Y, dia_test_Y = train_test_split(PimaIndiansDiabetes_X, PimaIndiansDiabetes_Y, train_size=n_train)"
      ],
      "execution_count": 2,
      "outputs": []
    },
    {
      "cell_type": "code",
      "metadata": {
        "id": "R9OPEUNjlzrg",
        "outputId": "fa775b71-ff4b-4ae8-a26d-c7ff0e0beb2e",
        "colab": {
          "base_uri": "https://localhost:8080/",
          "height": 419
        }
      },
      "source": [
        "PimaIndiansDiabetes"
      ],
      "execution_count": 4,
      "outputs": [
        {
          "output_type": "execute_result",
          "data": {
            "text/html": [
              "<div>\n",
              "<style scoped>\n",
              "    .dataframe tbody tr th:only-of-type {\n",
              "        vertical-align: middle;\n",
              "    }\n",
              "\n",
              "    .dataframe tbody tr th {\n",
              "        vertical-align: top;\n",
              "    }\n",
              "\n",
              "    .dataframe thead th {\n",
              "        text-align: right;\n",
              "    }\n",
              "</style>\n",
              "<table border=\"1\" class=\"dataframe\">\n",
              "  <thead>\n",
              "    <tr style=\"text-align: right;\">\n",
              "      <th></th>\n",
              "      <th>pregnant</th>\n",
              "      <th>glucose</th>\n",
              "      <th>pressure</th>\n",
              "      <th>triceps</th>\n",
              "      <th>insulin</th>\n",
              "      <th>mass</th>\n",
              "      <th>pedigree</th>\n",
              "      <th>age</th>\n",
              "      <th>diabetes</th>\n",
              "    </tr>\n",
              "  </thead>\n",
              "  <tbody>\n",
              "    <tr>\n",
              "      <th>0</th>\n",
              "      <td>6</td>\n",
              "      <td>148</td>\n",
              "      <td>72</td>\n",
              "      <td>35</td>\n",
              "      <td>0</td>\n",
              "      <td>33.6</td>\n",
              "      <td>0.627</td>\n",
              "      <td>50</td>\n",
              "      <td>pos</td>\n",
              "    </tr>\n",
              "    <tr>\n",
              "      <th>1</th>\n",
              "      <td>1</td>\n",
              "      <td>85</td>\n",
              "      <td>66</td>\n",
              "      <td>29</td>\n",
              "      <td>0</td>\n",
              "      <td>26.6</td>\n",
              "      <td>0.351</td>\n",
              "      <td>31</td>\n",
              "      <td>neg</td>\n",
              "    </tr>\n",
              "    <tr>\n",
              "      <th>2</th>\n",
              "      <td>8</td>\n",
              "      <td>183</td>\n",
              "      <td>64</td>\n",
              "      <td>0</td>\n",
              "      <td>0</td>\n",
              "      <td>23.3</td>\n",
              "      <td>0.672</td>\n",
              "      <td>32</td>\n",
              "      <td>pos</td>\n",
              "    </tr>\n",
              "    <tr>\n",
              "      <th>3</th>\n",
              "      <td>1</td>\n",
              "      <td>89</td>\n",
              "      <td>66</td>\n",
              "      <td>23</td>\n",
              "      <td>94</td>\n",
              "      <td>28.1</td>\n",
              "      <td>0.167</td>\n",
              "      <td>21</td>\n",
              "      <td>neg</td>\n",
              "    </tr>\n",
              "    <tr>\n",
              "      <th>4</th>\n",
              "      <td>0</td>\n",
              "      <td>137</td>\n",
              "      <td>40</td>\n",
              "      <td>35</td>\n",
              "      <td>168</td>\n",
              "      <td>43.1</td>\n",
              "      <td>2.288</td>\n",
              "      <td>33</td>\n",
              "      <td>pos</td>\n",
              "    </tr>\n",
              "    <tr>\n",
              "      <th>...</th>\n",
              "      <td>...</td>\n",
              "      <td>...</td>\n",
              "      <td>...</td>\n",
              "      <td>...</td>\n",
              "      <td>...</td>\n",
              "      <td>...</td>\n",
              "      <td>...</td>\n",
              "      <td>...</td>\n",
              "      <td>...</td>\n",
              "    </tr>\n",
              "    <tr>\n",
              "      <th>763</th>\n",
              "      <td>10</td>\n",
              "      <td>101</td>\n",
              "      <td>76</td>\n",
              "      <td>48</td>\n",
              "      <td>180</td>\n",
              "      <td>32.9</td>\n",
              "      <td>0.171</td>\n",
              "      <td>63</td>\n",
              "      <td>neg</td>\n",
              "    </tr>\n",
              "    <tr>\n",
              "      <th>764</th>\n",
              "      <td>2</td>\n",
              "      <td>122</td>\n",
              "      <td>70</td>\n",
              "      <td>27</td>\n",
              "      <td>0</td>\n",
              "      <td>36.8</td>\n",
              "      <td>0.340</td>\n",
              "      <td>27</td>\n",
              "      <td>neg</td>\n",
              "    </tr>\n",
              "    <tr>\n",
              "      <th>765</th>\n",
              "      <td>5</td>\n",
              "      <td>121</td>\n",
              "      <td>72</td>\n",
              "      <td>23</td>\n",
              "      <td>112</td>\n",
              "      <td>26.2</td>\n",
              "      <td>0.245</td>\n",
              "      <td>30</td>\n",
              "      <td>neg</td>\n",
              "    </tr>\n",
              "    <tr>\n",
              "      <th>766</th>\n",
              "      <td>1</td>\n",
              "      <td>126</td>\n",
              "      <td>60</td>\n",
              "      <td>0</td>\n",
              "      <td>0</td>\n",
              "      <td>30.1</td>\n",
              "      <td>0.349</td>\n",
              "      <td>47</td>\n",
              "      <td>pos</td>\n",
              "    </tr>\n",
              "    <tr>\n",
              "      <th>767</th>\n",
              "      <td>1</td>\n",
              "      <td>93</td>\n",
              "      <td>70</td>\n",
              "      <td>31</td>\n",
              "      <td>0</td>\n",
              "      <td>30.4</td>\n",
              "      <td>0.315</td>\n",
              "      <td>23</td>\n",
              "      <td>neg</td>\n",
              "    </tr>\n",
              "  </tbody>\n",
              "</table>\n",
              "<p>768 rows × 9 columns</p>\n",
              "</div>"
            ],
            "text/plain": [
              "     pregnant  glucose  pressure  triceps  ...  mass  pedigree  age  diabetes\n",
              "0           6      148        72       35  ...  33.6     0.627   50       pos\n",
              "1           1       85        66       29  ...  26.6     0.351   31       neg\n",
              "2           8      183        64        0  ...  23.3     0.672   32       pos\n",
              "3           1       89        66       23  ...  28.1     0.167   21       neg\n",
              "4           0      137        40       35  ...  43.1     2.288   33       pos\n",
              "..        ...      ...       ...      ...  ...   ...       ...  ...       ...\n",
              "763        10      101        76       48  ...  32.9     0.171   63       neg\n",
              "764         2      122        70       27  ...  36.8     0.340   27       neg\n",
              "765         5      121        72       23  ...  26.2     0.245   30       neg\n",
              "766         1      126        60        0  ...  30.1     0.349   47       pos\n",
              "767         1       93        70       31  ...  30.4     0.315   23       neg\n",
              "\n",
              "[768 rows x 9 columns]"
            ]
          },
          "metadata": {
            "tags": []
          },
          "execution_count": 4
        }
      ]
    },
    {
      "cell_type": "markdown",
      "metadata": {
        "collapsed": false,
        "id": "BsxfZlo0i7fA"
      },
      "source": [
        "#### (3) Examples before initial settings"
      ]
    },
    {
      "cell_type": "code",
      "metadata": {
        "pycharm": {
          "name": "#%%\n"
        },
        "id": "xhno9Tobi7fA",
        "outputId": "5bc97cbb-f84d-4971-ba4e-93a5c6494ba4",
        "colab": {
          "base_uri": "https://localhost:8080/"
        }
      },
      "source": [
        "wgt = np.repeat(1/400, 400)\n",
        "\n",
        "dia_rp = DecisionTreeClassifier(max_depth=30, min_samples_split=20)\n",
        "dia_rp.fit(dia_train_X, dia_train_Y, sample_weight=wgt)\n",
        "\n",
        "ci = dia_rp.predict(dia_train_X)\n",
        "\n",
        "x = confusion_matrix(dia_train_Y, ci)\n",
        "print(\"confusion matrix = \\n\", x)\n",
        "\n",
        "x_bst = 1-np.diag(x).sum()/np.sum(x)\n",
        "print(\"bst = \", 1-np.diag(x).sum()/np.sum(x))"
      ],
      "execution_count": 3,
      "outputs": [
        {
          "output_type": "stream",
          "text": [
            "confusion matrix = \n",
            " [[229  26]\n",
            " [ 22 123]]\n",
            "bst =  0.12\n"
          ],
          "name": "stdout"
        }
      ]
    },
    {
      "cell_type": "markdown",
      "metadata": {
        "collapsed": false,
        "id": "t2DO7r9Zi7fD"
      },
      "source": [
        "#### (4) Learning Adaboost"
      ]
    },
    {
      "cell_type": "code",
      "metadata": {
        "pycharm": {
          "name": "#%%\n"
        },
        "id": "eEu39kNJi7fD",
        "outputId": "84ef50aa-3c78-42b3-c19d-aa3f180ecbf2",
        "colab": {
          "base_uri": "https://localhost:8080/"
        }
      },
      "source": [
        "cit = np.array([])\n",
        "ait = np.array([])\n",
        "x_bst = np.array([])\n",
        "\n",
        "iter = 20\n",
        "\n",
        "for i in range(0,iter):\n",
        "    dia_rp = DecisionTreeClassifier(max_depth=30, min_samples_split=20)\n",
        "    dia_rp.fit(dia_train_X, dia_train_Y, sample_weight=wgt)\n",
        "\n",
        "    ci = dia_rp.predict(dia_train_X)\n",
        "    cit = np.append(cit, ci).reshape(i+1,-1)\n",
        "\n",
        "    x = confusion_matrix(dia_train_Y, ci)\n",
        "    x_bst = np.append(x_bst, 1-np.diag(x).sum()/np.sum(x))\n",
        "\n",
        "    ai = 0.5 * np.log(wgt[ci == dia_train_Y].sum()/wgt[ci != dia_train_Y].sum())\n",
        "    ait = np.append(ait, ai)\n",
        "\n",
        "    zt = np.sum(wgt * np.exp(-ai * np.sign(1*np.array(ci == dia_train_Y)-0.5)))\n",
        "    wgt = wgt * np.exp(-ai * np.sign(1*np.array(ci == dia_train_Y)-0.5)) / zt\n",
        "\n",
        "    print(\"iteration \", i+1, \" : \", x_bst[i], \" \", ai)"
      ],
      "execution_count": 5,
      "outputs": [
        {
          "output_type": "stream",
          "text": [
            "iteration  1  :  0.12   0.996215082345103\n",
            "iteration  2  :  0.1775   1.0938952725514302\n",
            "iteration  3  :  0.16500000000000004   1.0867311153271444\n",
            "iteration  4  :  0.20750000000000002   1.0342581410266736\n",
            "iteration  5  :  0.24   1.0504233989797869\n",
            "iteration  6  :  0.20750000000000002   1.1265530169765363\n",
            "iteration  7  :  0.18500000000000005   1.1010446209974372\n",
            "iteration  8  :  0.17500000000000004   1.1668453019386429\n",
            "iteration  9  :  0.18500000000000005   1.1832947330099135\n",
            "iteration  10  :  0.20499999999999996   1.2523529864242537\n",
            "iteration  11  :  0.255   1.0641249143549423\n",
            "iteration  12  :  0.18999999999999995   1.217193773845012\n",
            "iteration  13  :  0.18999999999999995   1.3371096511305736\n",
            "iteration  14  :  0.1875   1.171207321439288\n",
            "iteration  15  :  0.245   1.0750294573249113\n",
            "iteration  16  :  0.21499999999999997   1.130310772463993\n",
            "iteration  17  :  0.23750000000000004   1.2484347041389474\n",
            "iteration  18  :  0.22499999999999998   1.454141502463571\n",
            "iteration  19  :  0.1875   1.1042385154145327\n",
            "iteration  20  :  0.20999999999999996   1.0145574161236792\n"
          ],
          "name": "stdout"
        }
      ]
    },
    {
      "cell_type": "markdown",
      "metadata": {
        "collapsed": false,
        "id": "D3anI2rDi7fF"
      },
      "source": [
        "#### (5) Prediction of Adaboost"
      ]
    },
    {
      "cell_type": "code",
      "metadata": {
        "pycharm": {
          "name": "#%%\n"
        },
        "id": "FiwMRzwci7fG"
      },
      "source": [
        "cit = np.sign(1*(cit == 'pos')-0.5)"
      ],
      "execution_count": 10,
      "outputs": []
    },
    {
      "cell_type": "code",
      "metadata": {
        "pycharm": {
          "name": "#%%\n"
        },
        "id": "zfjxgWmdi7fH",
        "outputId": "985c389c-b6e5-43a4-b9e1-38aa92c22b96",
        "colab": {
          "base_uri": "https://localhost:8080/"
        }
      },
      "source": [
        "pred = np.array([])\n",
        "for i in range(0,iter):\n",
        "    x = 0\n",
        "    for j in range(0,i+1):\n",
        "        x = x + ait[j]*cit[j,:]\n",
        "    # print(x)\n",
        "    pred = np.append(pred, x)\n",
        "\n",
        "pred = np.sign(pred.reshape(iter,-1))\n",
        "\n",
        "print(pred)\n",
        "\n",
        "y_bst = np.array([])\n",
        "dia_train_Y_tmp = np.sign(1*(dia_train_Y=='pos')-0.5)\n",
        "for i in range(0,iter):\n",
        "    x = confusion_matrix(dia_train_Y_tmp, pred[i,:])\n",
        "    print(1-np.diag(x).sum()/np.sum(x))\n",
        "    y_bst = np.append(y_bst, 1-np.diag(x).sum()/np.sum(x))\n"
      ],
      "execution_count": 7,
      "outputs": [
        {
          "output_type": "stream",
          "text": [
            "[[ 1. -1. -1. ... -1.  1.  1.]\n",
            " [ 1.  1. -1. ...  1.  1.  1.]\n",
            " [ 1. -1. -1. ...  1.  1.  1.]\n",
            " ...\n",
            " [ 1. -1. -1. ...  1.  1.  1.]\n",
            " [ 1. -1. -1. ...  1.  1.  1.]\n",
            " [ 1. -1. -1. ...  1.  1.  1.]]\n",
            "0.12\n",
            "0.1775\n",
            "0.025000000000000022\n",
            "0.04249999999999998\n",
            "0.0\n",
            "0.0050000000000000044\n",
            "0.0\n",
            "0.0\n",
            "0.0\n",
            "0.0\n",
            "0.0\n",
            "0.0\n",
            "0.0\n",
            "0.0\n",
            "0.0\n",
            "0.0\n",
            "0.0\n",
            "0.0\n",
            "0.0\n",
            "0.0\n"
          ],
          "name": "stdout"
        }
      ]
    },
    {
      "cell_type": "markdown",
      "metadata": {
        "collapsed": false,
        "pycharm": {
          "name": "#%% md\n"
        },
        "id": "8_gAGkIIi7fJ"
      },
      "source": [
        "### (6) Plotting"
      ]
    },
    {
      "cell_type": "markdown",
      "metadata": {
        "collapsed": false,
        "id": "Okgn2O-Bi7fK"
      },
      "source": [
        "##### - Error from each boosting iterations"
      ]
    },
    {
      "cell_type": "code",
      "metadata": {
        "pycharm": {
          "name": "#%%\n"
        },
        "id": "uGfuxcjPi7fK",
        "outputId": "b9745790-5188-42ea-e6b0-f78eef939784",
        "colab": {
          "base_uri": "https://localhost:8080/",
          "height": 281
        }
      },
      "source": [
        "plt.plot(range(0,iter), x_bst)\n",
        "plt.title('Error from each boosting iterations')\n",
        "plt.show()"
      ],
      "execution_count": 11,
      "outputs": [
        {
          "output_type": "display_data",
          "data": {
            "image/png": "[encoded data removed]",
            "text/plain": [
              "<Figure size 432x288 with 1 Axes>"
            ]
          },
          "metadata": {
            "tags": [],
            "needs_background": "light"
          }
        }
      ]
    },
    {
      "cell_type": "markdown",
      "metadata": {
        "collapsed": false,
        "id": "cEVh9OoRi7fM"
      },
      "source": [
        "##### - Error arising from averaging predictions"
      ]
    },
    {
      "cell_type": "code",
      "metadata": {
        "pycharm": {
          "name": "#%%\n"
        },
        "id": "vMXankPei7fN",
        "outputId": "e72d4414-7113-4e0a-f2b8-70a6ad3ebd23",
        "colab": {
          "base_uri": "https://localhost:8080/",
          "height": 281
        }
      },
      "source": [
        "plt.plot(range(0,iter), y_bst)\n",
        "plt.title(\"Error arising from averaging predictions\")\n",
        "plt.show()"
      ],
      "execution_count": 12,
      "outputs": [
        {
          "output_type": "display_data",
          "data": {
            "image/png": "[encoded data removed]",
            "text/plain": [
              "<Figure size 432x288 with 1 Axes>"
            ]
          },
          "metadata": {
            "tags": [],
            "needs_background": "light"
          }
        }
      ]
    },
    {
      "cell_type": "markdown",
      "metadata": {
        "collapsed": false,
        "id": "H1o6YKIOi7fO"
      },
      "source": [
        "### (7) Using sklearn.ensemble package"
      ]
    },
    {
      "cell_type": "code",
      "metadata": {
        "pycharm": {
          "name": "#%%\n"
        },
        "id": "IFCqXJG2i7fP",
        "outputId": "3920f2a8-7acc-4066-d580-186b9ec92690",
        "colab": {
          "base_uri": "https://localhost:8080/"
        }
      },
      "source": [
        "from sklearn.ensemble import AdaBoostClassifier\n",
        "\n",
        "phishing = pd.read_csv(filepath_or_buffer= \"/content/phishing.csv\")\n",
        "\n",
        "phishing_X = phishing.drop(columns=['Y'])\n",
        "phishing_Y = phishing['Y']\n",
        "\n",
        "train_X, test_X, train_Y, test_Y = train_test_split(phishing_X, phishing_Y, train_size=0.7)\n",
        "\n",
        "adaboost = AdaBoostClassifier(n_estimators=50)\n",
        "adaboost.fit(train_X, train_Y)\n",
        "\n",
        "pred_tr = adaboost.predict(train_X)\n",
        "x_tr = confusion_matrix(train_Y, pred_tr)\n",
        "print(\"confusion matrix for train set = \\n\",x_tr)\n",
        "print(\"Acc = \", np.diag(x_tr).sum()/np.sum(x_tr))\n",
        "\n",
        "pred_ts = adaboost.predict(test_X)\n",
        "x_ts = confusion_matrix(test_Y, pred_ts)\n",
        "print(\"confusion matrix for test set = \\n\",x_ts)\n",
        "print(\"Acc = \", np.diag(x_ts).sum()/np.sum(x_ts))"
      ],
      "execution_count": 13,
      "outputs": [
        {
          "output_type": "stream",
          "text": [
            "confusion matrix for train set = \n",
            " [[454  35]\n",
            " [ 54 403]]\n",
            "Acc =  0.9059196617336153\n",
            "confusion matrix for test set = \n",
            " [[200  13]\n",
            " [ 25 168]]\n",
            "Acc =  0.9064039408866995\n"
          ],
          "name": "stdout"
        }
      ]
    }
  ]
}