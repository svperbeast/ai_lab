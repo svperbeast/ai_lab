{
  "nbformat": 4,
  "nbformat_minor": 0,
  "metadata": {
    "language_info": {
      "codemirror_mode": {
        "name": "ipython",
        "version": 3
      },
      "file_extension": ".py",
      "mimetype": "text/x-python",
      "name": "python",
      "nbconvert_exporter": "python",
      "pygments_lexer": "ipython3",
      "version": "3.7.6-final"
    },
    "orig_nbformat": 2,
    "kernelspec": {
      "name": "Python 3.7.6 64-bit ('base': conda)",
      "display_name": "Python 3.7.6 64-bit ('base': conda)",
      "metadata": {
        "interpreter": {
          "hash": "1b4ca221cf92c6026129a5dc439431a9e82b0d45e5d1077376bd409b1b8350f0"
        }
      }
    },
    "colab": {
      "name": "imbalance_0.ipynb",
      "provenance": [],
      "toc_visible": true,
      "include_colab_link": true
    }
  },
  "cells": [
    {
      "cell_type": "markdown",
      "metadata": {
        "id": "view-in-github",
        "colab_type": "text"
      },
      "source": [
        "<a href=\"https://colab.research.google.com/github/svperbeast/ai_lab/blob/main/imbalance_0.ipynb\" target=\"_parent\"><img src=\"https://colab.research.google.com/assets/colab-badge.svg\" alt=\"Open In Colab\"/></a>"
      ]
    },
    {
      "cell_type": "markdown",
      "metadata": {
        "id": "9o4ZV9yA1HfK"
      },
      "source": [
        "# Importing Packages"
      ]
    },
    {
      "cell_type": "code",
      "metadata": {
        "id": "YlDgavD01HfL"
      },
      "source": [
        "import numpy as np\n",
        "import matplotlib.pyplot as plt\n",
        "import pandas as pd\n",
        "\n",
        "from sklearn.model_selection import StratifiedShuffleSplit\n",
        "from sklearn.metrics import roc_curve, auc, confusion_matrix"
      ],
      "execution_count": 1,
      "outputs": []
    },
    {
      "cell_type": "markdown",
      "metadata": {
        "id": "EJvcXYEh1HfO"
      },
      "source": [
        "# Stratified Random Partitioning\n",
        "\n",
        "When dividing a dataset into training/test or training/test/validation sets, the original class distributions should be preserved.\n"
      ]
    },
    {
      "cell_type": "code",
      "metadata": {
        "id": "ARxTcsKf1HfO",
        "outputId": "554ee30f-1f70-4a60-8500-4e8e2ea736af",
        "colab": {
          "base_uri": "https://localhost:8080/"
        }
      },
      "source": [
        "cancer = pd.read_csv('/content/cancer.csv')\n",
        "cancer.y.value_counts()"
      ],
      "execution_count": 2,
      "outputs": [
        {
          "output_type": "execute_result",
          "data": {
            "text/plain": [
              "benign       444\n",
              "malignant    239\n",
              "Name: y, dtype: int64"
            ]
          },
          "metadata": {
            "tags": []
          },
          "execution_count": 2
        }
      ]
    },
    {
      "cell_type": "code",
      "metadata": {
        "id": "XvbnXuif1HfS",
        "outputId": "abe5a50a-988f-4bdd-bb0b-e9b079144264",
        "colab": {
          "base_uri": "https://localhost:8080/"
        }
      },
      "source": [
        "cancer_ben = cancer.loc[np.where(cancer.y==\"benign\")[0],:]\n",
        "cancer_mal = cancer.loc[np.where(cancer.y==\"malignant\")[0],:]\n",
        "\n",
        "cancer_ben = cancer_ben.sample(frac=1)\n",
        "cancer_mal = cancer_mal.sample(frac=1)\n",
        "\n",
        "n_cancer_ben = cancer_ben.shape[0]\n",
        "n_cancer_mal = cancer_mal.shape[0]\n",
        "\n",
        "cancer_ben_train = cancer_ben.iloc[np.arange(int(np.round(n_cancer_ben*0.7))),:]\n",
        "cancer_ben_test = cancer_ben.iloc[np.arange(int(np.round(n_cancer_ben*0.7))+1,n_cancer_ben),:]\n",
        "\n",
        "cancer_mal_train = cancer_mal.iloc[np.arange(int(np.round(n_cancer_mal*0.7))),:]\n",
        "cancer_mal_test = cancer_mal.iloc[np.arange(int(np.round(n_cancer_mal*0.7))+1,n_cancer_mal),:]\n",
        "\n",
        "cancer_tarin = pd.concat([cancer_ben_train,cancer_mal_train])\n",
        "cancer_test = pd.concat([cancer_ben_test,cancer_mal_test])\n",
        "\n",
        "print(cancer_tarin.y.value_counts())\n",
        "print()\n",
        "print(cancer_test.y.value_counts())"
      ],
      "execution_count": 3,
      "outputs": [
        {
          "output_type": "stream",
          "text": [
            "benign       311\n",
            "malignant    167\n",
            "Name: y, dtype: int64\n",
            "\n",
            "benign       132\n",
            "malignant     71\n",
            "Name: y, dtype: int64\n"
          ],
          "name": "stdout"
        }
      ]
    },
    {
      "cell_type": "markdown",
      "metadata": {
        "id": "PpB0w2fE1HfU"
      },
      "source": [
        "# ROC Analysis"
      ]
    },
    {
      "cell_type": "code",
      "metadata": {
        "id": "L37Tmqcc1HfV"
      },
      "source": [
        "# example 1 ------------------------------------------------------ #\n",
        "# drawing roc curve \n",
        "label = ['P', 'P', 'N', 'P', 'P', 'P', 'N', 'N', 'P', 'N', 'P', \n",
        "         'N', 'P', 'N', 'N', 'N', 'P', 'N', 'P', 'N']\n",
        "score = [0.9, 0.8, 0.7, 0.6, 0.55, 0.51, 0.49, 0.43, \n",
        "           0.42, 0.39, 0.33, 0.31, 0.23, 0.22, 0.19, \n",
        "           0.15, 0.12, 0.11, 0.04, 0.01]"
      ],
      "execution_count": 4,
      "outputs": []
    },
    {
      "cell_type": "code",
      "metadata": {
        "id": "LsegL9f71HfX",
        "outputId": "1d7993b8-f7f5-4916-d8e0-15d782943ad9",
        "colab": {
          "base_uri": "https://localhost:8080/"
        }
      },
      "source": [
        "fpr, tpr, thresholds = roc_curve(y_true=label,y_score=score,pos_label='P')\n",
        "roc_auc = auc(fpr, tpr)\n",
        "print(thresholds)"
      ],
      "execution_count": 8,
      "outputs": [
        {
          "output_type": "stream",
          "text": [
            "[1.9  0.9  0.8  0.7  0.51 0.43 0.42 0.39 0.33 0.31 0.23 0.15 0.12 0.11\n",
            " 0.04 0.01]\n"
          ],
          "name": "stdout"
        }
      ]
    },
    {
      "cell_type": "code",
      "metadata": {
        "id": "C9cmL5rC1HfZ",
        "outputId": "ab2b71b7-59f5-444a-d86f-8dba0bcfa81d",
        "colab": {
          "base_uri": "https://localhost:8080/",
          "height": 295
        }
      },
      "source": [
        "plt.figure()\n",
        "lw = 2\n",
        "plt.plot(fpr, tpr, color='darkorange',\n",
        "         lw=2, label='ROC curve (area = %0.2f)' % roc_auc)\n",
        "plt.plot([0, 1], [0, 1], color='navy', lw=lw, linestyle='--')\n",
        "plt.xlim([0.0, 1.0])\n",
        "plt.ylim([0.0, 1.05])\n",
        "plt.xlabel('False Positive Rate')\n",
        "plt.ylabel('True Positive Rate')\n",
        "plt.title('Receiver operating characteristic example')\n",
        "plt.legend(loc=\"lower right\")\n",
        "plt.show()"
      ],
      "execution_count": 9,
      "outputs": [
        {
          "output_type": "display_data",
          "data": {
            "image/png": "[encoded data removed]",
            "text/plain": [
              "<Figure size 432x288 with 1 Axes>"
            ]
          },
          "metadata": {
            "tags": [],
            "needs_background": "light"
          }
        }
      ]
    },
    {
      "cell_type": "markdown",
      "metadata": {
        "id": "gSLce2CX1Hfb"
      },
      "source": [
        "## Climate Model Simulation Crashes Data\n",
        "\n",
        "+ This dataset contains records of simulation crashes encountered during climate model uncertainty quantification (UQ) ensembles.\n",
        "+ 494 successes and 46 failures (Imbalance Ratio 1/10.7)\n",
        "+ 18 continuous predictor variables, all scaled between 0 and 1"
      ]
    },
    {
      "cell_type": "code",
      "metadata": {
        "id": "6Ch1cHBR1Hfb",
        "outputId": "928f4132-58f6-405d-b9df-13f9ca64ff90",
        "colab": {
          "base_uri": "https://localhost:8080/"
        }
      },
      "source": [
        "# example 2 ------------------------------------------------------ #\n",
        "from sklearn.naive_bayes import GaussianNB\n",
        "\n",
        "dt = pd.read_csv('/content/climate_sim.csv')\n",
        "\n",
        "X = np.array(dt.loc[:, dt.columns != 'y'])\n",
        "y = np.array(dt.y)\n",
        "\n",
        "gnb = GaussianNB()\n",
        "gnb.fit(X,y)"
      ],
      "execution_count": 11,
      "outputs": [
        {
          "output_type": "execute_result",
          "data": {
            "text/plain": [
              "GaussianNB(priors=None, var_smoothing=1e-09)"
            ]
          },
          "metadata": {
            "tags": []
          },
          "execution_count": 11
        }
      ]
    },
    {
      "cell_type": "code",
      "metadata": {
        "id": "9Dk2kMWj1Hfe",
        "outputId": "01e66f62-5b38-46ac-f565-56d79b913fe7",
        "colab": {
          "base_uri": "https://localhost:8080/"
        }
      },
      "source": [
        "y_pred = gnb.predict_proba(X)\n",
        "confusion_matrix((y=='failure')*1,np.round(y_pred[:,0]))"
      ],
      "execution_count": 12,
      "outputs": [
        {
          "output_type": "execute_result",
          "data": {
            "text/plain": [
              "array([[492,   2],\n",
              "       [ 20,  26]])"
            ]
          },
          "metadata": {
            "tags": []
          },
          "execution_count": 12
        }
      ]
    },
    {
      "cell_type": "code",
      "metadata": {
        "id": "zrf07cbP1Hfg",
        "outputId": "63f6e317-4b5f-4849-9c3a-6135f9f3e138",
        "colab": {
          "base_uri": "https://localhost:8080/",
          "height": 295
        }
      },
      "source": [
        "fpr, tpr, thresholds = roc_curve(y_true=y,y_score=np.round(y_pred[:,0]),pos_label='failure')\n",
        "roc_auc = auc(fpr, tpr)\n",
        "\n",
        "plt.figure()\n",
        "lw = 2\n",
        "plt.plot(fpr, tpr, color='darkorange',\n",
        "         lw=2, label='ROC curve (area = %0.2f)' % roc_auc)\n",
        "plt.plot([0, 1], [0, 1], color='navy', lw=lw, linestyle='--')\n",
        "plt.xlim([0.0, 1.0])\n",
        "plt.ylim([0.0, 1.05])\n",
        "plt.xlabel('False Positive Rate')\n",
        "plt.ylabel('True Positive Rate')\n",
        "plt.title('Receiver operating characteristic example')\n",
        "plt.legend(loc=\"lower right\")\n",
        "plt.show()"
      ],
      "execution_count": 13,
      "outputs": [
        {
          "output_type": "display_data",
          "data": {
            "image/png": "[encoded data removed]",
            "text/plain": [
              "<Figure size 432x288 with 1 Axes>"
            ]
          },
          "metadata": {
            "tags": [],
            "needs_background": "light"
          }
        }
      ]
    },
    {
      "cell_type": "code",
      "metadata": {
        "id": "qhxCJopA1Hfi",
        "outputId": "450efe8a-b785-4c4d-910e-7c96786424ca",
        "colab": {
          "base_uri": "https://localhost:8080/",
          "height": 295
        }
      },
      "source": [
        "fpr, tpr, thresholds = roc_curve(y_true=y,y_score=y_pred[:,0],pos_label='failure')\n",
        "roc_auc = auc(fpr, tpr)\n",
        "\n",
        "plt.figure()\n",
        "lw = 2\n",
        "plt.plot(fpr, tpr, color='darkorange',\n",
        "         lw=2, label='ROC curve (area = %0.2f)' % roc_auc)\n",
        "plt.plot([0, 1], [0, 1], color='navy', lw=lw, linestyle='--')\n",
        "plt.xlim([0.0, 1.0])\n",
        "plt.ylim([0.0, 1.05])\n",
        "plt.xlabel('False Positive Rate')\n",
        "plt.ylabel('True Positive Rate')\n",
        "plt.title('Receiver operating characteristic example')\n",
        "plt.legend(loc=\"lower right\")\n",
        "plt.show()"
      ],
      "execution_count": 14,
      "outputs": [
        {
          "output_type": "display_data",
          "data": {
            "image/png": "[encoded data removed]",
            "text/plain": [
              "<Figure size 432x288 with 1 Axes>"
            ]
          },
          "metadata": {
            "tags": [],
            "needs_background": "light"
          }
        }
      ]
    }
  ]
}