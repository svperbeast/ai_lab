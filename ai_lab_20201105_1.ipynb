{
  "nbformat": 4,
  "nbformat_minor": 0,
  "metadata": {
    "kernelspec": {
      "display_name": "Python 3",
      "language": "python",
      "name": "python3"
    },
    "language_info": {
      "codemirror_mode": {
        "name": "ipython",
        "version": 3
      },
      "file_extension": ".py",
      "mimetype": "text/x-python",
      "name": "python",
      "nbconvert_exporter": "python",
      "pygments_lexer": "ipython3",
      "version": "3.6.4"
    },
    "colab": {
      "name": "lab-11_4_timeseries.ipynb의 사본",
      "provenance": [],
      "collapsed_sections": [],
      "include_colab_link": true
    },
    "accelerator": "GPU"
  },
  "cells": [
    {
      "cell_type": "markdown",
      "metadata": {
        "id": "view-in-github",
        "colab_type": "text"
      },
      "source": [
        "<a href=\"https://colab.research.google.com/github/svperbeast/ai_lab/blob/main/ai_lab_20201105_1.ipynb\" target=\"_parent\"><img src=\"https://colab.research.google.com/assets/colab-badge.svg\" alt=\"Open In Colab\"/></a>"
      ]
    },
    {
      "cell_type": "code",
      "metadata": {
        "id": "RUKYrJGJHhof"
      },
      "source": [
        "import torch\n",
        "import torch.optim as optim\n",
        "import numpy as np\n",
        "import matplotlib.pyplot as plt"
      ],
      "execution_count": null,
      "outputs": []
    },
    {
      "cell_type": "code",
      "metadata": {
        "id": "CfE8ZiUxHhoi",
        "outputId": "e1805d7a-6ba7-4540-e19c-736e1f71dba8",
        "colab": {
          "base_uri": "https://localhost:8080/"
        }
      },
      "source": [
        "# Random seed to make results deterministic and reproducible\n",
        "torch.manual_seed(0)"
      ],
      "execution_count": null,
      "outputs": [
        {
          "output_type": "execute_result",
          "data": {
            "text/plain": [
              "<torch._C.Generator at 0x7f5252208600>"
            ]
          },
          "metadata": {
            "tags": []
          },
          "execution_count": 3
        }
      ]
    },
    {
      "cell_type": "code",
      "metadata": {
        "id": "825v-0_qHhom"
      },
      "source": [
        "# Problem 1\n",
        "# Min-max scaler 를 구현하시오\n",
        "# (x-min(x))/(max(x)-min(x))\n",
        "\n",
        "# scaling function for input data\n",
        "def minmax_scaler(data):\n",
        "    return ((data - np.min(data, axis=0)) /\n",
        "            (np.max(data, axis=0) - np.min(data, axis=0)) + 1e-8) # 1e-8 for avoiding divice by zero\n",
        "\n",
        "# make dataset to train"
      ],
      "execution_count": null,
      "outputs": []
    },
    {
      "cell_type": "code",
      "metadata": {
        "id": "YGqkhKMCHhor"
      },
      "source": [
        "# make dataset to input\n",
        "def build_dataset(time_series, seq_length):\n",
        "    dataX = []\n",
        "    dataY = []\n",
        "    for i in range(0, len(time_series) - seq_length):\n",
        "        _x = time_series[i:i + seq_length, :]\n",
        "        _y = time_series[i + seq_length, [-1]]  # Next close price\n",
        "        # print(_x, \"->\", _y)\n",
        "        dataX.append(_x)\n",
        "        dataY.append(_y)\n",
        "    return np.array(dataX), np.array(dataY)"
      ],
      "execution_count": null,
      "outputs": []
    },
    {
      "cell_type": "code",
      "metadata": {
        "id": "EsK3stohHhot"
      },
      "source": [
        "# hyper parameters\n",
        "seq_length = 7\n",
        "data_dim = 5\n",
        "hidden_dim = 10\n",
        "output_dim = 1\n",
        "learning_rate = 0.01\n",
        "iterations = 500"
      ],
      "execution_count": null,
      "outputs": []
    },
    {
      "cell_type": "code",
      "metadata": {
        "scrolled": false,
        "id": "xGUmlKm4Hhov"
      },
      "source": [
        "# load data\n",
        "xy = np.loadtxt(\"data-02-stock_daily.csv\", delimiter=\",\")\n",
        "xy = xy[::-1]  # reverse order\n",
        "\n",
        "# split train-test set\n",
        "train_size = int(len(xy) * 0.7)\n",
        "train_set = xy[0:train_size]\n",
        "test_set = xy[train_size - seq_length:]\n",
        "\n",
        "# scaling data\n",
        "train_set = minmax_scaler(train_set)\n",
        "test_set = minmax_scaler(test_set)\n",
        "\n",
        "# make train-test dataset to input\n",
        "trainX, trainY = build_dataset(train_set, seq_length)\n",
        "testX, testY = build_dataset(test_set, seq_length)\n",
        "\n",
        "# convert to tensor\n",
        "trainX_tensor = torch.FloatTensor(trainX)\n",
        "trainY_tensor = torch.FloatTensor(trainY)\n",
        "\n",
        "testX_tensor = torch.FloatTensor(testX)\n",
        "testY_tensor = torch.FloatTensor(testY)"
      ],
      "execution_count": null,
      "outputs": []
    },
    {
      "cell_type": "code",
      "metadata": {
        "id": "9etEEWtxHhoz"
      },
      "source": [
        "# Problem 2\n",
        "# LSTM과 fc layer로 이루어진 다음 Net을 구현하시오.\n",
        "class Net(torch.nn.Module):\n",
        "    def __init__(self, input_dim, hidden_dim, output_dim, layers):\n",
        "        super(Net, self).__init__()\n",
        "        self.rnn1 = torch.nn.LSTM(input_dim, hidden_dim,\n",
        "                                 num_layers=layers, batch_first=True)\n",
        "        self.rnn2 = torch.nn.LSTM(hidden_dim, hidden_dim*2,\n",
        "                                 num_layers=layers, batch_first=True)\n",
        "        self.fc1 = torch.nn.Linear(hidden_dim*2, hidden_dim*4, bias=True)\n",
        "        self.fc2 = torch.nn.Linear(hidden_dim*4, hidden_dim*8, bias=True)\n",
        "        self.fc3 = torch.nn.Linear(hidden_dim*8, output_dim, bias=True)\n",
        "\n",
        "    def forward(self, x):\n",
        "        x, _state = self.rnn1(x)\n",
        "        x, _state = self.rnn2(x)\n",
        "        x = torch.nn.functional.relu(self.fc1(x[:, -1]))\n",
        "        x = torch.nn.functional.relu(self.fc2(x))\n",
        "        x = self.fc3(x)\n",
        "        return x\n",
        "\n",
        "\n",
        "net = Net(data_dim, hidden_dim, output_dim, 2)"
      ],
      "execution_count": null,
      "outputs": []
    },
    {
      "cell_type": "code",
      "metadata": {
        "id": "MEZ7wMdJHho1"
      },
      "source": [
        "# loss & optimizer setting\n",
        "criterion = torch.nn.MSELoss()\n",
        "optimizer = optim.Adam(net.parameters(), lr=learning_rate)"
      ],
      "execution_count": null,
      "outputs": []
    },
    {
      "cell_type": "code",
      "metadata": {
        "id": "nyajZ23gHho3",
        "outputId": "b311b320-17dc-4eb9-acbe-24b0090c8142",
        "colab": {
          "base_uri": "https://localhost:8080/"
        }
      },
      "source": [
        "# Problem 3\n",
        "# 다음 학습 과정을 구현하시오.\n",
        "\n",
        "# start training\n",
        "for i in range(iterations):\n",
        "    optimizer.zero_grad()\n",
        "\n",
        "    outputs = net(trainX_tensor)\n",
        "\n",
        "    loss = criterion(outputs, trainY_tensor)\n",
        "    loss.backward()\n",
        "\n",
        "    optimizer.step()\n",
        "\n",
        "    if i % 50 == 0:\n",
        "      print('loss: {:.4f}'.format(loss.item()))"
      ],
      "execution_count": null,
      "outputs": [
        {
          "output_type": "stream",
          "text": [
            "loss: 0.1728\n",
            "loss: 0.0099\n",
            "loss: 0.0037\n",
            "loss: 0.0021\n",
            "loss: 0.0015\n",
            "loss: 0.0012\n",
            "loss: 0.0012\n",
            "loss: 0.0011\n",
            "loss: 0.0011\n",
            "loss: 0.0011\n"
          ],
          "name": "stdout"
        }
      ]
    },
    {
      "cell_type": "code",
      "metadata": {
        "id": "hLO2bYEoHho6",
        "outputId": "15fc1242-2c4e-46b3-b734-83e195d51580",
        "colab": {
          "base_uri": "https://localhost:8080/",
          "height": 265
        }
      },
      "source": [
        "plt.plot(testY)\n",
        "plt.plot(net(testX_tensor).data.numpy())\n",
        "plt.legend(['original', 'prediction'])\n",
        "plt.show()"
      ],
      "execution_count": null,
      "outputs": [
        {
          "output_type": "display_data",
          "data": {
            "image/png": "[encoded data removed]",
            "text/plain": [
              "<Figure size 432x288 with 1 Axes>"
            ]
          },
          "metadata": {
            "tags": [],
            "needs_background": "light"
          }
        }
      ]
    }
  ]
}