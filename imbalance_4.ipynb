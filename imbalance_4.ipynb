{
  "nbformat": 4,
  "nbformat_minor": 0,
  "metadata": {
    "language_info": {
      "codemirror_mode": {
        "name": "ipython",
        "version": 3
      },
      "file_extension": ".py",
      "mimetype": "text/x-python",
      "name": "python",
      "nbconvert_exporter": "python",
      "pygments_lexer": "ipython3",
      "version": "3.6.7-final"
    },
    "orig_nbformat": 2,
    "kernelspec": {
      "name": "Python 3.6.7 64-bit",
      "display_name": "Python 3.6.7 64-bit",
      "metadata": {
        "interpreter": {
          "hash": "3e3097c6c5ce7a7c3a19e8af3cbbedad6bd4b76b05ed4ed6e1c1b9103e21364b"
        }
      }
    },
    "colab": {
      "name": "imbalance_4.ipynb",
      "provenance": [],
      "include_colab_link": true
    }
  },
  "cells": [
    {
      "cell_type": "markdown",
      "metadata": {
        "id": "view-in-github",
        "colab_type": "text"
      },
      "source": [
        "<a href=\"https://colab.research.google.com/github/svperbeast/ai_lab/blob/main/imbalance_4.ipynb\" target=\"_parent\"><img src=\"https://colab.research.google.com/assets/colab-badge.svg\" alt=\"Open In Colab\"/></a>"
      ]
    },
    {
      "cell_type": "code",
      "metadata": {
        "id": "ixS9Sat97mo2"
      },
      "source": [
        "#### Importing packages\n",
        "import numpy as np\n",
        "import pandas as pd\n",
        "import matplotlib.pyplot as plt\n",
        "from sklearn.model_selection import train_test_split\n",
        "from sklearn.model_selection import StratifiedShuffleSplit\n",
        "from sklearn.tree import DecisionTreeClassifier\n",
        "from sklearn.metrics import confusion_matrix"
      ],
      "execution_count": 10,
      "outputs": []
    },
    {
      "cell_type": "code",
      "metadata": {
        "id": "VY3Gb8Ho7mo5"
      },
      "source": [
        "bank = pd.read_csv('Personal Loan.csv')\n",
        "input_idx = [1,2,3,5,6,7,8,10,11,12,13]\n",
        "target_idx = 9\n",
        "\n",
        "X = np.array(bank.iloc[:, input_idx])\n",
        "y = np.array(bank.iloc[:, target_idx])\n",
        "\n",
        "X = X[y < 2,:]\n",
        "y = y[y < 2]\n",
        "\n",
        "sss = StratifiedShuffleSplit(n_splits=1,train_size=0.7)\n",
        "\n",
        "for train_index, test_index in sss.split(X,y):\n",
        "    X_train, X_test = X[train_index], X[test_index]\n",
        "    y_train, y_test = y[train_index], y[test_index]"
      ],
      "execution_count": 19,
      "outputs": []
    },
    {
      "cell_type": "code",
      "metadata": {
        "id": "6VJSIZCa7mo7",
        "outputId": "26419802-8919-4770-b5cc-6d010b98670c",
        "colab": {
          "base_uri": "https://localhost:8080/"
        }
      },
      "source": [
        "wgt = np.repeat(1/X_train.shape[0], X_train.shape[0])\n",
        "\n",
        "model = DecisionTreeClassifier(max_depth=30, min_samples_split=20)\n",
        "model.fit(X_train, y_train, sample_weight=wgt)\n",
        "\n",
        "pred_y = model.predict(X_test)\n",
        "\n",
        "x = confusion_matrix(y_true=y_test,y_pred=pred_y)\n",
        "print(\"confusion matrix = \\n\", x)\n",
        "\n",
        "tn, fp, fn, tp = confusion_matrix(y_true=y_test,y_pred=pred_y).ravel()\n",
        "tpr = tp/(tp+fn)\n",
        "fpr = fp/(tn+fp)\n",
        "auc = (1+tpr-fpr)/2\n",
        "\n",
        "print(\"TPR: {:.3f}, FPR: {:.3f}, AUC: {:.3f}\".format(tpr,fpr,auc))"
      ],
      "execution_count": 20,
      "outputs": [
        {
          "output_type": "stream",
          "text": [
            "confusion matrix = \n",
            " [[672   1]\n",
            " [  8  69]]\n",
            "TPR: 0.896, FPR: 0.001, AUC: 0.947\n"
          ],
          "name": "stdout"
        }
      ]
    },
    {
      "cell_type": "code",
      "metadata": {
        "id": "fE7xgBeG7mo-",
        "outputId": "c502714a-75a2-49b8-91cd-678e5b3a6033",
        "colab": {
          "base_uri": "https://localhost:8080/"
        }
      },
      "source": [
        "cit = np.array([])\n",
        "ait = np.array([])\n",
        "x_bst = np.array([])\n",
        "\n",
        "wgt = np.repeat(1/X_train.shape[0], X_train.shape[0])\n",
        "wgt[y_train==1] = 1/(2*np.sum(y_train==1))\n",
        "wgt[y_train==0] = 1/(2*np.sum(y_train==0))\n",
        "\n",
        "iter = 20\n",
        "\n",
        "for i in range(0,iter):\n",
        "    model = DecisionTreeClassifier(max_depth=2, min_samples_split=20)\n",
        "    model.fit(X_train, y_train, sample_weight=wgt)\n",
        "\n",
        "    ci = model.predict(X_train)\n",
        "    cit = np.append(cit, ci).reshape(i+1,-1)\n",
        "\n",
        "    tn, fp, fn, tp = confusion_matrix(y_train,ci).ravel()\n",
        "    tpr = tp/(tp+fn)\n",
        "    fpr = fp/(tn+fp)\n",
        "    auc = (1+tpr-fpr)/2\n",
        "    x_bst = np.append(x_bst, auc)\n",
        "\n",
        "\n",
        "    ai = 0.5 * np.log(wgt[ci == y_train].sum()/wgt[ci != y_train].sum())\n",
        "    ait = np.append(ait, ai)\n",
        "\n",
        "    loss = np.exp(-ai*np.sign((ci == y_train)-0.5))\n",
        "    wls = wgt * loss\n",
        "    zi_pos = np.sum(wls[y_train==1])\n",
        "    zi_neg = np.sum(wls[y_train==0])\n",
        "\n",
        "    wls[y_train==1] *= 1/zi_pos\n",
        "    wls[y_train==0] *= 1/zi_neg\n",
        "\n",
        "    wgt = wls\n",
        "\n",
        "    print(\"iteration {:3d},TPR: {:.3f}, FPR: {:.3f}, AUC: {:.3f}\".format(i,tpr,fpr,auc))"
      ],
      "execution_count": 21,
      "outputs": [
        {
          "output_type": "stream",
          "text": [
            "iteration   0,TPR: 1.000, FPR: 0.240, AUC: 0.880\n",
            "iteration   1,TPR: 0.827, FPR: 0.154, AUC: 0.836\n",
            "iteration   2,TPR: 0.777, FPR: 0.081, AUC: 0.848\n",
            "iteration   3,TPR: 0.732, FPR: 0.129, AUC: 0.802\n",
            "iteration   4,TPR: 0.330, FPR: 0.014, AUC: 0.658\n",
            "iteration   5,TPR: 0.615, FPR: 0.431, AUC: 0.592\n",
            "iteration   6,TPR: 0.503, FPR: 0.018, AUC: 0.742\n",
            "iteration   7,TPR: 0.330, FPR: 0.017, AUC: 0.657\n",
            "iteration   8,TPR: 0.017, FPR: 0.058, AUC: 0.479\n",
            "iteration   9,TPR: 0.335, FPR: 0.028, AUC: 0.654\n",
            "iteration  10,TPR: 0.777, FPR: 0.185, AUC: 0.796\n",
            "iteration  11,TPR: 0.916, FPR: 0.194, AUC: 0.861\n",
            "iteration  12,TPR: 0.302, FPR: 0.177, AUC: 0.562\n",
            "iteration  13,TPR: 0.855, FPR: 0.458, AUC: 0.698\n",
            "iteration  14,TPR: 0.581, FPR: 0.595, AUC: 0.493\n",
            "iteration  15,TPR: 0.330, FPR: 0.035, AUC: 0.647\n",
            "iteration  16,TPR: 0.017, FPR: 0.058, AUC: 0.479\n",
            "iteration  17,TPR: 0.017, FPR: 0.058, AUC: 0.479\n",
            "iteration  18,TPR: 0.883, FPR: 0.476, AUC: 0.703\n",
            "iteration  19,TPR: 0.335, FPR: 0.028, AUC: 0.654\n"
          ],
          "name": "stdout"
        }
      ]
    },
    {
      "cell_type": "code",
      "metadata": {
        "id": "Y9M2u7Tg9JBV"
      },
      "source": [
        "cit = np.sign(1*(cit == 1)-0.5)"
      ],
      "execution_count": 22,
      "outputs": []
    },
    {
      "cell_type": "code",
      "metadata": {
        "id": "67vdVuqT7mpA",
        "outputId": "41baa475-0238-48ea-9d6a-c7675a79d665",
        "colab": {
          "base_uri": "https://localhost:8080/"
        }
      },
      "source": [
        "pred = np.array([])\n",
        "for i in range(0,iter):\n",
        "    x = 0\n",
        "    for j in range(0,i+1):\n",
        "        x = x + ait[j]*cit[j,:]\n",
        "    # print(x)\n",
        "    pred = np.append(pred, x)\n",
        "\n",
        "pred = np.sign(pred.reshape(iter,-1))\n",
        "\n",
        "print(pred)\n",
        "\n",
        "y_bst = np.array([])\n",
        "y_train_tmp = np.sign((y_train==1)-0.5)\n",
        "for i in range(0,iter):\n",
        "    tn, fp, fn, tp = confusion_matrix(y_train_tmp,pred[i,:]).ravel()\n",
        "    tpr = tp/(tp+fn)\n",
        "    fpr = fp/(tn+fp)\n",
        "    auc = (1+tpr-fpr)/2\n",
        "    y_bst = np.append(y_bst, auc)\n",
        "\n",
        "\n",
        "    print(\"iteration {:3d},TPR: {:.3f}, FPR: {:.3f}, AUC: {:.3f}\".format(i,tpr,fpr,auc))"
      ],
      "execution_count": 23,
      "outputs": [
        {
          "output_type": "stream",
          "text": [
            "[[ 1.  1. -1. ... -1. -1. -1.]\n",
            " [ 1.  1. -1. ... -1. -1. -1.]\n",
            " [-1.  1. -1. ... -1. -1. -1.]\n",
            " ...\n",
            " [-1.  1. -1. ... -1. -1. -1.]\n",
            " [-1.  1. -1. ... -1. -1. -1.]\n",
            " [-1.  1. -1. ... -1. -1. -1.]]\n",
            "iteration   0,TPR: 1.000, FPR: 0.240, AUC: 0.880\n",
            "iteration   1,TPR: 1.000, FPR: 0.240, AUC: 0.880\n",
            "iteration   2,TPR: 0.955, FPR: 0.049, AUC: 0.953\n",
            "iteration   3,TPR: 0.955, FPR: 0.049, AUC: 0.953\n",
            "iteration   4,TPR: 0.961, FPR: 0.055, AUC: 0.953\n",
            "iteration   5,TPR: 0.961, FPR: 0.051, AUC: 0.955\n",
            "iteration   6,TPR: 0.950, FPR: 0.036, AUC: 0.957\n",
            "iteration   7,TPR: 0.950, FPR: 0.036, AUC: 0.957\n",
            "iteration   8,TPR: 0.950, FPR: 0.035, AUC: 0.957\n",
            "iteration   9,TPR: 0.944, FPR: 0.033, AUC: 0.956\n",
            "iteration  10,TPR: 0.950, FPR: 0.035, AUC: 0.957\n",
            "iteration  11,TPR: 0.944, FPR: 0.036, AUC: 0.954\n",
            "iteration  12,TPR: 0.950, FPR: 0.034, AUC: 0.958\n",
            "iteration  13,TPR: 0.950, FPR: 0.036, AUC: 0.957\n",
            "iteration  14,TPR: 0.950, FPR: 0.035, AUC: 0.957\n",
            "iteration  15,TPR: 0.950, FPR: 0.030, AUC: 0.960\n",
            "iteration  16,TPR: 0.950, FPR: 0.029, AUC: 0.960\n",
            "iteration  17,TPR: 0.955, FPR: 0.027, AUC: 0.964\n",
            "iteration  18,TPR: 0.955, FPR: 0.028, AUC: 0.964\n",
            "iteration  19,TPR: 0.955, FPR: 0.027, AUC: 0.964\n"
          ],
          "name": "stdout"
        }
      ]
    },
    {
      "cell_type": "code",
      "metadata": {
        "id": "LVfkzbyX7mpC",
        "outputId": "0f523629-14dc-44cd-891f-62bb463d0ece",
        "colab": {
          "base_uri": "https://localhost:8080/",
          "height": 281
        }
      },
      "source": [
        "plt.plot(range(0,iter), x_bst)\n",
        "plt.title('Error from each boosting iterations')\n",
        "plt.show()"
      ],
      "execution_count": 24,
      "outputs": [
        {
          "output_type": "display_data",
          "data": {
            "image/png": "[encoded data removed]",
            "text/plain": [
              "<Figure size 432x288 with 1 Axes>"
            ]
          },
          "metadata": {
            "tags": [],
            "needs_background": "light"
          }
        }
      ]
    },
    {
      "cell_type": "code",
      "metadata": {
        "id": "Vb_L_LQK7mpF",
        "outputId": "701cdec1-e423-40ac-db6b-dd857a1561b5",
        "colab": {
          "base_uri": "https://localhost:8080/",
          "height": 281
        }
      },
      "source": [
        "plt.plot(range(0,iter), y_bst)\n",
        "plt.title(\"Error arising from averaging predictions\")\n",
        "plt.show()"
      ],
      "execution_count": 25,
      "outputs": [
        {
          "output_type": "display_data",
          "data": {
            "image/png": "[encoded data removed]",
            "text/plain": [
              "<Figure size 432x288 with 1 Axes>"
            ]
          },
          "metadata": {
            "tags": [],
            "needs_background": "light"
          }
        }
      ]
    },
    {
      "cell_type": "code",
      "metadata": {
        "id": "8eOLMX2f7mpH"
      },
      "source": [
        ""
      ],
      "execution_count": null,
      "outputs": []
    }
  ]
}