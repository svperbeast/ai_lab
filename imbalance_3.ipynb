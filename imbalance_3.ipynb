{
  "nbformat": 4,
  "nbformat_minor": 0,
  "metadata": {
    "language_info": {
      "codemirror_mode": {
        "name": "ipython",
        "version": 3
      },
      "file_extension": ".py",
      "mimetype": "text/x-python",
      "name": "python",
      "nbconvert_exporter": "python",
      "pygments_lexer": "ipython3",
      "version": "3.6.7-final"
    },
    "orig_nbformat": 2,
    "kernelspec": {
      "name": "Python 3.6.7 64-bit",
      "display_name": "Python 3.6.7 64-bit",
      "metadata": {
        "interpreter": {
          "hash": "3e3097c6c5ce7a7c3a19e8af3cbbedad6bd4b76b05ed4ed6e1c1b9103e21364b"
        }
      }
    },
    "colab": {
      "name": "imbalance_3.ipynb",
      "provenance": [],
      "toc_visible": true,
      "include_colab_link": true
    }
  },
  "cells": [
    {
      "cell_type": "markdown",
      "metadata": {
        "id": "view-in-github",
        "colab_type": "text"
      },
      "source": [
        "<a href=\"https://colab.research.google.com/github/svperbeast/ai_lab/blob/main/imbalance_3.ipynb\" target=\"_parent\"><img src=\"https://colab.research.google.com/assets/colab-badge.svg\" alt=\"Open In Colab\"/></a>"
      ]
    },
    {
      "cell_type": "code",
      "metadata": {
        "id": "tcpqk88O6KAD"
      },
      "source": [
        "import numpy as np\n",
        "import matplotlib.pyplot as plt\n",
        "import pandas as pd\n",
        "from collections import Counter\n",
        "from sklearn.tree import DecisionTreeClassifier\n",
        "from sklearn.model_selection import StratifiedShuffleSplit\n",
        "from sklearn.metrics import confusion_matrix\n",
        "\n",
        "from utils import SMOTE, RUS, decision_plot"
      ],
      "execution_count": 1,
      "outputs": []
    },
    {
      "cell_type": "code",
      "metadata": {
        "id": "bAF2QUyF6KAH"
      },
      "source": [
        "bank = pd.read_csv('Personal Loan.csv')\n",
        "input_idx = [1,2,3,5,6,7,8,10,11,12,13]\n",
        "target_idx = 9\n",
        "\n",
        "X = np.array(bank.iloc[:, input_idx])\n",
        "y = np.array(bank.iloc[:, target_idx])\n",
        "\n",
        "X = X[y < 2,:]\n",
        "y = y[y < 2]"
      ],
      "execution_count": 2,
      "outputs": []
    },
    {
      "cell_type": "markdown",
      "metadata": {
        "id": "sJ_9Uhyd6KAJ"
      },
      "source": [
        "## Stratified Random Partitioning\n"
      ]
    },
    {
      "cell_type": "code",
      "metadata": {
        "id": "Dquxo3cj6KAK"
      },
      "source": [
        "sss = StratifiedShuffleSplit(n_splits=1,train_size=0.7)\n",
        "\n",
        "for train_index, test_index in sss.split(X,y):\n",
        "    X_train, X_test = X[train_index], X[test_index]\n",
        "    y_train, y_test = y[train_index], y[test_index]"
      ],
      "execution_count": 3,
      "outputs": []
    },
    {
      "cell_type": "markdown",
      "metadata": {
        "id": "_5KOMYXN6KAM"
      },
      "source": [
        "## model training (original)"
      ]
    },
    {
      "cell_type": "code",
      "metadata": {
        "id": "f29kpBjs6KAM",
        "outputId": "dd3b4732-b504-45e1-c1ae-e12244c78aff",
        "colab": {
          "base_uri": "https://localhost:8080/"
        }
      },
      "source": [
        "model = DecisionTreeClassifier()\n",
        "model.fit(X_train,y_train)\n",
        "\n",
        "pred_y = model.predict(X_test)\n",
        "tn, fp, fn, tp = confusion_matrix(y_true=y_test,y_pred=pred_y).ravel()\n",
        "tpr = tp/(tp+fn)\n",
        "fpr = fp/(tn+fp)\n",
        "auc = (1+tpr-fpr)/2\n",
        "\n",
        "print(\"TPR: {:.3f}, FPR: {:.3f}, AUC: {:.3f}\".format(tpr,fpr,auc))"
      ],
      "execution_count": 4,
      "outputs": [
        {
          "output_type": "stream",
          "text": [
            "TPR: 0.857, FPR: 0.007, AUC: 0.925\n"
          ],
          "name": "stdout"
        }
      ]
    },
    {
      "cell_type": "markdown",
      "metadata": {
        "id": "NZJgCoAY6KAP"
      },
      "source": [
        "## model training (SMOTE)"
      ]
    },
    {
      "cell_type": "code",
      "metadata": {
        "id": "G-nUVnZ76KAP",
        "outputId": "5a4ab3a4-ae35-4695-b743-a8e812955047",
        "colab": {
          "base_uri": "https://localhost:8080/"
        }
      },
      "source": [
        "c = Counter(y_train)\n",
        "ir = np.int(np.floor(c[0]/c[1]))\n",
        "\n",
        "smt = SMOTE(X_train,y_train,K=5,dup_size=ir)\n",
        "smt_X = np.vstack((X,smt))\n",
        "smt_y = np.concatenate((y,np.ones(smt.shape[0])))\n",
        "\n",
        "model = DecisionTreeClassifier()\n",
        "model.fit(smt_X,smt_y)\n",
        "\n",
        "pred_y = model.predict(X_test)\n",
        "tn, fp, fn, tp = confusion_matrix(y_true=y_test,y_pred=pred_y).ravel()\n",
        "tpr = tp/(tp+fn)\n",
        "fpr = fp/(tn+fp)\n",
        "auc = (1+tpr-fpr)/2\n",
        "\n",
        "print(\"TPR: {:.3f}, FPR: {:.3f}, AUC: {:.3f}\".format(tpr,fpr,auc))"
      ],
      "execution_count": 5,
      "outputs": [
        {
          "output_type": "stream",
          "text": [
            "TPR: 1.000, FPR: 0.000, AUC: 1.000\n"
          ],
          "name": "stdout"
        }
      ]
    },
    {
      "cell_type": "markdown",
      "metadata": {
        "id": "VJ-iCxOy6KAS"
      },
      "source": [
        "## model training (RUS)"
      ]
    },
    {
      "cell_type": "code",
      "metadata": {
        "id": "89DM5js_6KAS",
        "outputId": "4391ccac-3b7f-4fb0-9b8f-d17dd9a0d30c",
        "colab": {
          "base_uri": "https://localhost:8080/"
        }
      },
      "source": [
        "rus_X,rus_y = RUS(X,y,p=0.5)\n",
        "\n",
        "model = DecisionTreeClassifier()\n",
        "model.fit(rus_X,rus_y)\n",
        "\n",
        "pred_y = model.predict(X_test)\n",
        "tn, fp, fn, tp = confusion_matrix(y_true=y_test,y_pred=pred_y).ravel()\n",
        "tpr = tp/(tp+fn)\n",
        "fpr = fp/(tn+fp)\n",
        "auc = (1+tpr-fpr)/2\n",
        "\n",
        "print(\"TPR: {:.3f}, FPR: {:.3f}, AUC: {:.3f}\".format(tpr,fpr,auc))"
      ],
      "execution_count": 6,
      "outputs": [
        {
          "output_type": "stream",
          "text": [
            "TPR: 1.000, FPR: 0.013, AUC: 0.993\n"
          ],
          "name": "stdout"
        }
      ]
    },
    {
      "cell_type": "markdown",
      "metadata": {
        "id": "Ec65YGsH6KAV"
      },
      "source": [
        "## model training (Cost sensitive)"
      ]
    },
    {
      "cell_type": "code",
      "metadata": {
        "id": "DN8qp8iV6KAV",
        "outputId": "4425f4d4-7303-4b8c-ab83-2c6528f3225c",
        "colab": {
          "base_uri": "https://localhost:8080/"
        }
      },
      "source": [
        "model = DecisionTreeClassifier(class_weight=\"balanced\")\n",
        "model.fit(X_train,y_train)\n",
        "\n",
        "pred_y = model.predict(X_test)\n",
        "tn, fp, fn, tp = confusion_matrix(y_true=y_test,y_pred=pred_y).ravel()\n",
        "tpr = tp/(tp+fn)\n",
        "fpr = fp/(tn+fp)\n",
        "auc = (1+tpr-fpr)/2\n",
        "\n",
        "print(\"TPR: {:.3f}, FPR: {:.3f}, AUC: {:.3f}\".format(tpr,fpr,auc))"
      ],
      "execution_count": 7,
      "outputs": [
        {
          "output_type": "stream",
          "text": [
            "TPR: 0.883, FPR: 0.010, AUC: 0.936\n"
          ],
          "name": "stdout"
        }
      ]
    }
  ]
}