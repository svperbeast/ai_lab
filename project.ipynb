{
  "nbformat": 4,
  "nbformat_minor": 0,
  "metadata": {
    "colab": {
      "name": "project.ipynb",
      "provenance": [],
      "authorship_tag": "ABX9TyMVBXshkX4acdJy3lgnrBcy",
      "include_colab_link": true
    },
    "kernelspec": {
      "name": "python3",
      "display_name": "Python 3"
    }
  },
  "cells": [
    {
      "cell_type": "markdown",
      "metadata": {
        "id": "view-in-github",
        "colab_type": "text"
      },
      "source": [
        "<a href=\"https://colab.research.google.com/github/svperbeast/ai_lab/blob/main/project.ipynb\" target=\"_parent\"><img src=\"https://colab.research.google.com/assets/colab-badge.svg\" alt=\"Open In Colab\"/></a>"
      ]
    },
    {
      "cell_type": "markdown",
      "metadata": {
        "id": "IrazRQh70VXD"
      },
      "source": [
        "# Project"
      ]
    },
    {
      "cell_type": "markdown",
      "metadata": {
        "id": "61z-TuRI6cFZ"
      },
      "source": [
        "## FCFS(First Come First Served) Job Scheduling"
      ]
    },
    {
      "cell_type": "code",
      "metadata": {
        "id": "XEsLIXr86YzO"
      },
      "source": [
        "import copy\n",
        "import numpy as np\n",
        "import matplotlib.pyplot as plt\n",
        "from matplotlib.backends.backend_agg import FigureCanvasAgg as FigureCanvas\n",
        "from matplotlib.figure import Figure\n",
        "\n",
        "class Process:\n",
        "  def __init__(self, sw_type, requested_n_cores, submit_time, burst_time):\n",
        "    self.sw_type = sw_type\n",
        "    self.requested_n_cores = requested_n_cores\n",
        "    self.submit_time = submit_time\n",
        "    self.burst_time = burst_time\n",
        "    self.start_time = 0\n",
        "    self.end_time = 0\n",
        "    self.wait_time = 0\n",
        "    self.used_cores = []\n",
        "\n",
        "  def __str__(self):\n",
        "    s = ('Process sw_type {} requested_n_cores {}({}) submit_time {} ' +\n",
        "         'burst_time {} start_time {} end_time {} wait_time {}')\n",
        "    return s.format(self.sw_type, self.requested_n_cores, self.used_cores,\n",
        "                    self.submit_time, self.burst_time,\n",
        "                    self.start_time, self.end_time, self.wait_time)\n",
        "\n",
        "class FCFS:\n",
        "  def __init__(self, n_cores):\n",
        "    self.n_cores = n_cores\n",
        "\n",
        "  def _get_total_wait_time(self, procs):\n",
        "    total_wait_time = 0\n",
        "    for proc in procs:\n",
        "      total_wait_time += proc.wait_time\n",
        "    \n",
        "    return total_wait_time\n",
        "  \n",
        "  def _get_gantt_plot(self, procs):\n",
        "    ytick = 5\n",
        "    \n",
        "    fig, gnt = plt.subplots()\n",
        "\n",
        "    gnt.set_ylim(0, (self.n_cores + 1) * ytick)\n",
        "    gnt.set_xlabel('milliseconds since start')\n",
        "    gnt.set_ylabel('cores')\n",
        "\n",
        "\n",
        "    gnt.set_yticks(list(range(ytick, (self.n_cores * ytick) + ytick, ytick)))\n",
        "    gnt.set_yticklabels(list(map(str, list(range(1, self.n_cores + 1)))))\n",
        "\n",
        "    gnt.grid(True)\n",
        "\n",
        "    for proc in procs:\n",
        "      start_time = proc.start_time\n",
        "      duration = proc.burst_time\n",
        "\n",
        "      for core in proc.used_cores:\n",
        "        y = ((core + 1) * ytick) - 2\n",
        "        w = 3\n",
        "        gnt.broken_barh([(start_time, duration)], (y, w))\n",
        "\n",
        "    canvas = FigureCanvas(fig)\n",
        "    canvas.draw()\n",
        "    image = canvas.buffer_rgba()\n",
        "    return np.asarray(image)\n",
        "\n",
        "  def run(self, input_procs):\n",
        "    \"\"\"\n",
        "    returns handled process list, total wait_time and gantt plot (numpy array).\n",
        "    \"\"\"\n",
        "    if len(input_procs) == 0:\n",
        "      raise Exception('the number of input_procs is 0.')\n",
        "\n",
        "    procs = copy.copy(input_procs)\n",
        "    handled_procs = []\n",
        "\n",
        "    core_status = [0] * self.n_cores\n",
        "    cur_time = 0\n",
        "    \n",
        "    # handle the first process\n",
        "    proc = procs[0]\n",
        "    n_cores = proc.requested_n_cores\n",
        "    if n_cores > self.n_cores:\n",
        "      ncores = self.n_cores\n",
        "\n",
        "    proc.end_time = proc.burst_time\n",
        "    proc.start_time = cur_time\n",
        "    proc.wait_time = proc.start_time - proc.submit_time\n",
        "\n",
        "    used_cores = []\n",
        "    for i in range(len(core_status)):\n",
        "      if n_cores == 0:\n",
        "        break\n",
        "\n",
        "      if core_status[i] <= cur_time:\n",
        "        core_status[i] += proc.end_time\n",
        "        used_cores.append(i)\n",
        "        n_cores -= 1\n",
        "\n",
        "    proc.used_cores = used_cores\n",
        "\n",
        "    procs.remove(proc)\n",
        "    handled_procs.append(proc)\n",
        "\n",
        "    # handle the rest procsesses\n",
        "    while len(procs) > 0:\n",
        "      proc = procs[0]\n",
        "\n",
        "      n_cores = proc.requested_n_cores\n",
        "      if n_cores > self.n_cores:\n",
        "        ncores = self.n_cores\n",
        "      \n",
        "      n_avail_cores = []\n",
        "      for i in range(len(core_status)):\n",
        "        if core_status[i] <= cur_time:\n",
        "          n_avail_cores.append(i)\n",
        "      \n",
        "      if n_cores <= len(n_avail_cores):\n",
        "        used_cores = []\n",
        "        for ci in n_avail_cores:\n",
        "          if n_cores == 0:\n",
        "            break\n",
        "\n",
        "          core_status[ci] += proc.burst_time\n",
        "          used_cores.append(ci)\n",
        "          n_cores -= 1\n",
        "\n",
        "        proc.end_time = cur_time + proc.burst_time\n",
        "        proc.start_time = cur_time\n",
        "        proc.wait_time = proc.start_time - proc.submit_time\n",
        "        proc.used_cores = used_cores\n",
        "\n",
        "        procs.remove(proc)\n",
        "        handled_procs.append(proc)\n",
        "      else:\n",
        "        cur_time += max(core_status) + 1\n",
        "\n",
        "    image = self._get_gantt_plot(handled_procs)\n",
        "    total_wait_time = self._get_total_wait_time(handled_procs)\n",
        "    return handled_procs, total_wait_time, image"
      ],
      "execution_count": 53,
      "outputs": []
    },
    {
      "cell_type": "code",
      "metadata": {
        "id": "4Rw6Bz_uZmkD",
        "outputId": "6bc3db8f-1edc-415f-faac-3a0f627be73d",
        "colab": {
          "base_uri": "https://localhost:8080/",
          "height": 389
        }
      },
      "source": [
        "sched = FCFS(8)\n",
        "procs = []\n",
        "procs.append(Process(1, 1, 0, 100))\n",
        "procs.append(Process(1, 1, 0, 100))\n",
        "procs.append(Process(2, 8, 1, 400))\n",
        "\n",
        "procs, tot_wt, image = sched.run(procs)\n",
        "for p in procs:\n",
        "  print(p)\n",
        "print('total wait time: {}'.format(tot_wt))\n",
        "print(image.shape)\n",
        "#plt.imsave('gantt.png', image)"
      ],
      "execution_count": 62,
      "outputs": [
        {
          "output_type": "stream",
          "text": [
            "Process sw_type 1 requested_n_cores 1([0]) submit_time 0 burst_time 100 start_time 0 end_time 100 wait_time 0\n",
            "Process sw_type 1 requested_n_cores 1([1]) submit_time 0 burst_time 100 start_time 0 end_time 100 wait_time 0\n",
            "Process sw_type 2 requested_n_cores 8([0, 1, 2, 3, 4, 5, 6, 7]) submit_time 1 burst_time 400 start_time 101 end_time 501 wait_time 100\n",
            "total wait time: 100\n",
            "(288, 432, 4)\n"
          ],
          "name": "stdout"
        },
        {
          "output_type": "display_data",
          "data": {
            "image/png": "[encoded data removed]",
            "text/plain": [
              "<Figure size 432x288 with 1 Axes>"
            ]
          },
          "metadata": {
            "tags": [],
            "needs_background": "light"
          }
        }
      ]
    },
    {
      "cell_type": "code",
      "metadata": {
        "id": "qajbBBNKcjom"
      },
      "source": [
        ""
      ],
      "execution_count": null,
      "outputs": []
    }
  ]
}