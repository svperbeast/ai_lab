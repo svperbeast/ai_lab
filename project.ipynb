{
  "nbformat": 4,
  "nbformat_minor": 0,
  "metadata": {
    "colab": {
      "name": "project.ipynb",
      "provenance": [],
      "authorship_tag": "ABX9TyN0KxfTfNo9967vbf5yNiaF",
      "include_colab_link": true
    },
    "kernelspec": {
      "name": "python3",
      "display_name": "Python 3"
    }
  },
  "cells": [
    {
      "cell_type": "markdown",
      "metadata": {
        "id": "view-in-github",
        "colab_type": "text"
      },
      "source": [
        "<a href=\"https://colab.research.google.com/github/svperbeast/ai_lab/blob/main/project.ipynb\" target=\"_parent\"><img src=\"https://colab.research.google.com/assets/colab-badge.svg\" alt=\"Open In Colab\"/></a>"
      ]
    },
    {
      "cell_type": "markdown",
      "metadata": {
        "id": "61z-TuRI6cFZ"
      },
      "source": [
        "## FCFS(First Come First Served) CPU Scheduling"
      ]
    },
    {
      "cell_type": "code",
      "metadata": {
        "id": "XEsLIXr86YzO"
      },
      "source": [
        "import copy\n",
        "import matplotlib.pyplot as plt\n",
        "\n",
        "class Process:\n",
        "  def __init__(self, id, requested_n_cores, burst_time):\n",
        "    self.id = id\n",
        "    self.requested_n_cores = requested_n_cores\n",
        "    self.burst_time = burst_time\n",
        "    self.response_time = 0\n",
        "    self.return_time = 0\n",
        "\n",
        "  def __str__(self):\n",
        "    s = ('Process id {} requested_n_cores {} burst_time {} response_time {} ' +\n",
        "        'return_time {}')\n",
        "    return s.format(self.id, self.requested_n_cores, self.burst_time,\n",
        "                    self.response_time, self.return_time)\n",
        "\n",
        "class FCFS:\n",
        "  def __init__(self, n_cores):\n",
        "    self.n_cores = n_cores\n",
        "\n",
        "  def run(self, input_procs):\n",
        "    if len(input_procs) == 0:\n",
        "      raise Exception('the number of input_procs is 0.')\n",
        "\n",
        "    procs = copy.copy(input_procs)\n",
        "    handled_procs = []\n",
        "\n",
        "    core_status = [0] * self.n_cores\n",
        "    cur_time = 0\n",
        "    \n",
        "    # handle the first process\n",
        "    proc = procs[0]\n",
        "    n_cores = proc.requested_n_cores\n",
        "    if n_cores > self.n_cores:\n",
        "      ncores = self.n_cores\n",
        "\n",
        "    proc.return_time = proc.burst_time\n",
        "    proc.response_time = 0\n",
        "\n",
        "    for i in range(len(core_status)):\n",
        "       core_status[i] += proc.return_time\n",
        "\n",
        "    procs.remove(proc)\n",
        "    handled_procs.append(proc)\n",
        "\n",
        "    while len(procs) > 0:\n",
        "      proc = procs[0]\n",
        "\n",
        "      n_cores = proc.requested_n_cores\n",
        "      if n_cores > self.n_cores:\n",
        "        ncores = self.n_cores\n",
        "      \n",
        "      n_avail_cores = []\n",
        "      for i in range(len(core_status)):\n",
        "        if core_status[i] <= cur_time:\n",
        "          n_avail_cores.append(i)\n",
        "      \n",
        "      if n_cores <= len(n_avail_cores):\n",
        "        for ci in n_avail_cores:\n",
        "          core_status[ci] += proc.return_time\n",
        "\n",
        "        proc.return_time = cur_time + proc.burst_time\n",
        "        proc.response_time = cur_time\n",
        "\n",
        "        procs.remove(proc)\n",
        "        handled_procs.append(proc)\n",
        "      else:\n",
        "        cur_time += max(core_status)\n",
        "        print('update cur_time: {}'.format(cur_time))\n",
        "\n",
        "    print('done!')\n",
        "    return handled_procs"
      ],
      "execution_count": 22,
      "outputs": []
    },
    {
      "cell_type": "code",
      "metadata": {
        "id": "4Rw6Bz_uZmkD",
        "outputId": "741479f9-1a01-46f2-c258-23c65e56981e",
        "colab": {
          "base_uri": "https://localhost:8080/"
        }
      },
      "source": [
        "sched = FCFS(8)\n",
        "procs = []\n",
        "procs.append(Process(1, 1, 100))\n",
        "procs.append(Process(2, 8, 400))\n",
        "\n",
        "ret = sched.run(procs)\n",
        "for r in ret:\n",
        "  print(r)"
      ],
      "execution_count": 23,
      "outputs": [
        {
          "output_type": "stream",
          "text": [
            "update cur_time: 100\n",
            "done!\n",
            "Process id 1 requested_n_cores 1 burst_time 100 response_time 0 return_time 100\n",
            "Process id 2 requested_n_cores 8 burst_time 400 response_time 100 return_time 500\n"
          ],
          "name": "stdout"
        }
      ]
    },
    {
      "cell_type": "code",
      "metadata": {
        "id": "qajbBBNKcjom"
      },
      "source": [
        ""
      ],
      "execution_count": null,
      "outputs": []
    }
  ]
}