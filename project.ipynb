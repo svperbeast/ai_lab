{
  "nbformat": 4,
  "nbformat_minor": 0,
  "metadata": {
    "colab": {
      "name": "project.ipynb",
      "provenance": [],
      "authorship_tag": "ABX9TyNaZaWr/bO9SNB51uJ39fcV",
      "include_colab_link": true
    },
    "kernelspec": {
      "name": "python3",
      "display_name": "Python 3"
    }
  },
  "cells": [
    {
      "cell_type": "markdown",
      "metadata": {
        "id": "view-in-github",
        "colab_type": "text"
      },
      "source": [
        "<a href=\"https://colab.research.google.com/github/svperbeast/ai_lab/blob/main/project.ipynb\" target=\"_parent\"><img src=\"https://colab.research.google.com/assets/colab-badge.svg\" alt=\"Open In Colab\"/></a>"
      ]
    },
    {
      "cell_type": "code",
      "metadata": {
        "id": "WHBLxYBntGSK"
      },
      "source": [
        "import copy\n",
        "import matplotlib.pyplot as plt"
      ],
      "execution_count": 1,
      "outputs": []
    },
    {
      "cell_type": "markdown",
      "metadata": {
        "id": "61z-TuRI6cFZ"
      },
      "source": [
        "## FCFS(First Come First Served) Job Scheduling"
      ]
    },
    {
      "cell_type": "code",
      "metadata": {
        "id": "XEsLIXr86YzO"
      },
      "source": [
        "class Process:\n",
        "  def __init__(self, sw_type, requested_n_cores, submit_time, burst_time):\n",
        "    self.sw_type = sw_type\n",
        "    self.requested_n_cores = requested_n_cores\n",
        "    self.submit_time = submit_time\n",
        "    self.burst_time = burst_time\n",
        "    self.start_time = 0\n",
        "    self.end_time = 0\n",
        "    self.turnaround_time = 0\n",
        "\n",
        "  def __str__(self):\n",
        "    s = ('Process sw_type {} requested_n_cores {} submit_time {} ' +\n",
        "         'burst_time {} start_time {} end_time {} turnaround_time {}')\n",
        "    return s.format(self.sw_type, self.requested_n_cores,\n",
        "                    self.submit_time, self.burst_time,\n",
        "                    self.start_time, self.end_time, self.turnaround_time)\n",
        "\n",
        "class FCFS:\n",
        "  def __init__(self, n_cores):\n",
        "    self.n_cores = n_cores\n",
        "\n",
        "  def run(self, input_procs):\n",
        "    if len(input_procs) == 0:\n",
        "      raise Exception('the number of input_procs is 0.')\n",
        "\n",
        "    procs = copy.copy(input_procs)\n",
        "    handled_procs = []\n",
        "\n",
        "    core_status = [0] * self.n_cores\n",
        "    cur_time = 0\n",
        "    \n",
        "    # handle the first process\n",
        "    proc = procs[0]\n",
        "    n_cores = proc.requested_n_cores\n",
        "    if n_cores > self.n_cores:\n",
        "      ncores = self.n_cores\n",
        "\n",
        "    proc.end_time = proc.burst_time\n",
        "    proc.start_time = cur_time\n",
        "    proc.turnaround_time = proc.start_time - proc.submit_time\n",
        "\n",
        "    for i in range(len(core_status)):\n",
        "       core_status[i] += proc.end_time\n",
        "\n",
        "    procs.remove(proc)\n",
        "    handled_procs.append(proc)\n",
        "\n",
        "    while len(procs) > 0:\n",
        "      proc = procs[0]\n",
        "\n",
        "      n_cores = proc.requested_n_cores\n",
        "      if n_cores > self.n_cores:\n",
        "        ncores = self.n_cores\n",
        "      \n",
        "      n_avail_cores = []\n",
        "      for i in range(len(core_status)):\n",
        "        if core_status[i] <= cur_time:\n",
        "          n_avail_cores.append(i)\n",
        "      \n",
        "      if n_cores <= len(n_avail_cores):\n",
        "        for ci in n_avail_cores:\n",
        "          core_status[ci] += proc.burst_time\n",
        "\n",
        "        proc.end_time = cur_time + proc.burst_time\n",
        "        proc.start_time = cur_time\n",
        "        proc.turnaround_time = proc.start_time - proc.submit_time\n",
        "\n",
        "        procs.remove(proc)\n",
        "        handled_procs.append(proc)\n",
        "      else:\n",
        "        cur_time += max(core_status) + 1\n",
        "        print('update cur_time: {}'.format(cur_time))\n",
        "\n",
        "    print('done!')\n",
        "    return handled_procs"
      ],
      "execution_count": 5,
      "outputs": []
    },
    {
      "cell_type": "code",
      "metadata": {
        "id": "4Rw6Bz_uZmkD",
        "outputId": "320b9c60-1992-401d-8105-8c1c8e22a352",
        "colab": {
          "base_uri": "https://localhost:8080/"
        }
      },
      "source": [
        "sched = FCFS(8)\n",
        "procs = []\n",
        "procs.append(Process(1, 1, 0, 100))\n",
        "procs.append(Process(2, 8, 1, 400))\n",
        "\n",
        "ret = sched.run(procs)\n",
        "for r in ret:\n",
        "  print(r)"
      ],
      "execution_count": 6,
      "outputs": [
        {
          "output_type": "stream",
          "text": [
            "update cur_time: 101\n",
            "done!\n",
            "Process sw_type 1 requested_n_cores 1 submit_time 0 burst_time 100 start_time 0 end_time 100 turnaround_time 0\n",
            "Process sw_type 2 requested_n_cores 8 submit_time 1 burst_time 400 start_time 101 end_time 501 turnaround_time 100\n"
          ],
          "name": "stdout"
        }
      ]
    },
    {
      "cell_type": "code",
      "metadata": {
        "id": "qajbBBNKcjom"
      },
      "source": [
        ""
      ],
      "execution_count": null,
      "outputs": []
    }
  ]
}